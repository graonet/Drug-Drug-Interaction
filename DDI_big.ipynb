{
 "cells": [
  {
   "cell_type": "code",
   "execution_count": 1,
   "id": "9e0ab360",
   "metadata": {},
   "outputs": [],
   "source": [
    "import os\n",
    "import deepchem as dc\n",
    "import numpy as np\n",
    "from tensorflow import keras\n",
    "from tensorflow_addons.optimizers import AdamW"
   ]
  },
  {
   "cell_type": "code",
   "execution_count": 2,
   "id": "822e7910",
   "metadata": {},
   "outputs": [],
   "source": [
    "featurizer = dc.feat.CircularFingerprint()"
   ]
  },
  {
   "cell_type": "code",
   "execution_count": 3,
   "id": "13ba976a",
   "metadata": {},
   "outputs": [
    {
     "name": "stderr",
     "output_type": "stream",
     "text": [
      "2022-06-30 12:38:27.066822: I tensorflow/core/platform/cpu_feature_guard.cc:151] This TensorFlow binary is optimized with oneAPI Deep Neural Network Library (oneDNN) to use the following CPU instructions in performance-critical operations:  AVX2 FMA\n",
      "To enable them in other operations, rebuild TensorFlow with the appropriate compiler flags.\n"
     ]
    }
   ],
   "source": [
    "model = keras.models.load_model('/Users/vicent/Documents/Consulting/AIPharma/Python_Code/DDI/drug_interaction/model', custom_objects={'AdamW': AdamW})"
   ]
  },
  {
   "cell_type": "code",
   "execution_count": 4,
   "id": "df9576ce",
   "metadata": {},
   "outputs": [],
   "source": [
    "def invoke_model(drugs: np.array) -> [float]:\n",
    "    x = np.transpose(drugs)\n",
    "    x = x.reshape(1, 64, 64, 1)\n",
    "    scores = model.predict(x) * 100\n",
    "    return scores"
   ]
  },
  {
   "cell_type": "code",
   "execution_count": 5,
   "id": "c7ac5066",
   "metadata": {},
   "outputs": [],
   "source": [
    "def run_inference(smile1, smile2):\n",
    "    drug1 = featurizer(smile1)\n",
    "    drug2 = featurizer(smile2)\n",
    "    drugs = np.array([np.transpose(drug1), np.transpose(drug2)])\n",
    "    return invoke_model(drugs)"
   ]
  },
  {
   "cell_type": "code",
   "execution_count": 6,
   "id": "6f8f2a3b",
   "metadata": {},
   "outputs": [],
   "source": [
    "pwd = '/Users/vicent/Documents/Consulting/AIPharma/cellvera_drugbank_CSV/'"
   ]
  },
  {
   "cell_type": "code",
   "execution_count": 7,
   "id": "900928fe",
   "metadata": {},
   "outputs": [],
   "source": [
    "import pandas as pd\n",
    "df_drugs = pd.read_csv(pwd+'drugs2.csv', usecols=['id','drugbank_id', 'name', 'moldb_smiles'], dtype={'moldb_smiles':'string'})"
   ]
  },
  {
   "cell_type": "code",
   "execution_count": 8,
   "id": "c8889eec",
   "metadata": {},
   "outputs": [],
   "source": [
    "drugs = df_drugs['moldb_smiles']\n",
    "drugs = drugs.dropna()\n",
    "X_drugs = drugs.to_numpy()"
   ]
  },
  {
   "cell_type": "code",
   "execution_count": 9,
   "id": "329e0ff0",
   "metadata": {},
   "outputs": [],
   "source": [
    "res = run_inference(X_drugs[0], X_drugs[1])"
   ]
  },
  {
   "cell_type": "code",
   "execution_count": 10,
   "id": "e673d90e",
   "metadata": {},
   "outputs": [
    {
     "data": {
      "text/plain": [
       "0.04339724"
      ]
     },
     "execution_count": 10,
     "metadata": {},
     "output_type": "execute_result"
    }
   ],
   "source": [
    "res[0][8]"
   ]
  },
  {
   "cell_type": "code",
   "execution_count": 11,
   "id": "fd292918",
   "metadata": {},
   "outputs": [],
   "source": [
    "favi = ['NC(=O)C1=NC(F)=CN=C1O']\n",
    "favi = ['[H][C@@]12OC\\C3=C/C=C/[C@H](C)[C@H](O[C@H]4C[C@H](OC)[C@@H](O[C@H]5C[C@H](OC)[C@@H](O)[C@H](C)O5)[C@H](C)O4)\\C(C)=C\\C[C@]4([H])C[C@@]([H])(C[C@]5(CC[C@H](C)[C@]([H])(O5)C(C)C)O4)OC(=O)[C@]([H])(C=C(C)[C@H]1O)[C@@]23O.[H][C@@]12OC\\C3=C/C=C/[C@H](C)[C@H](O[C@H]4C[C@H](OC)[C@@H](O[C@H]5C[C@H](OC)[C@@H](O)[C@H](C)O5)[C@H](C)O4)\\C(C)=C\\C[C@]4([H])C[C@@]([H])(C[C@]5(CC[C@H](C)[C@]([H])(O5)[C@@H](C)CC)O4)OC(=O)[C@]([H])(C=C(C)[C@H]1O)[C@@]23O']"
   ]
  },
  {
   "cell_type": "code",
   "execution_count": 12,
   "id": "dfadec46",
   "metadata": {},
   "outputs": [
    {
     "name": "stderr",
     "output_type": "stream",
     "text": [
      "RDKit ERROR: [12:38:49] Explicit valence for atom # 0 N, 4, is greater than permitted\n",
      "[12:38:49] Explicit valence for atom # 0 N, 4, is greater than permitted\n",
      "Failed to featurize datapoint 0, None. Appending empty array\n",
      "Exception message: Python argument types in\n",
      "    rdkit.Chem.rdmolfiles.CanonicalRankAtoms(NoneType)\n",
      "did not match C++ signature:\n",
      "    CanonicalRankAtoms(RDKit::ROMol mol, bool breakTies=True, bool includeChirality=True, bool includeIsotopes=True)\n",
      "/var/folders/cw/5_ch96k50gq9g9b990wykg0m0000gn/T/ipykernel_77805/26363472.py:4: VisibleDeprecationWarning: Creating an ndarray from ragged nested sequences (which is a list-or-tuple of lists-or-tuples-or ndarrays with different lengths or shapes) is deprecated. If you meant to do this, you must specify 'dtype=object' when creating the ndarray.\n",
      "  drugs = np.array([np.transpose(drug1), np.transpose(drug2)])\n"
     ]
    },
    {
     "name": "stdout",
     "output_type": "stream",
     "text": [
      "RDKIT issue\n"
     ]
    },
    {
     "name": "stderr",
     "output_type": "stream",
     "text": [
      "RDKit ERROR: [12:38:49] Explicit valence for atom # 0 N, 4, is greater than permitted\n",
      "[12:38:49] Explicit valence for atom # 0 N, 4, is greater than permitted\n",
      "Failed to featurize datapoint 0, None. Appending empty array\n",
      "Exception message: Python argument types in\n",
      "    rdkit.Chem.rdmolfiles.CanonicalRankAtoms(NoneType)\n",
      "did not match C++ signature:\n",
      "    CanonicalRankAtoms(RDKit::ROMol mol, bool breakTies=True, bool includeChirality=True, bool includeIsotopes=True)\n"
     ]
    },
    {
     "name": "stdout",
     "output_type": "stream",
     "text": [
      "RDKIT issue\n"
     ]
    },
    {
     "name": "stderr",
     "output_type": "stream",
     "text": [
      "RDKit ERROR: [12:39:09] Explicit valence for atom # 0 N, 4, is greater than permitted\n",
      "[12:39:09] Explicit valence for atom # 0 N, 4, is greater than permitted\n",
      "Failed to featurize datapoint 0, None. Appending empty array\n",
      "Exception message: Python argument types in\n",
      "    rdkit.Chem.rdmolfiles.CanonicalRankAtoms(NoneType)\n",
      "did not match C++ signature:\n",
      "    CanonicalRankAtoms(RDKit::ROMol mol, bool breakTies=True, bool includeChirality=True, bool includeIsotopes=True)\n"
     ]
    },
    {
     "name": "stdout",
     "output_type": "stream",
     "text": [
      "RDKIT issue\n",
      "[1.1723638, 4.745929]\n"
     ]
    },
    {
     "name": "stderr",
     "output_type": "stream",
     "text": [
      "RDKit ERROR: [12:39:49] Explicit valence for atom # 13 Cl, 5, is greater than permitted\n",
      "[12:39:49] Explicit valence for atom # 13 Cl, 5, is greater than permitted\n",
      "Failed to featurize datapoint 0, None. Appending empty array\n",
      "Exception message: Python argument types in\n",
      "    rdkit.Chem.rdmolfiles.CanonicalRankAtoms(NoneType)\n",
      "did not match C++ signature:\n",
      "    CanonicalRankAtoms(RDKit::ROMol mol, bool breakTies=True, bool includeChirality=True, bool includeIsotopes=True)\n"
     ]
    },
    {
     "name": "stdout",
     "output_type": "stream",
     "text": [
      "RDKIT issue\n"
     ]
    },
    {
     "name": "stderr",
     "output_type": "stream",
     "text": [
      "RDKit ERROR: [12:39:52] SMILES Parse Error: syntax error while parsing: OS(O)(O)C1=CC=C(C=C1)C-1=C2\\C=CC(=N2)\\C(=C2/N\\C(\\C=C2)=C(/C2=N/C(/C=C2)=C(\\C2=CC=C\\-1N2)C1=CC=C(C=C1)S(O)(O)O)C1=CC=C(C=C1)S([O-])([O-])[O-])\\C1=CC=C(C=C1)S(O)(O)[O-]\n",
      "[12:39:52] SMILES Parse Error: syntax error while parsing: OS(O)(O)C1=CC=C(C=C1)C-1=C2\\C=CC(=N2)\\C(=C2/N\\C(\\C=C2)=C(/C2=N/C(/C=C2)=C(\\C2=CC=C\\-1N2)C1=CC=C(C=C1)S(O)(O)O)C1=CC=C(C=C1)S([O-])([O-])[O-])\\C1=CC=C(C=C1)S(O)(O)[O-]\n",
      "RDKit ERROR: [12:39:52] SMILES Parse Error: Failed parsing SMILES 'OS(O)(O)C1=CC=C(C=C1)C-1=C2\\C=CC(=N2)\\C(=C2/N\\C(\\C=C2)=C(/C2=N/C(/C=C2)=C(\\C2=CC=C\\-1N2)C1=CC=C(C=C1)S(O)(O)O)C1=CC=C(C=C1)S([O-])([O-])[O-])\\C1=CC=C(C=C1)S(O)(O)[O-]' for input: 'OS(O)(O)C1=CC=C(C=C1)C-1=C2\\C=CC(=N2)\\C(=C2/N\\C(\\C=C2)=C(/C2=N/C(/C=C2)=C(\\C2=CC=C\\-1N2)C1=CC=C(C=C1)S(O)(O)O)C1=CC=C(C=C1)S([O-])([O-])[O-])\\C1=CC=C(C=C1)S(O)(O)[O-]'\n",
      "[12:39:52] SMILES Parse Error: Failed parsing SMILES 'OS(O)(O)C1=CC=C(C=C1)C-1=C2\\C=CC(=N2)\\C(=C2/N\\C(\\C=C2)=C(/C2=N/C(/C=C2)=C(\\C2=CC=C\\-1N2)C1=CC=C(C=C1)S(O)(O)O)C1=CC=C(C=C1)S([O-])([O-])[O-])\\C1=CC=C(C=C1)S(O)(O)[O-]' for input: 'OS(O)(O)C1=CC=C(C=C1)C-1=C2\\C=CC(=N2)\\C(=C2/N\\C(\\C=C2)=C(/C2=N/C(/C=C2)=C(\\C2=CC=C\\-1N2)C1=CC=C(C=C1)S(O)(O)O)C1=CC=C(C=C1)S([O-])([O-])[O-])\\C1=CC=C(C=C1)S(O)(O)[O-]'\n",
      "Failed to featurize datapoint 0, None. Appending empty array\n",
      "Exception message: Python argument types in\n",
      "    rdkit.Chem.rdmolfiles.CanonicalRankAtoms(NoneType)\n",
      "did not match C++ signature:\n",
      "    CanonicalRankAtoms(RDKit::ROMol mol, bool breakTies=True, bool includeChirality=True, bool includeIsotopes=True)\n"
     ]
    },
    {
     "name": "stdout",
     "output_type": "stream",
     "text": [
      "RDKIT issue\n"
     ]
    },
    {
     "name": "stderr",
     "output_type": "stream",
     "text": [
      "RDKit ERROR: [12:40:24] Explicit valence for atom # 19 O, 3, is greater than permitted\n",
      "[12:40:24] Explicit valence for atom # 19 O, 3, is greater than permitted\n",
      "Failed to featurize datapoint 0, None. Appending empty array\n",
      "Exception message: Python argument types in\n",
      "    rdkit.Chem.rdmolfiles.CanonicalRankAtoms(NoneType)\n",
      "did not match C++ signature:\n",
      "    CanonicalRankAtoms(RDKit::ROMol mol, bool breakTies=True, bool includeChirality=True, bool includeIsotopes=True)\n"
     ]
    },
    {
     "name": "stdout",
     "output_type": "stream",
     "text": [
      "RDKIT issue\n",
      "[1.0170301, 1.4616653]\n"
     ]
    },
    {
     "name": "stderr",
     "output_type": "stream",
     "text": [
      "RDKit ERROR: [12:41:07] Explicit valence for atom # 6 N, 4, is greater than permitted\n",
      "[12:41:07] Explicit valence for atom # 6 N, 4, is greater than permitted\n",
      "Failed to featurize datapoint 0, None. Appending empty array\n",
      "Exception message: Python argument types in\n",
      "    rdkit.Chem.rdmolfiles.CanonicalRankAtoms(NoneType)\n",
      "did not match C++ signature:\n",
      "    CanonicalRankAtoms(RDKit::ROMol mol, bool breakTies=True, bool includeChirality=True, bool includeIsotopes=True)\n"
     ]
    },
    {
     "name": "stdout",
     "output_type": "stream",
     "text": [
      "RDKIT issue\n",
      "[1.2259787, 1.6729362]\n"
     ]
    },
    {
     "name": "stderr",
     "output_type": "stream",
     "text": [
      "RDKit ERROR: [12:41:38] Explicit valence for atom # 0 O, 3, is greater than permitted\n",
      "[12:41:38] Explicit valence for atom # 0 O, 3, is greater than permitted\n",
      "Failed to featurize datapoint 0, None. Appending empty array\n",
      "Exception message: Python argument types in\n",
      "    rdkit.Chem.rdmolfiles.CanonicalRankAtoms(NoneType)\n",
      "did not match C++ signature:\n",
      "    CanonicalRankAtoms(RDKit::ROMol mol, bool breakTies=True, bool includeChirality=True, bool includeIsotopes=True)\n"
     ]
    },
    {
     "name": "stdout",
     "output_type": "stream",
     "text": [
      "RDKIT issue\n"
     ]
    },
    {
     "name": "stderr",
     "output_type": "stream",
     "text": [
      "RDKit ERROR: [12:41:44] Explicit valence for atom # 3 N, 4, is greater than permitted\n",
      "[12:41:44] Explicit valence for atom # 3 N, 4, is greater than permitted\n",
      "Failed to featurize datapoint 0, None. Appending empty array\n",
      "Exception message: Python argument types in\n",
      "    rdkit.Chem.rdmolfiles.CanonicalRankAtoms(NoneType)\n",
      "did not match C++ signature:\n",
      "    CanonicalRankAtoms(RDKit::ROMol mol, bool breakTies=True, bool includeChirality=True, bool includeIsotopes=True)\n"
     ]
    },
    {
     "name": "stdout",
     "output_type": "stream",
     "text": [
      "RDKIT issue\n"
     ]
    },
    {
     "name": "stderr",
     "output_type": "stream",
     "text": [
      "RDKit ERROR: [12:41:54] Explicit valence for atom # 4 F, 2, is greater than permitted\n",
      "[12:41:54] Explicit valence for atom # 4 F, 2, is greater than permitted\n",
      "Failed to featurize datapoint 0, None. Appending empty array\n",
      "Exception message: Python argument types in\n",
      "    rdkit.Chem.rdmolfiles.CanonicalRankAtoms(NoneType)\n",
      "did not match C++ signature:\n",
      "    CanonicalRankAtoms(RDKit::ROMol mol, bool breakTies=True, bool includeChirality=True, bool includeIsotopes=True)\n"
     ]
    },
    {
     "name": "stdout",
     "output_type": "stream",
     "text": [
      "RDKIT issue\n",
      "[2.8022099, 14.488079]\n"
     ]
    },
    {
     "name": "stderr",
     "output_type": "stream",
     "text": [
      "RDKit ERROR: [12:44:28] Explicit valence for atom # 13 Be, 3, is greater than permitted\n",
      "[12:44:28] Explicit valence for atom # 13 Be, 3, is greater than permitted\n",
      "Failed to featurize datapoint 0, None. Appending empty array\n",
      "Exception message: Python argument types in\n",
      "    rdkit.Chem.rdmolfiles.CanonicalRankAtoms(NoneType)\n",
      "did not match C++ signature:\n",
      "    CanonicalRankAtoms(RDKit::ROMol mol, bool breakTies=True, bool includeChirality=True, bool includeIsotopes=True)\n"
     ]
    },
    {
     "name": "stdout",
     "output_type": "stream",
     "text": [
      "RDKIT issue\n",
      "[1.4673188, 6.521221]\n",
      "[1.0149716, 9.066284]\n",
      "[1.0006243, 3.2960575]\n"
     ]
    },
    {
     "name": "stderr",
     "output_type": "stream",
     "text": [
      "RDKit ERROR: [12:45:15] Explicit valence for atom # 84 N, 4, is greater than permitted\n",
      "[12:45:15] Explicit valence for atom # 84 N, 4, is greater than permitted\n",
      "Failed to featurize datapoint 0, None. Appending empty array\n",
      "Exception message: Python argument types in\n",
      "    rdkit.Chem.rdmolfiles.CanonicalRankAtoms(NoneType)\n",
      "did not match C++ signature:\n",
      "    CanonicalRankAtoms(RDKit::ROMol mol, bool breakTies=True, bool includeChirality=True, bool includeIsotopes=True)\n"
     ]
    },
    {
     "name": "stdout",
     "output_type": "stream",
     "text": [
      "RDKIT issue\n"
     ]
    },
    {
     "name": "stderr",
     "output_type": "stream",
     "text": [
      "RDKit ERROR: [12:45:36] SMILES Parse Error: syntax error while parsing: OC1=CC=CC(=C1)C-1=C2\\CCC(=N2)\\C(=C2/N\\C(\\C=C2)=C(/C2=N/C(/C=C2)=C(\\C2=CC=C\\-1N2)C1=CC(O)=CC=C1)C1=CC(O)=CC=C1)\\C1=CC(O)=CC=C1\n",
      "[12:45:36] SMILES Parse Error: syntax error while parsing: OC1=CC=CC(=C1)C-1=C2\\CCC(=N2)\\C(=C2/N\\C(\\C=C2)=C(/C2=N/C(/C=C2)=C(\\C2=CC=C\\-1N2)C1=CC(O)=CC=C1)C1=CC(O)=CC=C1)\\C1=CC(O)=CC=C1\n",
      "RDKit ERROR: [12:45:36] SMILES Parse Error: Failed parsing SMILES 'OC1=CC=CC(=C1)C-1=C2\\CCC(=N2)\\C(=C2/N\\C(\\C=C2)=C(/C2=N/C(/C=C2)=C(\\C2=CC=C\\-1N2)C1=CC(O)=CC=C1)C1=CC(O)=CC=C1)\\C1=CC(O)=CC=C1' for input: 'OC1=CC=CC(=C1)C-1=C2\\CCC(=N2)\\C(=C2/N\\C(\\C=C2)=C(/C2=N/C(/C=C2)=C(\\C2=CC=C\\-1N2)C1=CC(O)=CC=C1)C1=CC(O)=CC=C1)\\C1=CC(O)=CC=C1'\n",
      "Failed to featurize datapoint 0, None. Appending empty array\n",
      "[12:45:36] SMILES Parse Error: Failed parsing SMILES 'OC1=CC=CC(=C1)C-1=C2\\CCC(=N2)\\C(=C2/N\\C(\\C=C2)=C(/C2=N/C(/C=C2)=C(\\C2=CC=C\\-1N2)C1=CC(O)=CC=C1)C1=CC(O)=CC=C1)\\C1=CC(O)=CC=C1' for input: 'OC1=CC=CC(=C1)C-1=C2\\CCC(=N2)\\C(=C2/N\\C(\\C=C2)=C(/C2=N/C(/C=C2)=C(\\C2=CC=C\\-1N2)C1=CC(O)=CC=C1)C1=CC(O)=CC=C1)\\C1=CC(O)=CC=C1'\n",
      "Exception message: Python argument types in\n",
      "    rdkit.Chem.rdmolfiles.CanonicalRankAtoms(NoneType)\n",
      "did not match C++ signature:\n",
      "    CanonicalRankAtoms(RDKit::ROMol mol, bool breakTies=True, bool includeChirality=True, bool includeIsotopes=True)\n"
     ]
    },
    {
     "name": "stdout",
     "output_type": "stream",
     "text": [
      "RDKIT issue\n",
      "[1.1549768, 2.1515296]\n"
     ]
    },
    {
     "name": "stderr",
     "output_type": "stream",
     "text": [
      "RDKit ERROR: [12:46:10] Explicit valence for atom # 1 Cl, 4, is greater than permitted\n",
      "[12:46:10] Explicit valence for atom # 1 Cl, 4, is greater than permitted\n",
      "Failed to featurize datapoint 0, None. Appending empty array\n",
      "Exception message: Python argument types in\n",
      "    rdkit.Chem.rdmolfiles.CanonicalRankAtoms(NoneType)\n",
      "did not match C++ signature:\n",
      "    CanonicalRankAtoms(RDKit::ROMol mol, bool breakTies=True, bool includeChirality=True, bool includeIsotopes=True)\n"
     ]
    },
    {
     "name": "stdout",
     "output_type": "stream",
     "text": [
      "RDKIT issue\n",
      "[1.5164696, 0.53604037]\n",
      "[1.3305658, 5.605956]\n"
     ]
    },
    {
     "name": "stderr",
     "output_type": "stream",
     "text": [
      "RDKit ERROR: [12:46:38] Explicit valence for atom # 0 N, 4, is greater than permitted\n",
      "[12:46:38] Explicit valence for atom # 0 N, 4, is greater than permitted\n",
      "Failed to featurize datapoint 0, None. Appending empty array\n",
      "Exception message: Python argument types in\n",
      "    rdkit.Chem.rdmolfiles.CanonicalRankAtoms(NoneType)\n",
      "did not match C++ signature:\n",
      "    CanonicalRankAtoms(RDKit::ROMol mol, bool breakTies=True, bool includeChirality=True, bool includeIsotopes=True)\n"
     ]
    },
    {
     "name": "stdout",
     "output_type": "stream",
     "text": [
      "RDKIT issue\n",
      "[1.2786361, 20.858978]\n"
     ]
    },
    {
     "name": "stderr",
     "output_type": "stream",
     "text": [
      "RDKit ERROR: [12:47:27] Explicit valence for atom # 5 K, 2, is greater than permitted\n",
      "[12:47:27] Explicit valence for atom # 5 K, 2, is greater than permitted\n",
      "Failed to featurize datapoint 0, None. Appending empty array\n",
      "Exception message: Python argument types in\n",
      "    rdkit.Chem.rdmolfiles.CanonicalRankAtoms(NoneType)\n",
      "did not match C++ signature:\n",
      "    CanonicalRankAtoms(RDKit::ROMol mol, bool breakTies=True, bool includeChirality=True, bool includeIsotopes=True)\n"
     ]
    },
    {
     "name": "stdout",
     "output_type": "stream",
     "text": [
      "RDKIT issue\n",
      "[1.3382834, 2.3790646]\n",
      "[1.0880162, 3.3986888]\n",
      "[2.5897584, 8.550577]\n"
     ]
    },
    {
     "name": "stderr",
     "output_type": "stream",
     "text": [
      "RDKit WARNING: [12:48:11] WARNING: not removing hydrogen atom without neighbors\n",
      "[12:48:11] WARNING: not removing hydrogen atom without neighbors\n",
      "RDKit WARNING: [12:48:11] WARNING: not removing hydrogen atom without neighbors\n",
      "[12:48:11] WARNING: not removing hydrogen atom without neighbors\n"
     ]
    },
    {
     "name": "stdout",
     "output_type": "stream",
     "text": [
      "[1.8656608, 23.157778]\n",
      "[1.3979424, 8.126604]\n"
     ]
    }
   ],
   "source": [
    "ypred = []\n",
    "drugs_list = []\n",
    "for item in X_drugs:\n",
    "    try:\n",
    "        res = run_inference(favi, item)\n",
    "        ypred.append(res)\n",
    "        if res[0][8] > 1:\n",
    "            print([res[0][8], res[0][73]])\n",
    "            drugs_list.append(item)\n",
    "    except:\n",
    "        print('RDKIT issue')\n",
    "    "
   ]
  },
  {
   "cell_type": "code",
   "execution_count": 13,
   "id": "643fd7f5",
   "metadata": {},
   "outputs": [
    {
     "data": {
      "text/plain": [
       "['COC1=C(C=C(Cl)C=C1)C(=O)NCCC1=CC=C(C=C1)S(=O)(=O)NC(=O)NC1CCCCC1',\n",
       " 'O\\\\N=C(/N)N1CCC(CC1)CNC(=O)[C@@H]1CC[C@H]2CN(CC(=O)N12)S(=O)(=O)CC1=CC=CC=C1',\n",
       " '[Ru+3].[N-]1C=CN=C1.C1=CC=C(N=C1)C1=CC=CC=N1.C1=CC=C(N=C1)C1=CC=CC=N1',\n",
       " 'CN1C(=O)C=C(N2CCC[C@@H](N)C2)N(CC2=C(C=CC=C2)C#N)C1=O',\n",
       " '[H][C@](CC)(C1=CC=CC=C1)C1=C(O)C2=C(OC1=O)C=C(OC)C=C2',\n",
       " 'CC[C@H](C)[C@H](NC(=O)[C@H](CC(O)=O)NC(=O)[C@H](CC(C)C)NC(=O)[C@H](CC(C)C)NC(=O)[C@H](CCCCN)NC(=O)[C@H](CCCNC(N)=N)NC(=O)[C@H](CC(N)=O)NC(=O)[C@H](CO)NC(=O)[C@H](CC1=CN=CN1)NC(=O)[C@H](C)NC(=O)[C@H](CCC(N)=O)NC(=O)[C@H](CCC(N)=O)NC(=O)[C@H](C)NC(=O)[C@H](CC(C)C)NC(=O)[C@H](CCC(N)=O)NC(=O)[C@H](CC(O)=O)NC(=O)[C@H](C)NC(=O)[C@H](CCCCN)NC(=O)[C@@H](NC(=O)[C@H](CCSC)NC(=O)[C@H](CCC(O)=O)NC(=O)[C@H](CC(C)C)NC(=O)[C@@H](NC(=O)[C@H](CCC(O)=O)NC(=O)[C@H](CCCNC(N)=N)NC(=O)[C@H](CC(C)C)NC(=O)[C@H](CC(C)C)NC(=O)[C@H](CC1=CN=CN1)NC(=O)[C@H](CC1=CC=CC=C1)NC(=O)[C@@H](NC(=O)[C@H](CC(C)C)NC(=O)[C@H](CC(O)=O)NC(=O)[C@H](CC(C)C)NC(=O)[C@H](CO)NC(=O)[C@@H](NC(=O)[C@@H]1CCCN1C(=O)[C@@H]1CCCN1C(=O)[C@H](CCC(O)=O)NC(=O)[C@H](CCC(N)=O)NC(=O)[C@@H](N)CO)[C@@H](C)CC)[C@@H](C)O)C(C)C)[C@@H](C)O)C(=O)N[C@@H](C)C(N)=O',\n",
       " 'FC1=C(COC2=CC=C3C=C(CC4SC(=O)NC4=O)C=CC3=C2)C=CC=C1',\n",
       " 'CS(=O)(=O)N1C=C2CN(CC2=N1)[C@H]1CO[C@@H]([C@@H](N)C1)C1=CC(F)=CC=C1F',\n",
       " 'CC(C)OC(=O)N[C@@H]1CC2=C(C1)C1=CC(=CC=C1N2CC1=CC=CC=N1)C#N',\n",
       " 'CC(C)(C)OC[C@H]1N(CCNC1=O)C(=O)C[C@H](N)CC1=CC(F)=C(F)C=C1F',\n",
       " 'CC[C@H](C)[C@H](NC(=O)[C@H](CC1=CC=CC=C1)NC(=O)[C@H](CCC(O)=O)NC(=O)[C@H](CCCCN)NC(=O)[C@H](C)NC(=O)[C@H](C)NC(=O)[C@H](CCC(N)=O)NC(=O)CNC(=O)[C@H](CCC(O)=O)NC(=O)[C@H](CC(C)C)NC(=O)[C@H](CC1=CC=C(O)C=C1)NC(=O)[C@H](CO)NC(=O)[C@H](CO)NC(=O)[C@@H](NC(=O)[C@H](CC(O)=O)NC(=O)[C@H](CO)NC(=O)[C@@H](NC(=O)[C@H](CC1=CC=CC=C1)NC(=O)[C@@H](NC(=O)CNC(=O)[C@H](CCC(O)=O)NC(=O)C(C)(C)NC(=O)[C@@H](N)CC1=CNC=N1)[C@@H](C)O)[C@@H](C)O)C(C)C)C(=O)N[C@@H](C)C(=O)N[C@@H](CC1=CNC2=C1C=CC=C2)C(=O)N[C@@H](CC(C)C)C(=O)N[C@@H](C(C)C)C(=O)N[C@@H](CCCCN)C(=O)NC(C)(C)C(=O)N[C@@H](CCCNC(N)=N)C(N)=O',\n",
       " 'COC1=CC(\\\\C=C\\\\C(=O)CC(=O)\\\\C=C\\\\C2=CC=C(OS(O)(=O)=O)C(OC)=C2)=CC=C1O',\n",
       " 'COC1=CC=C(CNC(=O)C2=CC(=CN=C2C2=NC=CC=C2)C2=CN=CC(Cl)=C2)N=C1OC',\n",
       " 'CN1C(=O)C=C(N2CCC[C@@H](N)C2)N(CC2=CC(F)=CC=C2C#N)C1=O',\n",
       " '[H][C@](NC(=O)[C@H](CCCNC(N)=N)NC(=O)[C@H](CCCNC(N)=N)NC(=O)[C@H](CC(C)C)NC(=O)[C@H](CC1=CC=CC=C1)NC(=O)CNC(=O)CNC(=O)[C@@H](N)CC1=CC=C(O)C=C1)([C@@H](C)CC)C(=O)N[C@@H](CCCNC(N)=N)C(=O)N1CCC[C@H]1C(=O)N[C@@H](CCCCN)C(=O)N[C@@H](CC(C)C)C(=O)N[C@@H](CCCCN)C(=O)N[C@@H](CC1=CNC2=CC=CC=C12)C(=O)N[C@@H](CC(O)=O)C(=O)N[C@@H](CC(N)=O)C(=O)N[C@@H](CCC(N)=O)C(O)=O',\n",
       " 'C[C@@H]1CN(CC(=O)N2CC(C)(C)C3=C2C=C(CC2=CC=C(F)C=C2)C(CO)=N3)[C@@H](CN2CCOC[C@H]2C)CN1']"
      ]
     },
     "execution_count": 13,
     "metadata": {},
     "output_type": "execute_result"
    }
   ],
   "source": [
    "drugs_list"
   ]
  },
  {
   "cell_type": "code",
   "execution_count": 14,
   "id": "2b0fdfaa",
   "metadata": {},
   "outputs": [],
   "source": [
    "df_sol = df_drugs.loc[df_drugs['moldb_smiles'].isin(drugs_list)]"
   ]
  },
  {
   "cell_type": "code",
   "execution_count": 15,
   "id": "db360f06",
   "metadata": {},
   "outputs": [
    {
     "data": {
      "text/html": [
       "<div>\n",
       "<style scoped>\n",
       "    .dataframe tbody tr th:only-of-type {\n",
       "        vertical-align: middle;\n",
       "    }\n",
       "\n",
       "    .dataframe tbody tr th {\n",
       "        vertical-align: top;\n",
       "    }\n",
       "\n",
       "    .dataframe thead th {\n",
       "        text-align: right;\n",
       "    }\n",
       "</style>\n",
       "<table border=\"1\" class=\"dataframe\">\n",
       "  <thead>\n",
       "    <tr style=\"text-align: right;\">\n",
       "      <th></th>\n",
       "      <th>id</th>\n",
       "      <th>drugbank_id</th>\n",
       "      <th>name</th>\n",
       "      <th>moldb_smiles</th>\n",
       "    </tr>\n",
       "  </thead>\n",
       "  <tbody>\n",
       "    <tr>\n",
       "      <th>998</th>\n",
       "      <td>1016</td>\n",
       "      <td>DB01016</td>\n",
       "      <td>Glyburide</td>\n",
       "      <td>COC1=C(C=C(Cl)C=C1)C(=O)NCCC1=CC=C(C=C1)S(=O)(...</td>\n",
       "    </tr>\n",
       "    <tr>\n",
       "      <th>2569</th>\n",
       "      <td>2723</td>\n",
       "      <td>DB02723</td>\n",
       "      <td>4-Oxo-2-Phenylmethanesulfonyl-Octahydro-Pyrrol...</td>\n",
       "      <td>O\\N=C(/N)N1CCC(CC1)CNC(=O)[C@@H]1CC[C@H]2CN(CC...</td>\n",
       "    </tr>\n",
       "    <tr>\n",
       "      <th>3640</th>\n",
       "      <td>3871</td>\n",
       "      <td>DB03871</td>\n",
       "      <td>lambda-bis(2,2'-bipyridine)imidazole ruthenium...</td>\n",
       "      <td>[Ru+3].[N-]1C=CN=C1.C1=CC=C(N=C1)C1=CC=CC=N1.C...</td>\n",
       "    </tr>\n",
       "    <tr>\n",
       "      <th>5487</th>\n",
       "      <td>6204</td>\n",
       "      <td>DB06203</td>\n",
       "      <td>Alogliptin</td>\n",
       "      <td>CN1C(=O)C=C(N2CCC[C@@H](N)C2)N(CC2=C(C=CC=C2)C...</td>\n",
       "    </tr>\n",
       "    <tr>\n",
       "      <th>7708</th>\n",
       "      <td>8669</td>\n",
       "      <td>DB08663</td>\n",
       "      <td>4-HYDROXY-7-METHOXY-3-(1-PHENYL-PROPYL)-CHROME...</td>\n",
       "      <td>[H][C@](CC)(C1=CC=CC=C1)C1=C(O)C2=C(OC1=O)C=C(...</td>\n",
       "    </tr>\n",
       "    <tr>\n",
       "      <th>8079</th>\n",
       "      <td>9088</td>\n",
       "      <td>DB09067</td>\n",
       "      <td>Corticorelin ovine triflutate</td>\n",
       "      <td>CC[C@H](C)[C@H](NC(=O)[C@H](CC(O)=O)NC(=O)[C@H...</td>\n",
       "    </tr>\n",
       "    <tr>\n",
       "      <th>8206</th>\n",
       "      <td>9223</td>\n",
       "      <td>DB09199</td>\n",
       "      <td>Netoglitazone</td>\n",
       "      <td>FC1=C(COC2=CC=C3C=C(CC4SC(=O)NC4=O)C=CC3=C2)C=...</td>\n",
       "    </tr>\n",
       "    <tr>\n",
       "      <th>10016</th>\n",
       "      <td>12074</td>\n",
       "      <td>DB11992</td>\n",
       "      <td>Omarigliptin</td>\n",
       "      <td>CS(=O)(=O)N1C=C2CN(CC2=N1)[C@H]1CO[C@@H]([C@@H...</td>\n",
       "    </tr>\n",
       "    <tr>\n",
       "      <th>10575</th>\n",
       "      <td>12655</td>\n",
       "      <td>DB12573</td>\n",
       "      <td>LY-2452473</td>\n",
       "      <td>CC(C)OC(=O)N[C@@H]1CC2=C(C1)C1=CC(=CC=C1N2CC1=...</td>\n",
       "    </tr>\n",
       "    <tr>\n",
       "      <th>10624</th>\n",
       "      <td>12707</td>\n",
       "      <td>DB12625</td>\n",
       "      <td>Evogliptin</td>\n",
       "      <td>CC(C)(C)OC[C@H]1N(CCNC1=O)C(=O)C[C@H](N)CC1=CC...</td>\n",
       "    </tr>\n",
       "    <tr>\n",
       "      <th>11981</th>\n",
       "      <td>14134</td>\n",
       "      <td>DB14027</td>\n",
       "      <td>Taspoglutide</td>\n",
       "      <td>CC[C@H](C)[C@H](NC(=O)[C@H](CC1=CC=CC=C1)NC(=O...</td>\n",
       "    </tr>\n",
       "    <tr>\n",
       "      <th>12574</th>\n",
       "      <td>14757</td>\n",
       "      <td>DB14635</td>\n",
       "      <td>Curcumin sulfate</td>\n",
       "      <td>COC1=CC(\\C=C\\C(=O)CC(=O)\\C=C\\C2=CC=C(OS(O)(=O)...</td>\n",
       "    </tr>\n",
       "    <tr>\n",
       "      <th>12961</th>\n",
       "      <td>15784</td>\n",
       "      <td>DB15028</td>\n",
       "      <td>MK-1064</td>\n",
       "      <td>COC1=CC=C(CNC(=O)C2=CC(=CN=C2C2=NC=CC=C2)C2=CN...</td>\n",
       "    </tr>\n",
       "    <tr>\n",
       "      <th>13244</th>\n",
       "      <td>16669</td>\n",
       "      <td>DB15323</td>\n",
       "      <td>Trelagliptin</td>\n",
       "      <td>CN1C(=O)C=C(N2CCC[C@@H](N)C2)N(CC2=CC(F)=CC=C2...</td>\n",
       "    </tr>\n",
       "    <tr>\n",
       "      <th>14052</th>\n",
       "      <td>20005</td>\n",
       "      <td>DB16146</td>\n",
       "      <td>Dynorphin</td>\n",
       "      <td>[H][C@](NC(=O)[C@H](CCCNC(N)=N)NC(=O)[C@H](CCC...</td>\n",
       "    </tr>\n",
       "    <tr>\n",
       "      <th>14066</th>\n",
       "      <td>20075</td>\n",
       "      <td>DB16160</td>\n",
       "      <td>ASTX660</td>\n",
       "      <td>C[C@@H]1CN(CC(=O)N2CC(C)(C)C3=C2C=C(CC2=CC=C(F...</td>\n",
       "    </tr>\n",
       "  </tbody>\n",
       "</table>\n",
       "</div>"
      ],
      "text/plain": [
       "          id drugbank_id                                               name  \\\n",
       "998     1016     DB01016                                          Glyburide   \n",
       "2569    2723     DB02723  4-Oxo-2-Phenylmethanesulfonyl-Octahydro-Pyrrol...   \n",
       "3640    3871     DB03871  lambda-bis(2,2'-bipyridine)imidazole ruthenium...   \n",
       "5487    6204     DB06203                                         Alogliptin   \n",
       "7708    8669     DB08663  4-HYDROXY-7-METHOXY-3-(1-PHENYL-PROPYL)-CHROME...   \n",
       "8079    9088     DB09067                      Corticorelin ovine triflutate   \n",
       "8206    9223     DB09199                                      Netoglitazone   \n",
       "10016  12074     DB11992                                       Omarigliptin   \n",
       "10575  12655     DB12573                                         LY-2452473   \n",
       "10624  12707     DB12625                                         Evogliptin   \n",
       "11981  14134     DB14027                                       Taspoglutide   \n",
       "12574  14757     DB14635                                   Curcumin sulfate   \n",
       "12961  15784     DB15028                                            MK-1064   \n",
       "13244  16669     DB15323                                       Trelagliptin   \n",
       "14052  20005     DB16146                                          Dynorphin   \n",
       "14066  20075     DB16160                                            ASTX660   \n",
       "\n",
       "                                            moldb_smiles  \n",
       "998    COC1=C(C=C(Cl)C=C1)C(=O)NCCC1=CC=C(C=C1)S(=O)(...  \n",
       "2569   O\\N=C(/N)N1CCC(CC1)CNC(=O)[C@@H]1CC[C@H]2CN(CC...  \n",
       "3640   [Ru+3].[N-]1C=CN=C1.C1=CC=C(N=C1)C1=CC=CC=N1.C...  \n",
       "5487   CN1C(=O)C=C(N2CCC[C@@H](N)C2)N(CC2=C(C=CC=C2)C...  \n",
       "7708   [H][C@](CC)(C1=CC=CC=C1)C1=C(O)C2=C(OC1=O)C=C(...  \n",
       "8079   CC[C@H](C)[C@H](NC(=O)[C@H](CC(O)=O)NC(=O)[C@H...  \n",
       "8206   FC1=C(COC2=CC=C3C=C(CC4SC(=O)NC4=O)C=CC3=C2)C=...  \n",
       "10016  CS(=O)(=O)N1C=C2CN(CC2=N1)[C@H]1CO[C@@H]([C@@H...  \n",
       "10575  CC(C)OC(=O)N[C@@H]1CC2=C(C1)C1=CC(=CC=C1N2CC1=...  \n",
       "10624  CC(C)(C)OC[C@H]1N(CCNC1=O)C(=O)C[C@H](N)CC1=CC...  \n",
       "11981  CC[C@H](C)[C@H](NC(=O)[C@H](CC1=CC=CC=C1)NC(=O...  \n",
       "12574  COC1=CC(\\C=C\\C(=O)CC(=O)\\C=C\\C2=CC=C(OS(O)(=O)...  \n",
       "12961  COC1=CC=C(CNC(=O)C2=CC(=CN=C2C2=NC=CC=C2)C2=CN...  \n",
       "13244  CN1C(=O)C=C(N2CCC[C@@H](N)C2)N(CC2=CC(F)=CC=C2...  \n",
       "14052  [H][C@](NC(=O)[C@H](CCCNC(N)=N)NC(=O)[C@H](CCC...  \n",
       "14066  C[C@@H]1CN(CC(=O)N2CC(C)(C)C3=C2C=C(CC2=CC=C(F...  "
      ]
     },
     "execution_count": 15,
     "metadata": {},
     "output_type": "execute_result"
    }
   ],
   "source": [
    "df_sol"
   ]
  },
  {
   "cell_type": "code",
   "execution_count": 16,
   "id": "6d503305",
   "metadata": {},
   "outputs": [
    {
     "name": "stderr",
     "output_type": "stream",
     "text": [
      "Found local copy...\n",
      "Loading...\n",
      "Done!\n"
     ]
    }
   ],
   "source": [
    "import numpy as np\n",
    "from tdc.multi_pred import DDI\n",
    "data = DDI(name = 'DrugBank')\n",
    "split = data.get_split()"
   ]
  },
  {
   "cell_type": "code",
   "execution_count": 17,
   "id": "eeb28dff",
   "metadata": {},
   "outputs": [
    {
     "data": {
      "text/plain": [
       "<tdc.multi_pred.ddi.DDI at 0x7f943aae7460>"
      ]
     },
     "execution_count": 17,
     "metadata": {},
     "output_type": "execute_result"
    }
   ],
   "source": [
    "data"
   ]
  },
  {
   "cell_type": "code",
   "execution_count": 18,
   "id": "c4eb737c",
   "metadata": {},
   "outputs": [],
   "source": [
    "K = split['train']"
   ]
  },
  {
   "cell_type": "code",
   "execution_count": 19,
   "id": "a063db3a",
   "metadata": {},
   "outputs": [],
   "source": [
    "K_syn = K.loc[K['Y'] == 8]"
   ]
  },
  {
   "cell_type": "code",
   "execution_count": 20,
   "id": "1124b61c",
   "metadata": {},
   "outputs": [
    {
     "data": {
      "text/html": [
       "<div>\n",
       "<style scoped>\n",
       "    .dataframe tbody tr th:only-of-type {\n",
       "        vertical-align: middle;\n",
       "    }\n",
       "\n",
       "    .dataframe tbody tr th {\n",
       "        vertical-align: top;\n",
       "    }\n",
       "\n",
       "    .dataframe thead th {\n",
       "        text-align: right;\n",
       "    }\n",
       "</style>\n",
       "<table border=\"1\" class=\"dataframe\">\n",
       "  <thead>\n",
       "    <tr style=\"text-align: right;\">\n",
       "      <th></th>\n",
       "      <th>Drug1_ID</th>\n",
       "      <th>Drug1</th>\n",
       "      <th>Drug2_ID</th>\n",
       "      <th>Drug2</th>\n",
       "      <th>Y</th>\n",
       "    </tr>\n",
       "  </thead>\n",
       "  <tbody>\n",
       "    <tr>\n",
       "      <th>6562</th>\n",
       "      <td>DB00230</td>\n",
       "      <td>CC(C)C[C@H](CN)CC(O)=O</td>\n",
       "      <td>DB01100</td>\n",
       "      <td>FC1=CC=C(C=C1)C(CCCN1CCC(CC1)N1C(=O)NC2=CC=CC=...</td>\n",
       "      <td>8</td>\n",
       "    </tr>\n",
       "    <tr>\n",
       "      <th>6563</th>\n",
       "      <td>DB00230</td>\n",
       "      <td>CC(C)C[C@H](CN)CC(O)=O</td>\n",
       "      <td>DB00458</td>\n",
       "      <td>CN(C)CCCN1C2=CC=CC=C2CCC2=CC=CC=C12</td>\n",
       "      <td>8</td>\n",
       "    </tr>\n",
       "    <tr>\n",
       "      <th>6564</th>\n",
       "      <td>DB01037</td>\n",
       "      <td>C[C@H](CC1=CC=CC=C1)N(C)CC#C</td>\n",
       "      <td>DB00295</td>\n",
       "      <td>[H][C@@]12OC3=C(O)C=CC4=C3[C@@]11CCN(C)[C@]([H...</td>\n",
       "      <td>8</td>\n",
       "    </tr>\n",
       "    <tr>\n",
       "      <th>6565</th>\n",
       "      <td>DB00230</td>\n",
       "      <td>CC(C)C[C@H](CN)CC(O)=O</td>\n",
       "      <td>DB01588</td>\n",
       "      <td>ClC1=CC2=C(C=C1)N(CC1CC1)C(=O)CN=C2C1=CC=CC=C1</td>\n",
       "      <td>8</td>\n",
       "    </tr>\n",
       "    <tr>\n",
       "      <th>6566</th>\n",
       "      <td>DB00230</td>\n",
       "      <td>CC(C)C[C@H](CN)CC(O)=O</td>\n",
       "      <td>DB01587</td>\n",
       "      <td>CN1C2=C(C=C(Cl)C=C2)C2(OC(C)=CC(=O)N2CC1=O)C1=...</td>\n",
       "      <td>8</td>\n",
       "    </tr>\n",
       "    <tr>\n",
       "      <th>...</th>\n",
       "      <td>...</td>\n",
       "      <td>...</td>\n",
       "      <td>...</td>\n",
       "      <td>...</td>\n",
       "      <td>...</td>\n",
       "    </tr>\n",
       "    <tr>\n",
       "      <th>6744</th>\n",
       "      <td>DB09270</td>\n",
       "      <td>COC1=C(OC)C(=O)C(C\\C=C(/C)CC\\C=C(/C)CC\\C=C(/C)...</td>\n",
       "      <td>DB01261</td>\n",
       "      <td>N[C@@H](CC(=O)N1CCN2C(C1)=NN=C2C(F)(F)F)CC1=CC...</td>\n",
       "      <td>8</td>\n",
       "    </tr>\n",
       "    <tr>\n",
       "      <th>6745</th>\n",
       "      <td>DB00230</td>\n",
       "      <td>CC(C)C[C@H](CN)CC(O)=O</td>\n",
       "      <td>DB00623</td>\n",
       "      <td>OCCN1CCN(CCCN2C3=CC=CC=C3SC3=C2C=C(C=C3)C(F)(F...</td>\n",
       "      <td>8</td>\n",
       "    </tr>\n",
       "    <tr>\n",
       "      <th>6746</th>\n",
       "      <td>DB00230</td>\n",
       "      <td>CC(C)C[C@H](CN)CC(O)=O</td>\n",
       "      <td>DB01558</td>\n",
       "      <td>BrC1=CC2=C(NC(=O)CN=C2C2=CC=CC=N2)C=C1</td>\n",
       "      <td>8</td>\n",
       "    </tr>\n",
       "    <tr>\n",
       "      <th>6747</th>\n",
       "      <td>DB00230</td>\n",
       "      <td>CC(C)C[C@H](CN)CC(O)=O</td>\n",
       "      <td>DB01192</td>\n",
       "      <td>[H][C@@]12OC3=C(O)C=CC4=C3[C@@]11CCN(C)[C@]([H...</td>\n",
       "      <td>8</td>\n",
       "    </tr>\n",
       "    <tr>\n",
       "      <th>6748</th>\n",
       "      <td>DB00230</td>\n",
       "      <td>CC(C)C[C@H](CN)CC(O)=O</td>\n",
       "      <td>DB00850</td>\n",
       "      <td>OCCN1CCN(CCCN2C3=CC=CC=C3SC3=C2C=C(Cl)C=C3)CC1</td>\n",
       "      <td>8</td>\n",
       "    </tr>\n",
       "  </tbody>\n",
       "</table>\n",
       "<p>187 rows × 5 columns</p>\n",
       "</div>"
      ],
      "text/plain": [
       "     Drug1_ID                                              Drug1 Drug2_ID  \\\n",
       "6562  DB00230                             CC(C)C[C@H](CN)CC(O)=O  DB01100   \n",
       "6563  DB00230                             CC(C)C[C@H](CN)CC(O)=O  DB00458   \n",
       "6564  DB01037                       C[C@H](CC1=CC=CC=C1)N(C)CC#C  DB00295   \n",
       "6565  DB00230                             CC(C)C[C@H](CN)CC(O)=O  DB01588   \n",
       "6566  DB00230                             CC(C)C[C@H](CN)CC(O)=O  DB01587   \n",
       "...       ...                                                ...      ...   \n",
       "6744  DB09270  COC1=C(OC)C(=O)C(C\\C=C(/C)CC\\C=C(/C)CC\\C=C(/C)...  DB01261   \n",
       "6745  DB00230                             CC(C)C[C@H](CN)CC(O)=O  DB00623   \n",
       "6746  DB00230                             CC(C)C[C@H](CN)CC(O)=O  DB01558   \n",
       "6747  DB00230                             CC(C)C[C@H](CN)CC(O)=O  DB01192   \n",
       "6748  DB00230                             CC(C)C[C@H](CN)CC(O)=O  DB00850   \n",
       "\n",
       "                                                  Drug2  Y  \n",
       "6562  FC1=CC=C(C=C1)C(CCCN1CCC(CC1)N1C(=O)NC2=CC=CC=...  8  \n",
       "6563                CN(C)CCCN1C2=CC=CC=C2CCC2=CC=CC=C12  8  \n",
       "6564  [H][C@@]12OC3=C(O)C=CC4=C3[C@@]11CCN(C)[C@]([H...  8  \n",
       "6565     ClC1=CC2=C(C=C1)N(CC1CC1)C(=O)CN=C2C1=CC=CC=C1  8  \n",
       "6566  CN1C2=C(C=C(Cl)C=C2)C2(OC(C)=CC(=O)N2CC1=O)C1=...  8  \n",
       "...                                                 ... ..  \n",
       "6744  N[C@@H](CC(=O)N1CCN2C(C1)=NN=C2C(F)(F)F)CC1=CC...  8  \n",
       "6745  OCCN1CCN(CCCN2C3=CC=CC=C3SC3=C2C=C(C=C3)C(F)(F...  8  \n",
       "6746             BrC1=CC2=C(NC(=O)CN=C2C2=CC=CC=N2)C=C1  8  \n",
       "6747  [H][C@@]12OC3=C(O)C=CC4=C3[C@@]11CCN(C)[C@]([H...  8  \n",
       "6748     OCCN1CCN(CCCN2C3=CC=CC=C3SC3=C2C=C(Cl)C=C3)CC1  8  \n",
       "\n",
       "[187 rows x 5 columns]"
      ]
     },
     "execution_count": 20,
     "metadata": {},
     "output_type": "execute_result"
    }
   ],
   "source": [
    "K_syn"
   ]
  },
  {
   "cell_type": "code",
   "execution_count": 21,
   "id": "882abb93",
   "metadata": {},
   "outputs": [],
   "source": [
    "y8 = []\n",
    "y_pred = np.array(ypred)\n",
    "for item in y_pred:\n",
    "    tmp = np.array(item)\n",
    "    y8.append(tmp[0][8])\n",
    "    "
   ]
  },
  {
   "cell_type": "code",
   "execution_count": 22,
   "id": "2af42c5d",
   "metadata": {},
   "outputs": [],
   "source": [
    "synergy = np.array(y8)"
   ]
  },
  {
   "cell_type": "code",
   "execution_count": 23,
   "id": "4b61b9de",
   "metadata": {},
   "outputs": [
    {
     "data": {
      "text/plain": [
       "0.08150063"
      ]
     },
     "execution_count": 23,
     "metadata": {},
     "output_type": "execute_result"
    }
   ],
   "source": [
    "np.mean(synergy)"
   ]
  },
  {
   "cell_type": "code",
   "execution_count": 24,
   "id": "016b6db2",
   "metadata": {},
   "outputs": [
    {
     "data": {
      "text/plain": [
       "0.11101963"
      ]
     },
     "execution_count": 24,
     "metadata": {},
     "output_type": "execute_result"
    }
   ],
   "source": [
    "np.std(synergy)"
   ]
  },
  {
   "cell_type": "code",
   "execution_count": 25,
   "id": "fafabeee",
   "metadata": {},
   "outputs": [
    {
     "data": {
      "image/png": "[encoded data removed]",
      "text/plain": [
       "<Figure size 432x288 with 1 Axes>"
      ]
     },
     "metadata": {
      "needs_background": "light"
     },
     "output_type": "display_data"
    }
   ],
   "source": [
    "import matplotlib.pyplot as plt\n",
    "_ = plt.hist(synergy, bins='auto')\n",
    "plt.show()"
   ]
  },
  {
   "cell_type": "code",
   "execution_count": 26,
   "id": "a3788438",
   "metadata": {},
   "outputs": [
    {
     "data": {
      "text/plain": [
       "0.9178965974370304"
      ]
     },
     "execution_count": 26,
     "metadata": {},
     "output_type": "execute_result"
    }
   ],
   "source": [
    "np.count_nonzero(synergy<0.2) / synergy.size"
   ]
  },
  {
   "cell_type": "code",
   "execution_count": 28,
   "id": "220e81d9",
   "metadata": {},
   "outputs": [],
   "source": [
    "np.savetxt('synergy.csv', synergy, delimiter=\",\")"
   ]
  },
  {
   "cell_type": "code",
   "execution_count": 29,
   "id": "a47a0795",
   "metadata": {},
   "outputs": [],
   "source": [
    "def percentile_calc(synergy, value):\n",
    "    return np.count_nonzero(synergy<value) / synergy.size"
   ]
  },
  {
   "cell_type": "code",
   "execution_count": 34,
   "id": "fa399fe5",
   "metadata": {},
   "outputs": [],
   "source": [
    "val = percentile_calc(synergy, 5.60219921e-02)"
   ]
  },
  {
   "cell_type": "code",
   "execution_count": 35,
   "id": "5c272c78",
   "metadata": {},
   "outputs": [
    {
     "data": {
      "text/plain": [
       "0.5458241272646929"
      ]
     },
     "execution_count": 35,
     "metadata": {},
     "output_type": "execute_result"
    }
   ],
   "source": [
    "val"
   ]
  },
  {
   "cell_type": "code",
   "execution_count": 32,
   "id": "855abe94",
   "metadata": {},
   "outputs": [],
   "source": [
    "res = run_inference('NC(=O)C1=NC(F)=CN=C1O', 'CCCN1CCN(CC1)C1=CC=C(C=C1)C(=O)NC1(CCCCC1)C(=O)NCC#N')"
   ]
  },
  {
   "cell_type": "code",
   "execution_count": 33,
   "id": "7d8016d7",
   "metadata": {},
   "outputs": [
    {
     "data": {
      "text/plain": [
       "array([[1.90817595e-01, 1.81578800e-01, 2.89967712e-02, 6.71699345e-01,\n",
       "        1.38607705e-02, 3.74133587e-01, 1.93081155e-01, 1.82827264e-01,\n",
       "        5.60219921e-02, 2.07367614e-01, 1.36195915e-02, 1.24371387e-01,\n",
       "        2.07423761e-01, 1.44174159e-01, 9.73016024e-02, 2.71472752e-01,\n",
       "        1.02986372e-03, 1.30745903e-01, 3.21166039e-01, 2.86165535e-01,\n",
       "        2.61187583e-01, 1.38212651e-01, 9.53246206e-02, 2.95670629e-01,\n",
       "        8.25433284e-02, 9.43111420e-01, 1.70055851e-01, 4.06141579e-02,\n",
       "        2.39656121e-01, 5.23500741e-02, 4.60065976e-02, 2.74457008e-01,\n",
       "        2.85551455e-02, 1.24397290e+00, 4.84300345e-01, 3.26687902e-01,\n",
       "        1.12759031e-01, 9.59426090e-02, 3.52802217e-01, 3.60655665e-01,\n",
       "        8.68446454e-02, 2.30748087e-01, 2.31952086e-01, 1.56698510e-01,\n",
       "        2.03593776e-01, 1.43838376e-01, 2.03335702e-01, 4.67231703e+00,\n",
       "        2.00095862e-01, 5.53295479e+01, 1.71278834e-01, 4.60558981e-02,\n",
       "        1.76707298e-01, 5.21900132e-02, 1.67414868e+00, 3.87749672e-01,\n",
       "        1.43622220e-01, 2.50681620e-02, 2.63553143e-01, 2.34644622e-01,\n",
       "        6.35919142e+00, 1.19629216e+00, 2.07100019e-01, 2.00069249e-01,\n",
       "        7.34982193e-02, 1.89081907e-01, 1.10801645e-01, 9.99951884e-02,\n",
       "        4.63776767e-01, 2.61216342e-01, 5.60902059e-02, 2.76011169e-01,\n",
       "        6.15734942e-02, 1.72710586e+00, 4.94524390e-02, 1.29080801e+01,\n",
       "        1.90638974e-01, 7.90519491e-02, 1.27080888e-01, 3.92952800e-01,\n",
       "        1.55408502e-01, 7.71266893e-02, 1.28869206e-01, 2.72089727e-02,\n",
       "        2.03962252e-01, 1.26084285e-02, 3.89038503e-01]], dtype=float32)"
      ]
     },
     "execution_count": 33,
     "metadata": {},
     "output_type": "execute_result"
    }
   ],
   "source": [
    "res"
   ]
  },
  {
   "cell_type": "code",
   "execution_count": 43,
   "id": "4adfb5b0",
   "metadata": {},
   "outputs": [],
   "source": [
    "X1 = np.random.permutation(X_drugs)[0:100]\n",
    "X2 = np.random.permutation(X_drugs)[0:100]"
   ]
  },
  {
   "cell_type": "code",
   "execution_count": 44,
   "id": "73f73f89",
   "metadata": {},
   "outputs": [
    {
     "data": {
      "text/plain": [
       "array(['NC1=NC=NC2=C1N=CN2CCOC[P@@]1(=O)OCC[C@H](O1)C1=CC=CC(Cl)=C1',\n",
       "       '[H][C@@](O)(CN1C[C@@]([H])(O)[C@]([H])(O)[C@@]1([H])CO)C([H])(CO)OS([O-])([O-])[O-]',\n",
       "       '[H]N([H])C(=NOCCN([H])C(=O)CC1=C(C=CC(N([H])CC(F)(F)C2=CC=CC=N2)=C1F)C#N)N([H])[H]',\n",
       "       '[Fe++].[O-]C(=O)CCC([O-])=O',\n",
       "       '[H][C@]1(CSC(=O)N1)[C@@]1(O)C[C@H]2C[C@@H](CC[C@H](C)\\\\C=C/C=C/CC\\\\C(C)=C/C(=O)O2)O1',\n",
       "       'O=C(NC1=CC=CC=C1)NC1=CC=CC=C1',\n",
       "       '[H]N([H])C(=NCCCCN([H])C(=O)[C@@H]1C[C@]2([H])CC[C@H](C[C@]2([H])N1C(=O)[C@H](N([H])C(=O)[C@H](O)CC1=CC=C(O)C=C1)[C@H](C)CC)OS(O)(=O)=O)N([H])[H]',\n",
       "       'NC1=CC=C(C=C1)S(=O)(=O)NC1=CC=CC=N1',\n",
       "       'CCC(C)N1N=CN(C1=O)C1=CC=C(C=C1)N1CCN(CC1)C1=CC=C(OC[C@H]2CO[C@@](CN3C=NC=N3)(O2)C2=C(Cl)C=C(Cl)C=C2)C=C1',\n",
       "       '[H]N(C1=CC=C(OC[C@@H](O)CN(C)C)C=C1)C1=NC=CC(=N1)C1=C(C)N=C2C=CC=CN12',\n",
       "       '[H][C@](O)(C([O-])=NCCC([O-])=NCCSC(=O)C[C@@](C)(O)CC([O-])=O)C(C)(C)COP(O)(=O)OP(O)(=O)OC[C@@]1([H])O[C@@]([H])(N2C=NC3=C(N)N=CN=C23)[C@]([H])(O)[C@]1([H])OP([O-])([O-])=O',\n",
       "       '[H][C@@](CC(O)=O)(C(O)=O)C(=O)C(O)=O',\n",
       "       '[H][C@@](N)(C(O)=O)[C@@]([H])(O)OS(O)(=O)=O',\n",
       "       'CCOC(=O)C1=C(N)SC2=C1CCN(CC1=CC=CC=C1)C2',\n",
       "       'CC[C@H](C1=CC=C2C=C(OC)C=CC2=C1)C(C)(C)C(O)=O',\n",
       "       'CN1CCN(CC1)C1=NC2=CC=CC=C2SC2=C1C=C(Cl)C=C2',\n",
       "       'CC1=NN=C2CN=C(C3=CC=CC=N3)C3=C(C=CC(Br)=C3)N12',\n",
       "       'CNC(=O)CNC(=O)C1=C(I)C(C(O)=O)=C(I)C(NC(C)=O)=C1I',\n",
       "       'NC(=O)CN1CCCC1=O',\n",
       "       '[H]N([H])C(=NCCC[C@H](N([H])C(=O)CN([H])C)C(=O)N([H])[C@@H](C(C)C)C(=O)N([H])[C@@H](CC1=CC=C(O)C=C1)C(=O)N([H])[C@@H](C(C)C)C(=O)N([H])[C@@H](CC1=CN=CN1[H])C(=O)N1CCC[C@H]1C(=O)N([H])[C@@H](C)C(O)=O)N([H])[H]',\n",
       "       'CC1=C(CCO[P@](O)(=O)O[P@](O)([O-])=O)SC=[N+]1CC1=C(N)C=C(C)N=C1',\n",
       "       'CC1=CC(=CC=C1O)\\\\N=N\\\\C1=CC=CC=C1C(O)=O',\n",
       "       'CC(C)C[C@@H](C(O)=O)C(=O)NO', 'CC1=C(N)C=CC=C1F',\n",
       "       'NC1=CC(=C(C=N1)C1=NC(=NC(=C1)N1CCOCC1)N1CCOCC1)C(F)(F)F',\n",
       "       'C[C@H]1CN(C(=O)CC#N)[C@]11CCN(C1)C1=C2C=CNC2=NC=N1',\n",
       "       'CC(C)[C@@H](NC(=O)NCC(C)(C)O)C(=O)N1CC[C@](O)(C2=CC=C(Cl)C=C2)C(C)(C)C1',\n",
       "       'C[11C](O)=O',\n",
       "       'CNC1=C(F)C=C2C(NC(=O)N(C2=O)C2=CC=C(NC(=O)NS(=O)(=O)C3=CC=C(Cl)S3)C=C2)=C1',\n",
       "       '[H][C@]12CO[C@@H](O[C@]3([H])O[C@H](COC)[C@@H](O[C@]4([H])O[C@H](C)[C@H](OC)[C@H](O[C@]5([H])O[C@H](C)[C@@]6([H])O[C@]7(C[C@@H](O)[C@H](O[C@@]8([H])C[C@@H](O[C@@]9([H])C[C@@](C)([C@@H](OC)[C@H](C)O9)[N+]([O-])=O)[C@H](OC(=O)C9=C(OC)C(Cl)=C(O)C(Cl)=C9C)[C@@H](C)O8)[C@@H](C)O7)O[C@]6(C)[C@@H]5O)[C@H]4O)[C@H](O)[C@@H]3OC)[C@H](O)[C@]1([H])O[C@@]1(O2)OC[C@@H](OC(=O)C2=C(O)C=C(O)C=C2C)[C@]2([H])OCO[C@@]12[H]',\n",
       "       'CC(C)N=C1C=C2N(C3=CC=C(Cl)C=C3)C3=C(C=CC=C3)N=C2C=C1NC1=CC=C(Cl)C=C1',\n",
       "       'CCCCCC1=CC(O)=C(OC2=CC=CC=C2)C=C1', 'NC(=N)NCC1COC2=C(O1)C=CC=C2',\n",
       "       '[H][C@]1(O)CCC(C)(C)[C@]2([H])[C@]([H])(O)[C@]([H])(OC(C)=O)[C@@]3(C)O[C@](C)(CC(=O)[C@]3(O)[C@@]12C)C=C',\n",
       "       '[Na+].[Na+].OCC(O)COP([O-])([O-])=O',\n",
       "       'ClC1=CC=CC(=C1Cl)C1=NC2=CC=NN2C(NCC2=CC=NC=C2)=C1',\n",
       "       '[H][C@@](C)(NC(C)=O)C(=O)N[C@@]([H])(CC1=CC=CC=C1)C(=O)CCCl',\n",
       "       'CCN1CCCC1CNC(=O)C1=CC(=C(N)C=C1OC)S(=O)(=O)CC',\n",
       "       '[H][C@]1(CO)O[C@]2([H])O[C@]3([H])[C@@]([H])(CO)O[C@]([H])(O[C@]4([H])[C@@]([H])(CO)O[C@]([H])(O[C@]5([H])[C@@]([H])(CO)O[C@]([H])(O[C@]6([H])[C@@]([H])(CO)O[C@]([H])(O[C@]7([H])[C@@]([H])(CO)O[C@]([H])(O[C@]8([H])[C@@]([H])(CO)O[C@]([H])(O[C@@]1([H])[C@]([H])(O)[C@@]2([H])O)[C@]([H])(O)[C@@]8([H])O)[C@]([H])(O)[C@@]7([H])O)[C@]([H])(O)[C@@]6([H])O)[C@]([H])(O)[C@@]5([H])O)[C@]([H])(O)[C@@]4([H])O)[C@]([H])(O)[C@@]3([H])O',\n",
       "       '[H][C@@]1(OC(=O)C2=C1C=CC(OC)=C2OC)[C@]1([H])N(C)CCC2=CC3=C(OCO3)C(OC)=C12',\n",
       "       '[K+].O[C@H]([C@@H](O)C([O-])=O)C(O)=O',\n",
       "       'CN1CC(C2=CC=CC=C2)C2=C(C1)C(N)=CC=C2',\n",
       "       '[H][C@@]12CC[C@H](O)[C@@]1(C)CC[C@]1([H])[C@@]3([H])CCC(=O)C=C3C[C@@H](C)[C@@]21[H]',\n",
       "       'NS(=O)(=O)C1=CC=C(NC2=NC(=CC=N2)C2=CN=C3C=CC=CN23)C=C1',\n",
       "       'OP(O)(=O)OP(O)(=O)OP(O)(O)=O',\n",
       "       'COC1=CC=C(CCNCCC[C@@](C#N)(C(C)C)C2=CC=C(OC)C(OC)=C2)C=C1OC',\n",
       "       'CN(C)CCC=C1C2=C(COC3=CC=CC=C13)C1=CC=CC=C1O2',\n",
       "       '[H]N([H])[C@@H](CCC(=O)N([H])[C@@H](CS[C@@]1([H])C[C@H](O)O[C@@H]1CCCCC)C(=O)N([H])CC(O)=O)C(O)=O',\n",
       "       'CC[C@H](C)C(=O)C(O)=O', '[Li+].[Li+].[O-]C([O-])=O',\n",
       "       'C[C@@H](N1CCC(=C)CC1)[C@](O)(CN1C=NC=N1)C1=C(F)C=C(F)C=C1',\n",
       "       'C\\\\C=C\\\\C(\\\\C)=C\\\\[C@@]1(C)SC(=O)C(C)=C1O',\n",
       "       'F.F.CCCCCCCCCCCCCCCCCCN(CCO)CCCN(CCO)CCO',\n",
       "       '[H][C@]1(COP(O)(=O)OP(O)(O)=O)O[C@@]([H])(N2C=NC3=C(N)N=CN=C23)[C@]([H])(OP(O)(O)=O)[C@]1([H])O',\n",
       "       'O=C1NC2=C(O1)C(=CC=C2)N1CCN(CC2=CC(=CC=C2)C2=CC=CC=C2)CC1',\n",
       "       '[H][C@](N)(CC(=O)N1CCC[C@@]1([H])CNC(=O)C1=CC=CC=C1)CC1=C(F)C=CC=C1',\n",
       "       'CC1=CC(=C(NCCCN)C=C1)[N+]([O-])=O',\n",
       "       'OC(=O)C(=O)NC1=CC(=CC(NC(=O)C(O)=O)=C1Cl)C#N',\n",
       "       'CCCCCCCCCCCCOS(O)(=O)=O',\n",
       "       '[H]N([C@@H]1O[C@H](CO)[C@@H](O)[C@H](O)[C@H]1O)C(=O)N([H])C(=O)C1=CC=CC=C1',\n",
       "       'CC(=O)OC1=CC=C(\\\\C=C\\\\C(=O)NCCC2=CC=CC=C2)C=C1OC(C)=O',\n",
       "       'COC1=C(OC)C=C(C[N+]2(CCOCCC3CCC4CC3C4(C)C)CCOCC2)C(Br)=C1',\n",
       "       'NC1=C(C=NN1C1=CC=C(F)C=C1)C(=O)C1=CC(OC2CCNCC2)=CC=C1', '[Na+]',\n",
       "       'NC1=C2N=CN([C@@H]3O[C@H](CO)[C@@H](O)[C@H]3O)C2=NC(OCCC2=CC=C(Cl)C=C2)=N1',\n",
       "       'NC1=NC=NC2=C1N=CN2[C@H]1C[C@H](O)[C@@H](COP(O)(=O)OP(O)(=O)OP(O)(O)=O)O1',\n",
       "       'CCCCCCCC1=[N+]([O-])C2=CC=CC=C2C(O)=C1',\n",
       "       'CC1=CC(=NC(N)=N1)C#CC1=C(CNN2C=COC2=O)C=CC=C1',\n",
       "       '[H][C@]1(CCC(C)=C[C@@]1([H])C1=C(O)C=C(CCCCC)C=C1O)C(C)=C.[H][C@@]12CCC(C)=C[C@@]1([H])C1=C(O)C=C(CCCCC)C=C1OC2(C)C',\n",
       "       'OC1=CC=C(CCNC(=O)\\\\C=C\\\\C2=CC(O)=C(O)C=C2)C=C1',\n",
       "       'CC(C)CCC[C@@H](C)CCC[C@@H](C)CCC\\\\C(C)=C\\\\CC1=C(C)C(=O)C2=C(C=CC=C2)C1=O',\n",
       "       'O[C@H](\\\\C=C(/O)[O-])C([O-])=O',\n",
       "       'COC1=CC(=CC(OC)=C1OC)C1C2C(COC2=O)C(O)C2=CC3=C(OCO3)C=C12.COC1=CC(=CC(OC)=C1OC)C1C2C(COC2=O)C(O)C2=CC3=C(OCO3)C=C12.COC1=CC(=CC(OC)=C1OC)C1C(C(CO)C(O)C2=CC3=C(OCO3)C=C12)C(O)=O.COC1=CC(=CC(OC)=C1OC)C1C(C(CO)C(O)C2=CC3=C(OCO3)C=C12)C(O)=O',\n",
       "       '[H][C@]12SCC(COC)=C(N1C(=O)[C@H]2NC(=O)C(=N/OC)\\\\C1=CSC(N)=N1)C(O)=O',\n",
       "       'CNC(=O)[C@H]1O[C@H]([C@H](O)[C@@H]1O)N1C=NC2=C(NCC3=CC(I)=CC=C3)N=CN=C12',\n",
       "       'CCOC1=CC2=C(C=C1)N=C(S2)S(N)(=O)=O',\n",
       "       'CC1=CN([C@H]2C[C@H]([18F])[C@@H](CO)O2)C(=O)NC1=O',\n",
       "       'CN(CCO)CC(O)CN1C=NC2=C1C(=O)N(C)C(=O)N2C',\n",
       "       '[H][C@](OC(C)=O)(C(=O)OC)C1=CC=C(N)C=C1C(O)=O',\n",
       "       'CC1=NC=C(COP(O)(O)=O)C(CNOCC(O)=O)=C1O',\n",
       "       '[H][C@]1(C)CNC2=C(C1)C=CC=C2S(=O)=O',\n",
       "       'CCOC(=O)C1=C(C)NC(C)=C(C1C1=CC(=CC=C1)[N+]([O-])=O)C(=O)OC',\n",
       "       '[H][C@@](C)(CCC1=CC=C(O)C=C1)NC(=O)CC1=C(NC2=C1C=CC=C2)C1=CC=CC=C1',\n",
       "       'CC(=O)N[C@H](CC1=CC=CC=C1)C(=O)N1CCC[C@H]1C(=O)N[C@@H](CCCCN)B(O)O',\n",
       "       'CC1N(CCC2=C1C=CC=C2)C1=NC(NC2=CC=C(F)C=C2)=NC(C)=C1C',\n",
       "       '[H][C@@]1(O)O[C@]([H])(CO)[C@]([H])(O[C@]2([H])O[C@]([H])(CO)[C@]([H])(O)[C@]([H])(O)[C@@]2([H])O)[C@]([H])(O)[C@@]1([H])O',\n",
       "       '[Mg++].[Mg++].[Mg++].[O-]P([O-])([O-])=O.[O-]P([O-])([O-])=O',\n",
       "       'CCOC(=O)C1=CC(NCC2=CC=CC=C2)=C(NC2CCCCC2)N=C1',\n",
       "       'NC1=NC2=C(N=CN2\\\\C=C2\\\\CC2(CO)CO)C(=O)N1',\n",
       "       'CC1=C(CC(CO)CO)NC(=O)NC1=O', 'CC(C)(CS(O)(=O)=O)N(Cl)Cl',\n",
       "       '[H][C@@]12C[C@@]3([H])[C@]4([H])C[C@H](F)C5=CC(=O)C=C[C@]5(C)[C@@]4(Cl)[C@@H](Cl)C[C@]3(C)[C@@]1(OC(C)(C)O2)C(=O)CO',\n",
       "       'O[P@@](=O)(OCC1CCCCC1)OC1=C(C=O)C=CC=C1',\n",
       "       '[H][C@@]12CC[C@@H](C)[C@]3([H])CC[C@@]4(C)OO[C@@]13[C@]([H])(O[C@@H](OC(=O)CCC(O)=O)[C@@H]2C)O4',\n",
       "       'CC(C)CCN(C[C@@H](O)[C@@H]1CC2=CC=C(OCCCC(=O)N[C@@H](CC(N)=O)C(=O)N1)C=C2)S(=O)(=O)C1=CC=CC=C1',\n",
       "       '[H][C@]12OCC[C@@]1([H])[C@H](CO2)OC(=O)N[C@@H](CC1=CC=C(OCC2=CSC(C)=N2)C=C1)[C@H](O)CN(CC(C)C)S(=O)(=O)C1=CC2=C(OCO2)C=C1',\n",
       "       'N[C@@H](CC1=CC=C2C=CC3=C(N=CC=C3)C2=N1)C(O)=O',\n",
       "       'C[C@@H](O)C(O)=O', 'OB(O)C1=CC=C(C=C1)C1=CC=C(C=C1)B(O)O',\n",
       "       'C[C@H]1CCCC[C@]1(N1CCCCC1)C1=CC=CS1'], dtype=object)"
      ]
     },
     "execution_count": 44,
     "metadata": {},
     "output_type": "execute_result"
    }
   ],
   "source": [
    "X1"
   ]
  },
  {
   "cell_type": "code",
   "execution_count": 47,
   "id": "8c4b7c58",
   "metadata": {},
   "outputs": [
    {
     "name": "stdout",
     "output_type": "stream",
     "text": [
      "[1.1656772, 11.225731]\n",
      "[3.4090426, 1.3492002]\n",
      "[1.0384877, 23.814287]\n",
      "[2.1518133, 13.148358]\n",
      "[4.4465165, 0.8343538]\n",
      "[1.0229648, 23.744429]\n",
      "[1.7873582, 8.287954]\n"
     ]
    }
   ],
   "source": [
    "ypred = []\n",
    "drugs_list = []\n",
    "for item in range(len(X1)):\n",
    "    try:\n",
    "        res = run_inference(X1[item], X2[item])\n",
    "        ypred.append(res)\n",
    "        if res[0][8] > 1:\n",
    "            print([res[0][8], res[0][73]])\n",
    "            drugs_list.append(item)\n",
    "    except:\n",
    "        print('RDKIT issue')"
   ]
  },
  {
   "cell_type": "code",
   "execution_count": 48,
   "id": "63388b5f",
   "metadata": {},
   "outputs": [],
   "source": [
    "y8 = []\n",
    "y_pred = np.array(ypred)\n",
    "for item in y_pred:\n",
    "    tmp = np.array(item)\n",
    "    y8.append(tmp[0][8])"
   ]
  },
  {
   "cell_type": "code",
   "execution_count": 49,
   "id": "5614aac0",
   "metadata": {},
   "outputs": [
    {
     "data": {
      "text/plain": [
       "[0.107781254,\n",
       " 0.05818117,\n",
       " 0.029556058,\n",
       " 0.5408272,\n",
       " 0.46433336,\n",
       " 0.17463234,\n",
       " 0.0012926926,\n",
       " 0.02628036,\n",
       " 0.04745574,\n",
       " 0.005315837,\n",
       " 0.0031944932,\n",
       " 0.19116437,\n",
       " 1.1656772,\n",
       " 0.55479914,\n",
       " 0.13937072,\n",
       " 0.01484595,\n",
       " 0.05509911,\n",
       " 0.4343175,\n",
       " 0.016336905,\n",
       " 0.017033607,\n",
       " 0.068190075,\n",
       " 0.5690166,\n",
       " 0.8936417,\n",
       " 0.48017097,\n",
       " 0.10173435,\n",
       " 0.06634638,\n",
       " 0.014711565,\n",
       " 3.4090426,\n",
       " 0.036154438,\n",
       " 0.06800499,\n",
       " 0.61211616,\n",
       " 1.0384877,\n",
       " 0.11213043,\n",
       " 0.08359668,\n",
       " 0.670779,\n",
       " 0.13066061,\n",
       " 0.17020847,\n",
       " 0.26074484,\n",
       " 0.9400143,\n",
       " 0.09888719,\n",
       " 0.06428083,\n",
       " 0.18784155,\n",
       " 2.1518133,\n",
       " 0.13360125,\n",
       " 0.15758215,\n",
       " 0.13345326,\n",
       " 0.071092844,\n",
       " 0.037022337,\n",
       " 0.276806,\n",
       " 0.011048721,\n",
       " 0.48706582,\n",
       " 0.44025305,\n",
       " 0.9817519,\n",
       " 0.10558725,\n",
       " 0.28225368,\n",
       " 0.07200349,\n",
       " 0.26762915,\n",
       " 0.06446556,\n",
       " 0.15352204,\n",
       " 0.012142967,\n",
       " 0.058750488,\n",
       " 0.04562791,\n",
       " 0.18862699,\n",
       " 0.002706702,\n",
       " 0.104283825,\n",
       " 0.021797702,\n",
       " 0.3999089,\n",
       " 0.08718166,\n",
       " 0.038571566,\n",
       " 0.10152027,\n",
       " 4.4465165,\n",
       " 0.2600088,\n",
       " 0.007364656,\n",
       " 0.26232988,\n",
       " 0.08756036,\n",
       " 0.05889624,\n",
       " 1.0229648,\n",
       " 0.13734248,\n",
       " 0.8653424,\n",
       " 0.30314586,\n",
       " 0.065119304,\n",
       " 1.7873582,\n",
       " 0.20448466,\n",
       " 0.014152989,\n",
       " 0.38071638,\n",
       " 0.035337076,\n",
       " 0.109993145,\n",
       " 0.061902396,\n",
       " 0.10626434,\n",
       " 0.48553297,\n",
       " 0.92388743,\n",
       " 0.13174085,\n",
       " 0.02376581,\n",
       " 0.024878863,\n",
       " 0.1260073,\n",
       " 0.010868044,\n",
       " 0.9294858,\n",
       " 0.32063535,\n",
       " 0.41606417,\n",
       " 0.047334492]"
      ]
     },
     "execution_count": 49,
     "metadata": {},
     "output_type": "execute_result"
    }
   ],
   "source": [
    "y8"
   ]
  },
  {
   "cell_type": "code",
   "execution_count": 52,
   "id": "7ac6c68e",
   "metadata": {},
   "outputs": [],
   "source": [
    "percentile = []\n",
    "for item in y8:\n",
    "    per = percentile_calc(synergy, item)\n",
    "    percentile.append(per)"
   ]
  },
  {
   "cell_type": "code",
   "execution_count": 89,
   "id": "a5d963bf",
   "metadata": {},
   "outputs": [],
   "source": [
    "df_test = pd.DataFrame(data = d, columns = ['SMILES1', 'SMILES2', 'DDI', 'Percentile'])"
   ]
  },
  {
   "cell_type": "code",
   "execution_count": 88,
   "id": "70aeb320",
   "metadata": {},
   "outputs": [],
   "source": [
    "d = {'SMILES1': X1, 'SMILES2': X2, 'DDI': y8, 'Percentile': percentile}"
   ]
  },
  {
   "cell_type": "code",
   "execution_count": 90,
   "id": "c794c25d",
   "metadata": {},
   "outputs": [
    {
     "data": {
      "text/html": [
       "<div>\n",
       "<style scoped>\n",
       "    .dataframe tbody tr th:only-of-type {\n",
       "        vertical-align: middle;\n",
       "    }\n",
       "\n",
       "    .dataframe tbody tr th {\n",
       "        vertical-align: top;\n",
       "    }\n",
       "\n",
       "    .dataframe thead th {\n",
       "        text-align: right;\n",
       "    }\n",
       "</style>\n",
       "<table border=\"1\" class=\"dataframe\">\n",
       "  <thead>\n",
       "    <tr style=\"text-align: right;\">\n",
       "      <th></th>\n",
       "      <th>SMILES1</th>\n",
       "      <th>SMILES2</th>\n",
       "      <th>DDI</th>\n",
       "      <th>Percentile</th>\n",
       "    </tr>\n",
       "  </thead>\n",
       "  <tbody>\n",
       "    <tr>\n",
       "      <th>0</th>\n",
       "      <td>NC1=NC=NC2=C1N=CN2CCOC[P@@]1(=O)OCC[C@H](O1)C1...</td>\n",
       "      <td>[Cu+].CCC1=C(C)\\C2=C\\C3=C(CC)C(C)=C(\\C=C4/N=C(...</td>\n",
       "      <td>0.107781</td>\n",
       "      <td>0.778789</td>\n",
       "    </tr>\n",
       "    <tr>\n",
       "      <th>1</th>\n",
       "      <td>[H][C@@](O)(CN1C[C@@]([H])(O)[C@]([H])(O)[C@@]...</td>\n",
       "      <td>CNCC(O)C1=CC(NS(C)(=O)=O)=CC=C1</td>\n",
       "      <td>0.058181</td>\n",
       "      <td>0.559700</td>\n",
       "    </tr>\n",
       "    <tr>\n",
       "      <th>2</th>\n",
       "      <td>[H]N([H])C(=NOCCN([H])C(=O)CC1=C(C=CC(N([H])CC...</td>\n",
       "      <td>N[C@@H]1[C@@H](O)[C@H](O)[C@@H](CO)O[C@@H]1O[C...</td>\n",
       "      <td>0.029556</td>\n",
       "      <td>0.320283</td>\n",
       "    </tr>\n",
       "    <tr>\n",
       "      <th>3</th>\n",
       "      <td>[Fe++].[O-]C(=O)CCC([O-])=O</td>\n",
       "      <td>OCC(CO)OP(O)(O)=O</td>\n",
       "      <td>0.540827</td>\n",
       "      <td>0.991074</td>\n",
       "    </tr>\n",
       "    <tr>\n",
       "      <th>4</th>\n",
       "      <td>[H][C@]1(CSC(=O)N1)[C@@]1(O)C[C@H]2C[C@@H](CC[...</td>\n",
       "      <td>CC(C)(O)C1=NC=C(N=C1)N1C[C@@]2(CCC[C@](C)(CN3C...</td>\n",
       "      <td>0.464333</td>\n",
       "      <td>0.986390</td>\n",
       "    </tr>\n",
       "    <tr>\n",
       "      <th>...</th>\n",
       "      <td>...</td>\n",
       "      <td>...</td>\n",
       "      <td>...</td>\n",
       "      <td>...</td>\n",
       "    </tr>\n",
       "    <tr>\n",
       "      <th>95</th>\n",
       "      <td>[H][C@]12OCC[C@@]1([H])[C@H](CO2)OC(=O)N[C@@H]...</td>\n",
       "      <td>CCOC(CN1CCN(CC(C)C(=O)C2=CC=CC=C2)CC1)C1=CC=CC=C1</td>\n",
       "      <td>0.010868</td>\n",
       "      <td>0.117543</td>\n",
       "    </tr>\n",
       "    <tr>\n",
       "      <th>96</th>\n",
       "      <td>N[C@@H](CC1=CC=C2C=CC3=C(N=CC=C3)C2=N1)C(O)=O</td>\n",
       "      <td>CC[C@@H](C1=CC(NC(=O)CNC(=O)OC(C)(C)C)=CC=C1)C...</td>\n",
       "      <td>0.929486</td>\n",
       "      <td>0.998498</td>\n",
       "    </tr>\n",
       "    <tr>\n",
       "      <th>97</th>\n",
       "      <td>C[C@@H](O)C(O)=O</td>\n",
       "      <td>CCC[C@@H]([C@@H](C1=CNC2=C1C=C(C)C=C2F)C1=CC=C...</td>\n",
       "      <td>0.320635</td>\n",
       "      <td>0.967477</td>\n",
       "    </tr>\n",
       "    <tr>\n",
       "      <th>98</th>\n",
       "      <td>OB(O)C1=CC=C(C=C1)C1=CC=C(C=C1)B(O)O</td>\n",
       "      <td>[H]C12CC3([H])CC([H])(C1)CC(C2)(C3)C(=O)CN1C=C...</td>\n",
       "      <td>0.416064</td>\n",
       "      <td>0.981617</td>\n",
       "    </tr>\n",
       "    <tr>\n",
       "      <th>99</th>\n",
       "      <td>C[C@H]1CCCC[C@]1(N1CCCCC1)C1=CC=CS1</td>\n",
       "      <td>CNCC[C@@H](OC1=CC=CC=C1C)C1=CC=CC=C1</td>\n",
       "      <td>0.047334</td>\n",
       "      <td>0.479629</td>\n",
       "    </tr>\n",
       "  </tbody>\n",
       "</table>\n",
       "<p>100 rows × 4 columns</p>\n",
       "</div>"
      ],
      "text/plain": [
       "                                              SMILES1  \\\n",
       "0   NC1=NC=NC2=C1N=CN2CCOC[P@@]1(=O)OCC[C@H](O1)C1...   \n",
       "1   [H][C@@](O)(CN1C[C@@]([H])(O)[C@]([H])(O)[C@@]...   \n",
       "2   [H]N([H])C(=NOCCN([H])C(=O)CC1=C(C=CC(N([H])CC...   \n",
       "3                         [Fe++].[O-]C(=O)CCC([O-])=O   \n",
       "4   [H][C@]1(CSC(=O)N1)[C@@]1(O)C[C@H]2C[C@@H](CC[...   \n",
       "..                                                ...   \n",
       "95  [H][C@]12OCC[C@@]1([H])[C@H](CO2)OC(=O)N[C@@H]...   \n",
       "96      N[C@@H](CC1=CC=C2C=CC3=C(N=CC=C3)C2=N1)C(O)=O   \n",
       "97                                   C[C@@H](O)C(O)=O   \n",
       "98               OB(O)C1=CC=C(C=C1)C1=CC=C(C=C1)B(O)O   \n",
       "99                C[C@H]1CCCC[C@]1(N1CCCCC1)C1=CC=CS1   \n",
       "\n",
       "                                              SMILES2       DDI  Percentile  \n",
       "0   [Cu+].CCC1=C(C)\\C2=C\\C3=C(CC)C(C)=C(\\C=C4/N=C(...  0.107781    0.778789  \n",
       "1                     CNCC(O)C1=CC(NS(C)(=O)=O)=CC=C1  0.058181    0.559700  \n",
       "2   N[C@@H]1[C@@H](O)[C@H](O)[C@@H](CO)O[C@@H]1O[C...  0.029556    0.320283  \n",
       "3                                   OCC(CO)OP(O)(O)=O  0.540827    0.991074  \n",
       "4   CC(C)(O)C1=NC=C(N=C1)N1C[C@@]2(CCC[C@](C)(CN3C...  0.464333    0.986390  \n",
       "..                                                ...       ...         ...  \n",
       "95  CCOC(CN1CCN(CC(C)C(=O)C2=CC=CC=C2)CC1)C1=CC=CC=C1  0.010868    0.117543  \n",
       "96  CC[C@@H](C1=CC(NC(=O)CNC(=O)OC(C)(C)C)=CC=C1)C...  0.929486    0.998498  \n",
       "97  CCC[C@@H]([C@@H](C1=CNC2=C1C=C(C)C=C2F)C1=CC=C...  0.320635    0.967477  \n",
       "98  [H]C12CC3([H])CC([H])(C1)CC(C2)(C3)C(=O)CN1C=C...  0.416064    0.981617  \n",
       "99               CNCC[C@@H](OC1=CC=CC=C1C)C1=CC=CC=C1  0.047334    0.479629  \n",
       "\n",
       "[100 rows x 4 columns]"
      ]
     },
     "execution_count": 90,
     "metadata": {},
     "output_type": "execute_result"
    }
   ],
   "source": [
    "df_test"
   ]
  },
  {
   "cell_type": "code",
   "execution_count": 91,
   "id": "23aa644c",
   "metadata": {},
   "outputs": [],
   "source": [
    "df_test.to_csv('examples.csv')"
   ]
  },
  {
   "cell_type": "code",
   "execution_count": null,
   "id": "f9b4d6bb",
   "metadata": {},
   "outputs": [],
   "source": []
  }
 ],
 "metadata": {
  "kernelspec": {
   "display_name": "Python 3 (ipykernel)",
   "language": "python",
   "name": "python3"
  },
  "language_info": {
   "codemirror_mode": {
    "name": "ipython",
    "version": 3
   },
   "file_extension": ".py",
   "mimetype": "text/x-python",
   "name": "python",
   "nbconvert_exporter": "python",
   "pygments_lexer": "ipython3",
   "version": "3.9.7"
  }
 },
 "nbformat": 4,
 "nbformat_minor": 5
}
