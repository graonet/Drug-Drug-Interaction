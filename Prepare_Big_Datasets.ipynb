{
 "cells": [
  {
   "cell_type": "code",
   "execution_count": 2,
   "metadata": {},
   "outputs": [
    {
     "name": "stdout",
     "output_type": "stream",
     "text": [
      "Collecting PyTDC\n",
      "  Downloading PyTDC-0.3.6.tar.gz (88 kB)\n",
      "\u001b[K     |████████████████████████████████| 88 kB 1.3 MB/s eta 0:00:011\n",
      "\u001b[?25hCollecting fuzzywuzzy\n",
      "  Downloading fuzzywuzzy-0.18.0-py2.py3-none-any.whl (18 kB)\n",
      "Requirement already satisfied: numpy in /Users/vicent/opt/anaconda3/lib/python3.9/site-packages (from PyTDC) (1.20.3)\n",
      "Requirement already satisfied: pandas in /Users/vicent/opt/anaconda3/lib/python3.9/site-packages (from PyTDC) (1.3.4)\n",
      "Requirement already satisfied: tqdm in /Users/vicent/opt/anaconda3/lib/python3.9/site-packages (from PyTDC) (4.62.3)\n",
      "Requirement already satisfied: scikit-learn in /Users/vicent/opt/anaconda3/lib/python3.9/site-packages (from PyTDC) (0.24.2)\n",
      "Requirement already satisfied: seaborn in /Users/vicent/opt/anaconda3/lib/python3.9/site-packages (from PyTDC) (0.11.2)\n",
      "Requirement already satisfied: python-dateutil>=2.7.3 in /Users/vicent/opt/anaconda3/lib/python3.9/site-packages (from pandas->PyTDC) (2.8.2)\n",
      "Requirement already satisfied: pytz>=2017.3 in /Users/vicent/opt/anaconda3/lib/python3.9/site-packages (from pandas->PyTDC) (2021.3)\n",
      "Requirement already satisfied: six>=1.5 in /Users/vicent/opt/anaconda3/lib/python3.9/site-packages (from python-dateutil>=2.7.3->pandas->PyTDC) (1.16.0)\n",
      "Requirement already satisfied: scipy>=0.19.1 in /Users/vicent/opt/anaconda3/lib/python3.9/site-packages (from scikit-learn->PyTDC) (1.7.1)\n",
      "Requirement already satisfied: joblib>=0.11 in /Users/vicent/opt/anaconda3/lib/python3.9/site-packages (from scikit-learn->PyTDC) (1.1.0)\n",
      "Requirement already satisfied: threadpoolctl>=2.0.0 in /Users/vicent/opt/anaconda3/lib/python3.9/site-packages (from scikit-learn->PyTDC) (2.2.0)\n",
      "Requirement already satisfied: matplotlib>=2.2 in /Users/vicent/opt/anaconda3/lib/python3.9/site-packages (from seaborn->PyTDC) (3.4.3)\n",
      "Requirement already satisfied: cycler>=0.10 in /Users/vicent/opt/anaconda3/lib/python3.9/site-packages (from matplotlib>=2.2->seaborn->PyTDC) (0.10.0)\n",
      "Requirement already satisfied: kiwisolver>=1.0.1 in /Users/vicent/opt/anaconda3/lib/python3.9/site-packages (from matplotlib>=2.2->seaborn->PyTDC) (1.3.1)\n",
      "Requirement already satisfied: pillow>=6.2.0 in /Users/vicent/opt/anaconda3/lib/python3.9/site-packages (from matplotlib>=2.2->seaborn->PyTDC) (8.4.0)\n",
      "Requirement already satisfied: pyparsing>=2.2.1 in /Users/vicent/opt/anaconda3/lib/python3.9/site-packages (from matplotlib>=2.2->seaborn->PyTDC) (3.0.4)\n",
      "Building wheels for collected packages: PyTDC\n",
      "  Building wheel for PyTDC (setup.py) ... \u001b[?25ldone\n",
      "\u001b[?25h  Created wheel for PyTDC: filename=PyTDC-0.3.6-py3-none-any.whl size=120882 sha256=65b221303022b044f198a5b246c074521b1fe57e28435a418b668ee91a14ca4d\n",
      "  Stored in directory: /Users/vicent/Library/Caches/pip/wheels/3e/cb/28/093f9b9bbe7aeb350ca269b9e003e4de0160f3736339cb4646\n",
      "Successfully built PyTDC\n",
      "Installing collected packages: fuzzywuzzy, PyTDC\n",
      "Successfully installed PyTDC-0.3.6 fuzzywuzzy-0.18.0\n"
     ]
    },
    {
     "name": "stderr",
     "output_type": "stream",
     "text": [
      "Found local copy...\n",
      "Loading...\n",
      "Done!\n"
     ]
    }
   ],
   "source": [
    "!pip install PyTDC\n",
    "import numpy as np\n",
    "import pandas as pd\n",
    "from tdc.multi_pred import DDI\n",
    "data = DDI(name = 'DrugBank')\n",
    "split = data.get_split()"
   ]
  },
  {
   "cell_type": "code",
   "execution_count": 6,
   "metadata": {},
   "outputs": [
    {
     "data": {
      "text/html": [
       "<div>\n",
       "<style scoped>\n",
       "    .dataframe tbody tr th:only-of-type {\n",
       "        vertical-align: middle;\n",
       "    }\n",
       "\n",
       "    .dataframe tbody tr th {\n",
       "        vertical-align: top;\n",
       "    }\n",
       "\n",
       "    .dataframe thead th {\n",
       "        text-align: right;\n",
       "    }\n",
       "</style>\n",
       "<table border=\"1\" class=\"dataframe\">\n",
       "  <thead>\n",
       "    <tr style=\"text-align: right;\">\n",
       "      <th></th>\n",
       "      <th>Drug1_ID</th>\n",
       "      <th>Drug1</th>\n",
       "      <th>Drug2_ID</th>\n",
       "      <th>Drug2</th>\n",
       "      <th>Y</th>\n",
       "    </tr>\n",
       "  </thead>\n",
       "  <tbody>\n",
       "    <tr>\n",
       "      <th>0</th>\n",
       "      <td>DB00503</td>\n",
       "      <td>CC(C)[C@H](NC(=O)N(C)CC1=CSC(=N1)C(C)C)C(=O)N[...</td>\n",
       "      <td>DB00169</td>\n",
       "      <td>CC(C)CCC[C@@H](C)[C@@]1([H])CC[C@@]2([H])\\C(CC...</td>\n",
       "      <td>47</td>\n",
       "    </tr>\n",
       "    <tr>\n",
       "      <th>1</th>\n",
       "      <td>DB04930</td>\n",
       "      <td>CC1(C)C(C=C(Cl)Cl)C1C(=O)OCC1=CC(OC2=CC=CC=C2)...</td>\n",
       "      <td>DB01589</td>\n",
       "      <td>FC1=CC=CC=C1C1=NCC(=S)N(CC(F)(F)F)C2=C1C=C(Cl)...</td>\n",
       "      <td>73</td>\n",
       "    </tr>\n",
       "    <tr>\n",
       "      <th>2</th>\n",
       "      <td>DB00753</td>\n",
       "      <td>FC(F)OC(Cl)C(F)(F)F</td>\n",
       "      <td>DB00285</td>\n",
       "      <td>COC1=CC=C(C=C1)C(CN(C)C)C1(O)CCCCC1</td>\n",
       "      <td>47</td>\n",
       "    </tr>\n",
       "    <tr>\n",
       "      <th>3</th>\n",
       "      <td>DB01210</td>\n",
       "      <td>CC(C)(C)NC[C@H](O)COC1=CC=CC2=C1CCCC2=O</td>\n",
       "      <td>DB04896</td>\n",
       "      <td>CCN(CC)C(=O)C1(CC1CN)C1=CC=CC=C1</td>\n",
       "      <td>73</td>\n",
       "    </tr>\n",
       "    <tr>\n",
       "      <th>4</th>\n",
       "      <td>DB00328</td>\n",
       "      <td>COC1=CC2=C(C=C1)N(C(=O)C1=CC=C(Cl)C=C1)C(C)=C2...</td>\n",
       "      <td>DB12332</td>\n",
       "      <td>CNCC1=CC=C(C=C1)C1=C2CCNC(=O)C3=C2C(N1)=CC(F)=C3</td>\n",
       "      <td>47</td>\n",
       "    </tr>\n",
       "    <tr>\n",
       "      <th>...</th>\n",
       "      <td>...</td>\n",
       "      <td>...</td>\n",
       "      <td>...</td>\n",
       "      <td>...</td>\n",
       "      <td>...</td>\n",
       "    </tr>\n",
       "    <tr>\n",
       "      <th>38357</th>\n",
       "      <td>DB00655</td>\n",
       "      <td>[H][C@@]12CCC(=O)[C@@]1(C)CC[C@]1([H])C3=C(CC[...</td>\n",
       "      <td>DB00999</td>\n",
       "      <td>NS(=O)(=O)C1=C(Cl)C=C2NCNS(=O)(=O)C2=C1</td>\n",
       "      <td>83</td>\n",
       "    </tr>\n",
       "    <tr>\n",
       "      <th>38358</th>\n",
       "      <td>DB00418</td>\n",
       "      <td>CCCC(C)C1(CC=C)C(=O)NC(=O)NC1=O</td>\n",
       "      <td>DB00091</td>\n",
       "      <td>CC[C@@H]1NC(=O)[C@H]([C@H](O)[C@H](C)C\\C=C\\C)N...</td>\n",
       "      <td>4</td>\n",
       "    </tr>\n",
       "    <tr>\n",
       "      <th>38359</th>\n",
       "      <td>DB00312</td>\n",
       "      <td>CCCC(C)C1(CC)C(=O)NC(=O)NC1=O</td>\n",
       "      <td>DB00379</td>\n",
       "      <td>CC(N)COC1=C(C)C=CC=C1C</td>\n",
       "      <td>4</td>\n",
       "    </tr>\n",
       "    <tr>\n",
       "      <th>38360</th>\n",
       "      <td>DB01095</td>\n",
       "      <td>CC(C)N1C(\\C=C\\[C@H](O)C[C@H](O)CC(O)=O)=C(C2=C...</td>\n",
       "      <td>DB01200</td>\n",
       "      <td>[H][C@@]12CCCN1C(=O)[C@H](CC(C)C)N1C(=O)[C@](N...</td>\n",
       "      <td>73</td>\n",
       "    </tr>\n",
       "    <tr>\n",
       "      <th>38361</th>\n",
       "      <td>DB00238</td>\n",
       "      <td>CC1=C2NC(=O)C3=C(N=CC=C3)N(C3CC3)C2=NC=C1</td>\n",
       "      <td>DB00528</td>\n",
       "      <td>COC(=O)C1=C(C)NC(C)=C(C1C1=CC(=CC=C1)[N+]([O-]...</td>\n",
       "      <td>4</td>\n",
       "    </tr>\n",
       "  </tbody>\n",
       "</table>\n",
       "<p>38362 rows × 5 columns</p>\n",
       "</div>"
      ],
      "text/plain": [
       "      Drug1_ID                                              Drug1 Drug2_ID  \\\n",
       "0      DB00503  CC(C)[C@H](NC(=O)N(C)CC1=CSC(=N1)C(C)C)C(=O)N[...  DB00169   \n",
       "1      DB04930  CC1(C)C(C=C(Cl)Cl)C1C(=O)OCC1=CC(OC2=CC=CC=C2)...  DB01589   \n",
       "2      DB00753                                FC(F)OC(Cl)C(F)(F)F  DB00285   \n",
       "3      DB01210            CC(C)(C)NC[C@H](O)COC1=CC=CC2=C1CCCC2=O  DB04896   \n",
       "4      DB00328  COC1=CC2=C(C=C1)N(C(=O)C1=CC=C(Cl)C=C1)C(C)=C2...  DB12332   \n",
       "...        ...                                                ...      ...   \n",
       "38357  DB00655  [H][C@@]12CCC(=O)[C@@]1(C)CC[C@]1([H])C3=C(CC[...  DB00999   \n",
       "38358  DB00418                    CCCC(C)C1(CC=C)C(=O)NC(=O)NC1=O  DB00091   \n",
       "38359  DB00312                      CCCC(C)C1(CC)C(=O)NC(=O)NC1=O  DB00379   \n",
       "38360  DB01095  CC(C)N1C(\\C=C\\[C@H](O)C[C@H](O)CC(O)=O)=C(C2=C...  DB01200   \n",
       "38361  DB00238          CC1=C2NC(=O)C3=C(N=CC=C3)N(C3CC3)C2=NC=C1  DB00528   \n",
       "\n",
       "                                                   Drug2   Y  \n",
       "0      CC(C)CCC[C@@H](C)[C@@]1([H])CC[C@@]2([H])\\C(CC...  47  \n",
       "1      FC1=CC=CC=C1C1=NCC(=S)N(CC(F)(F)F)C2=C1C=C(Cl)...  73  \n",
       "2                    COC1=CC=C(C=C1)C(CN(C)C)C1(O)CCCCC1  47  \n",
       "3                       CCN(CC)C(=O)C1(CC1CN)C1=CC=CC=C1  73  \n",
       "4       CNCC1=CC=C(C=C1)C1=C2CCNC(=O)C3=C2C(N1)=CC(F)=C3  47  \n",
       "...                                                  ...  ..  \n",
       "38357            NS(=O)(=O)C1=C(Cl)C=C2NCNS(=O)(=O)C2=C1  83  \n",
       "38358  CC[C@@H]1NC(=O)[C@H]([C@H](O)[C@H](C)C\\C=C\\C)N...   4  \n",
       "38359                             CC(N)COC1=C(C)C=CC=C1C   4  \n",
       "38360  [H][C@@]12CCCN1C(=O)[C@H](CC(C)C)N1C(=O)[C@](N...  73  \n",
       "38361  COC(=O)C1=C(C)NC(C)=C(C1C1=CC(=CC=C1)[N+]([O-]...   4  \n",
       "\n",
       "[38362 rows x 5 columns]"
      ]
     },
     "execution_count": 6,
     "metadata": {},
     "output_type": "execute_result"
    }
   ],
   "source": [
    "split['test']"
   ]
  },
  {
   "cell_type": "code",
   "execution_count": 5,
   "metadata": {},
   "outputs": [
    {
     "data": {
      "text/html": [
       "<div>\n",
       "<style scoped>\n",
       "    .dataframe tbody tr th:only-of-type {\n",
       "        vertical-align: middle;\n",
       "    }\n",
       "\n",
       "    .dataframe tbody tr th {\n",
       "        vertical-align: top;\n",
       "    }\n",
       "\n",
       "    .dataframe thead th {\n",
       "        text-align: right;\n",
       "    }\n",
       "</style>\n",
       "<table border=\"1\" class=\"dataframe\">\n",
       "  <thead>\n",
       "    <tr style=\"text-align: right;\">\n",
       "      <th></th>\n",
       "      <th>Drug1</th>\n",
       "      <th>Drug2</th>\n",
       "    </tr>\n",
       "  </thead>\n",
       "  <tbody>\n",
       "    <tr>\n",
       "      <th>0</th>\n",
       "      <td>CC(C)[C@H](NC(=O)N(C)CC1=CSC(=N1)C(C)C)C(=O)N[...</td>\n",
       "      <td>CC(C)CCC[C@@H](C)[C@@]1([H])CC[C@@]2([H])\\C(CC...</td>\n",
       "    </tr>\n",
       "    <tr>\n",
       "      <th>1</th>\n",
       "      <td>CC1(C)C(C=C(Cl)Cl)C1C(=O)OCC1=CC(OC2=CC=CC=C2)...</td>\n",
       "      <td>FC1=CC=CC=C1C1=NCC(=S)N(CC(F)(F)F)C2=C1C=C(Cl)...</td>\n",
       "    </tr>\n",
       "    <tr>\n",
       "      <th>2</th>\n",
       "      <td>FC(F)OC(Cl)C(F)(F)F</td>\n",
       "      <td>COC1=CC=C(C=C1)C(CN(C)C)C1(O)CCCCC1</td>\n",
       "    </tr>\n",
       "    <tr>\n",
       "      <th>3</th>\n",
       "      <td>CC(C)(C)NC[C@H](O)COC1=CC=CC2=C1CCCC2=O</td>\n",
       "      <td>CCN(CC)C(=O)C1(CC1CN)C1=CC=CC=C1</td>\n",
       "    </tr>\n",
       "    <tr>\n",
       "      <th>4</th>\n",
       "      <td>COC1=CC2=C(C=C1)N(C(=O)C1=CC=C(Cl)C=C1)C(C)=C2...</td>\n",
       "      <td>CNCC1=CC=C(C=C1)C1=C2CCNC(=O)C3=C2C(N1)=CC(F)=C3</td>\n",
       "    </tr>\n",
       "    <tr>\n",
       "      <th>...</th>\n",
       "      <td>...</td>\n",
       "      <td>...</td>\n",
       "    </tr>\n",
       "    <tr>\n",
       "      <th>38357</th>\n",
       "      <td>[H][C@@]12CCC(=O)[C@@]1(C)CC[C@]1([H])C3=C(CC[...</td>\n",
       "      <td>NS(=O)(=O)C1=C(Cl)C=C2NCNS(=O)(=O)C2=C1</td>\n",
       "    </tr>\n",
       "    <tr>\n",
       "      <th>38358</th>\n",
       "      <td>CCCC(C)C1(CC=C)C(=O)NC(=O)NC1=O</td>\n",
       "      <td>CC[C@@H]1NC(=O)[C@H]([C@H](O)[C@H](C)C\\C=C\\C)N...</td>\n",
       "    </tr>\n",
       "    <tr>\n",
       "      <th>38359</th>\n",
       "      <td>CCCC(C)C1(CC)C(=O)NC(=O)NC1=O</td>\n",
       "      <td>CC(N)COC1=C(C)C=CC=C1C</td>\n",
       "    </tr>\n",
       "    <tr>\n",
       "      <th>38360</th>\n",
       "      <td>CC(C)N1C(\\C=C\\[C@H](O)C[C@H](O)CC(O)=O)=C(C2=C...</td>\n",
       "      <td>[H][C@@]12CCCN1C(=O)[C@H](CC(C)C)N1C(=O)[C@](N...</td>\n",
       "    </tr>\n",
       "    <tr>\n",
       "      <th>38361</th>\n",
       "      <td>CC1=C2NC(=O)C3=C(N=CC=C3)N(C3CC3)C2=NC=C1</td>\n",
       "      <td>COC(=O)C1=C(C)NC(C)=C(C1C1=CC(=CC=C1)[N+]([O-]...</td>\n",
       "    </tr>\n",
       "  </tbody>\n",
       "</table>\n",
       "<p>38362 rows × 2 columns</p>\n",
       "</div>"
      ],
      "text/plain": [
       "                                                   Drug1  \\\n",
       "0      CC(C)[C@H](NC(=O)N(C)CC1=CSC(=N1)C(C)C)C(=O)N[...   \n",
       "1      CC1(C)C(C=C(Cl)Cl)C1C(=O)OCC1=CC(OC2=CC=CC=C2)...   \n",
       "2                                    FC(F)OC(Cl)C(F)(F)F   \n",
       "3                CC(C)(C)NC[C@H](O)COC1=CC=CC2=C1CCCC2=O   \n",
       "4      COC1=CC2=C(C=C1)N(C(=O)C1=CC=C(Cl)C=C1)C(C)=C2...   \n",
       "...                                                  ...   \n",
       "38357  [H][C@@]12CCC(=O)[C@@]1(C)CC[C@]1([H])C3=C(CC[...   \n",
       "38358                    CCCC(C)C1(CC=C)C(=O)NC(=O)NC1=O   \n",
       "38359                      CCCC(C)C1(CC)C(=O)NC(=O)NC1=O   \n",
       "38360  CC(C)N1C(\\C=C\\[C@H](O)C[C@H](O)CC(O)=O)=C(C2=C...   \n",
       "38361          CC1=C2NC(=O)C3=C(N=CC=C3)N(C3CC3)C2=NC=C1   \n",
       "\n",
       "                                                   Drug2  \n",
       "0      CC(C)CCC[C@@H](C)[C@@]1([H])CC[C@@]2([H])\\C(CC...  \n",
       "1      FC1=CC=CC=C1C1=NCC(=S)N(CC(F)(F)F)C2=C1C=C(Cl)...  \n",
       "2                    COC1=CC=C(C=C1)C(CN(C)C)C1(O)CCCCC1  \n",
       "3                       CCN(CC)C(=O)C1(CC1CN)C1=CC=CC=C1  \n",
       "4       CNCC1=CC=C(C=C1)C1=C2CCNC(=O)C3=C2C(N1)=CC(F)=C3  \n",
       "...                                                  ...  \n",
       "38357            NS(=O)(=O)C1=C(Cl)C=C2NCNS(=O)(=O)C2=C1  \n",
       "38358  CC[C@@H]1NC(=O)[C@H]([C@H](O)[C@H](C)C\\C=C\\C)N...  \n",
       "38359                             CC(N)COC1=C(C)C=CC=C1C  \n",
       "38360  [H][C@@]12CCCN1C(=O)[C@H](CC(C)C)N1C(=O)[C@](N...  \n",
       "38361  COC(=O)C1=C(C)NC(C)=C(C1C1=CC(=CC=C1)[N+]([O-]...  \n",
       "\n",
       "[38362 rows x 2 columns]"
      ]
     },
     "execution_count": 5,
     "metadata": {},
     "output_type": "execute_result"
    }
   ],
   "source": [
    "split['test'][['Drug1','Drug2']]"
   ]
  },
  {
   "cell_type": "code",
   "execution_count": null,
   "metadata": {},
   "outputs": [],
   "source": [
    "split['valid'][['Drug2','Drug2']]"
   ]
  },
  {
   "cell_type": "code",
   "execution_count": null,
   "metadata": {},
   "outputs": [],
   "source": [
    "split['train'][['Drug2','Drug2']]"
   ]
  },
  {
   "cell_type": "code",
   "execution_count": 4,
   "metadata": {},
   "outputs": [],
   "source": [
    "import deepchem as dc\n",
    "featurizer = dc.feat.CircularFingerprint()"
   ]
  },
  {
   "cell_type": "code",
   "execution_count": 13,
   "metadata": {},
   "outputs": [
    {
     "name": "stderr",
     "output_type": "stream",
     "text": [
      "RDKit ERROR: [22:56:41] SMILES Parse Error: syntax error while parsing: OC1=CC=CC(=C1)C-1=C2\\CCC(=N2)\\C(=C2/N\\C(\\C=C2)=C(/C2=N/C(/C=C2)=C(\\C2=CC=C\\-1N2)C1=CC(O)=CC=C1)C1=CC(O)=CC=C1)\\C1=CC(O)=CC=C1\n",
      "RDKit ERROR: [22:56:41] SMILES Parse Error: Failed parsing SMILES 'OC1=CC=CC(=C1)C-1=C2\\CCC(=N2)\\C(=C2/N\\C(\\C=C2)=C(/C2=N/C(/C=C2)=C(\\C2=CC=C\\-1N2)C1=CC(O)=CC=C1)C1=CC(O)=CC=C1)\\C1=CC(O)=CC=C1' for input: 'OC1=CC=CC(=C1)C-1=C2\\CCC(=N2)\\C(=C2/N\\C(\\C=C2)=C(/C2=N/C(/C=C2)=C(\\C2=CC=C\\-1N2)C1=CC(O)=CC=C1)C1=CC(O)=CC=C1)\\C1=CC(O)=CC=C1'\n",
      "Failed to featurize datapoint 0, None. Appending empty array\n",
      "[22:56:41] SMILES Parse Error: syntax error while parsing: OC1=CC=CC(=C1)C-1=C2\\CCC(=N2)\\C(=C2/N\\C(\\C=C2)=C(/C2=N/C(/C=C2)=C(\\C2=CC=C\\-1N2)C1=CC(O)=CC=C1)C1=CC(O)=CC=C1)\\C1=CC(O)=CC=C1\n",
      "[22:56:41] SMILES Parse Error: Failed parsing SMILES 'OC1=CC=CC(=C1)C-1=C2\\CCC(=N2)\\C(=C2/N\\C(\\C=C2)=C(/C2=N/C(/C=C2)=C(\\C2=CC=C\\-1N2)C1=CC(O)=CC=C1)C1=CC(O)=CC=C1)\\C1=CC(O)=CC=C1' for input: 'OC1=CC=CC(=C1)C-1=C2\\CCC(=N2)\\C(=C2/N\\C(\\C=C2)=C(/C2=N/C(/C=C2)=C(\\C2=CC=C\\-1N2)C1=CC(O)=CC=C1)C1=CC(O)=CC=C1)\\C1=CC(O)=CC=C1'\n",
      "Exception message: Python argument types in\n",
      "    rdkit.Chem.rdmolfiles.CanonicalRankAtoms(NoneType)\n",
      "did not match C++ signature:\n",
      "    CanonicalRankAtoms(RDKit::ROMol mol, bool breakTies=True, bool includeChirality=True, bool includeIsotopes=True)\n"
     ]
    },
    {
     "name": "stdout",
     "output_type": "stream",
     "text": [
      "pack_unload & freeing memory\n",
      "[1, 4]\n",
      "pack_unload & freeing memory\n",
      "[4, 4]\n",
      "pack_unload & freeing memory\n",
      "[4, 6]\n",
      "6529\r"
     ]
    },
    {
     "name": "stderr",
     "output_type": "stream",
     "text": [
      "RDKit ERROR: [22:58:31] Explicit valence for atom # 0 N, 4, is greater than permitted\n",
      "Failed to featurize datapoint 0, None. Appending empty array\n",
      "[22:58:31] Explicit valence for atom # 0 N, 4, is greater than permitted\n",
      "Exception message: Python argument types in\n",
      "    rdkit.Chem.rdmolfiles.CanonicalRankAtoms(NoneType)\n",
      "did not match C++ signature:\n",
      "    CanonicalRankAtoms(RDKit::ROMol mol, bool breakTies=True, bool includeChirality=True, bool includeIsotopes=True)\n",
      "RDKit ERROR: [22:58:31] Explicit valence for atom # 0 N, 4, is greater than permitted\n",
      "Failed to featurize datapoint 0, None. Appending empty array\n",
      "[22:58:31] Explicit valence for atom # 0 N, 4, is greater than permitted\n",
      "Exception message: Python argument types in\n",
      "    rdkit.Chem.rdmolfiles.CanonicalRankAtoms(NoneType)\n",
      "did not match C++ signature:\n",
      "    CanonicalRankAtoms(RDKit::ROMol mol, bool breakTies=True, bool includeChirality=True, bool includeIsotopes=True)\n",
      "RDKit ERROR: [22:58:31] Explicit valence for atom # 0 N, 4, is greater than permitted\n",
      "Failed to featurize datapoint 0, None. Appending empty array\n",
      "[22:58:31] Explicit valence for atom # 0 N, 4, is greater than permitted\n",
      "Exception message: Python argument types in\n",
      "    rdkit.Chem.rdmolfiles.CanonicalRankAtoms(NoneType)\n",
      "did not match C++ signature:\n",
      "    CanonicalRankAtoms(RDKit::ROMol mol, bool breakTies=True, bool includeChirality=True, bool includeIsotopes=True)\n",
      "RDKit ERROR: [22:58:31] Explicit valence for atom # 0 N, 4, is greater than permitted\n",
      "Failed to featurize datapoint 0, None. Appending empty array\n",
      "[22:58:31] Explicit valence for atom # 0 N, 4, is greater than permitted\n",
      "Exception message: Python argument types in\n",
      "    rdkit.Chem.rdmolfiles.CanonicalRankAtoms(NoneType)\n",
      "did not match C++ signature:\n",
      "    CanonicalRankAtoms(RDKit::ROMol mol, bool breakTies=True, bool includeChirality=True, bool includeIsotopes=True)\n",
      "RDKit ERROR: [22:58:31] Explicit valence for atom # 0 N, 4, is greater than permitted\n",
      "Failed to featurize datapoint 0, None. Appending empty array\n",
      "[22:58:31] Explicit valence for atom # 0 N, 4, is greater than permitted\n",
      "Exception message: Python argument types in\n",
      "    rdkit.Chem.rdmolfiles.CanonicalRankAtoms(NoneType)\n",
      "did not match C++ signature:\n",
      "    CanonicalRankAtoms(RDKit::ROMol mol, bool breakTies=True, bool includeChirality=True, bool includeIsotopes=True)\n",
      "RDKit ERROR: [22:58:31] Explicit valence for atom # 0 N, 4, is greater than permitted\n",
      "Failed to featurize datapoint 0, None. Appending empty array\n",
      "Exception message: Python argument types in\n",
      "    rdkit.Chem.rdmolfiles.CanonicalRankAtoms(NoneType)\n",
      "did not match C++ signature:\n",
      "    CanonicalRankAtoms(RDKit::ROMol mol, bool breakTies=True, bool includeChirality=True, bool includeIsotopes=True)\n",
      "[22:58:31] Explicit valence for atom # 0 N, 4, is greater than permitted\n",
      "RDKit ERROR: [22:58:31] Explicit valence for atom # 0 N, 4, is greater than permitted\n",
      "Failed to featurize datapoint 0, None. Appending empty array\n",
      "[22:58:31] Explicit valence for atom # 0 N, 4, is greater than permitted\n",
      "Exception message: Python argument types in\n",
      "    rdkit.Chem.rdmolfiles.CanonicalRankAtoms(NoneType)\n",
      "did not match C++ signature:\n",
      "    CanonicalRankAtoms(RDKit::ROMol mol, bool breakTies=True, bool includeChirality=True, bool includeIsotopes=True)\n",
      "RDKit ERROR: [22:58:31] Explicit valence for atom # 0 N, 4, is greater than permitted\n",
      "[22:58:31] Explicit valence for atom # 0 N, 4, is greater than permitted\n",
      "Failed to featurize datapoint 0, None. Appending empty array\n",
      "Exception message: Python argument types in\n",
      "    rdkit.Chem.rdmolfiles.CanonicalRankAtoms(NoneType)\n",
      "did not match C++ signature:\n",
      "    CanonicalRankAtoms(RDKit::ROMol mol, bool breakTies=True, bool includeChirality=True, bool includeIsotopes=True)\n",
      "RDKit ERROR: [22:58:31] Explicit valence for atom # 0 N, 4, is greater than permitted\n",
      "Failed to featurize datapoint 0, None. Appending empty array\n",
      "[22:58:31] Explicit valence for atom # 0 N, 4, is greater than permitted\n",
      "Exception message: Python argument types in\n",
      "    rdkit.Chem.rdmolfiles.CanonicalRankAtoms(NoneType)\n",
      "did not match C++ signature:\n",
      "    CanonicalRankAtoms(RDKit::ROMol mol, bool breakTies=True, bool includeChirality=True, bool includeIsotopes=True)\n",
      "RDKit ERROR: [22:58:31] Explicit valence for atom # 0 N, 4, is greater than permitted\n",
      "Failed to featurize datapoint 0, None. Appending empty array\n",
      "[22:58:31] Explicit valence for atom # 0 N, 4, is greater than permitted\n",
      "Exception message: Python argument types in\n",
      "    rdkit.Chem.rdmolfiles.CanonicalRankAtoms(NoneType)\n",
      "did not match C++ signature:\n",
      "    CanonicalRankAtoms(RDKit::ROMol mol, bool breakTies=True, bool includeChirality=True, bool includeIsotopes=True)\n",
      "RDKit ERROR: [22:58:31] Explicit valence for atom # 0 N, 4, is greater than permitted\n",
      "Failed to featurize datapoint 0, None. Appending empty array\n",
      "[22:58:31] Explicit valence for atom # 0 N, 4, is greater than permitted\n",
      "Exception message: Python argument types in\n",
      "    rdkit.Chem.rdmolfiles.CanonicalRankAtoms(NoneType)\n",
      "did not match C++ signature:\n",
      "    CanonicalRankAtoms(RDKit::ROMol mol, bool breakTies=True, bool includeChirality=True, bool includeIsotopes=True)\n",
      "RDKit ERROR: [22:58:31] Explicit valence for atom # 0 N, 4, is greater than permitted\n",
      "Failed to featurize datapoint 0, None. Appending empty array\n",
      "[22:58:31] Explicit valence for atom # 0 N, 4, is greater than permitted\n",
      "Exception message: Python argument types in\n",
      "    rdkit.Chem.rdmolfiles.CanonicalRankAtoms(NoneType)\n",
      "did not match C++ signature:\n",
      "    CanonicalRankAtoms(RDKit::ROMol mol, bool breakTies=True, bool includeChirality=True, bool includeIsotopes=True)\n",
      "RDKit ERROR: [22:58:31] Explicit valence for atom # 0 N, 4, is greater than permitted\n",
      "[22:58:31] Explicit valence for atom # 0 N, 4, is greater than permitted\n",
      "Failed to featurize datapoint 0, None. Appending empty array\n",
      "Exception message: Python argument types in\n",
      "    rdkit.Chem.rdmolfiles.CanonicalRankAtoms(NoneType)\n",
      "did not match C++ signature:\n",
      "    CanonicalRankAtoms(RDKit::ROMol mol, bool breakTies=True, bool includeChirality=True, bool includeIsotopes=True)\n"
     ]
    },
    {
     "name": "stdout",
     "output_type": "stream",
     "text": [
      "pack_unload & freeing memory\n",
      "[6, 9]\n",
      "9380\r"
     ]
    },
    {
     "name": "stderr",
     "output_type": "stream",
     "text": [
      "RDKit ERROR: [22:59:20] Explicit valence for atom # 0 N, 4, is greater than permitted\n",
      "Failed to featurize datapoint 0, None. Appending empty array\n",
      "[22:59:20] Explicit valence for atom # 0 N, 4, is greater than permitted\n",
      "Exception message: Python argument types in\n",
      "    rdkit.Chem.rdmolfiles.CanonicalRankAtoms(NoneType)\n",
      "did not match C++ signature:\n",
      "    CanonicalRankAtoms(RDKit::ROMol mol, bool breakTies=True, bool includeChirality=True, bool includeIsotopes=True)\n"
     ]
    },
    {
     "name": "stdout",
     "output_type": "stream",
     "text": [
      "9421\r"
     ]
    },
    {
     "name": "stderr",
     "output_type": "stream",
     "text": [
      "RDKit ERROR: [22:59:21] Explicit valence for atom # 0 N, 4, is greater than permitted\n",
      "Failed to featurize datapoint 0, None. Appending empty array\n",
      "[22:59:21] Explicit valence for atom # 0 N, 4, is greater than permitted\n",
      "Exception message: Python argument types in\n",
      "    rdkit.Chem.rdmolfiles.CanonicalRankAtoms(NoneType)\n",
      "did not match C++ signature:\n",
      "    CanonicalRankAtoms(RDKit::ROMol mol, bool breakTies=True, bool includeChirality=True, bool includeIsotopes=True)\n"
     ]
    },
    {
     "name": "stdout",
     "output_type": "stream",
     "text": [
      "9438\r"
     ]
    },
    {
     "name": "stderr",
     "output_type": "stream",
     "text": [
      "RDKit ERROR: [22:59:21] SMILES Parse Error: syntax error while parsing: OC1=CC=CC(=C1)C-1=C2\\CCC(=N2)\\C(=C2/N\\C(\\C=C2)=C(/C2=N/C(/C=C2)=C(\\C2=CC=C\\-1N2)C1=CC(O)=CC=C1)C1=CC(O)=CC=C1)\\C1=CC(O)=CC=C1\n",
      "RDKit ERROR: [22:59:21] SMILES Parse Error: Failed parsing SMILES 'OC1=CC=CC(=C1)C-1=C2\\CCC(=N2)\\C(=C2/N\\C(\\C=C2)=C(/C2=N/C(/C=C2)=C(\\C2=CC=C\\-1N2)C1=CC(O)=CC=C1)C1=CC(O)=CC=C1)\\C1=CC(O)=CC=C1' for input: 'OC1=CC=CC(=C1)C-1=C2\\CCC(=N2)\\C(=C2/N\\C(\\C=C2)=C(/C2=N/C(/C=C2)=C(\\C2=CC=C\\-1N2)C1=CC(O)=CC=C1)C1=CC(O)=CC=C1)\\C1=CC(O)=CC=C1'\n",
      "Failed to featurize datapoint 0, None. Appending empty array\n",
      "[22:59:21] SMILES Parse Error: syntax error while parsing: OC1=CC=CC(=C1)C-1=C2\\CCC(=N2)\\C(=C2/N\\C(\\C=C2)=C(/C2=N/C(/C=C2)=C(\\C2=CC=C\\-1N2)C1=CC(O)=CC=C1)C1=CC(O)=CC=C1)\\C1=CC(O)=CC=C1\n",
      "[22:59:21] SMILES Parse Error: Failed parsing SMILES 'OC1=CC=CC(=C1)C-1=C2\\CCC(=N2)\\C(=C2/N\\C(\\C=C2)=C(/C2=N/C(/C=C2)=C(\\C2=CC=C\\-1N2)C1=CC(O)=CC=C1)C1=CC(O)=CC=C1)\\C1=CC(O)=CC=C1' for input: 'OC1=CC=CC(=C1)C-1=C2\\CCC(=N2)\\C(=C2/N\\C(\\C=C2)=C(/C2=N/C(/C=C2)=C(\\C2=CC=C\\-1N2)C1=CC(O)=CC=C1)C1=CC(O)=CC=C1)\\C1=CC(O)=CC=C1'\n",
      "Exception message: Python argument types in\n",
      "    rdkit.Chem.rdmolfiles.CanonicalRankAtoms(NoneType)\n",
      "did not match C++ signature:\n",
      "    CanonicalRankAtoms(RDKit::ROMol mol, bool breakTies=True, bool includeChirality=True, bool includeIsotopes=True)\n"
     ]
    },
    {
     "name": "stdout",
     "output_type": "stream",
     "text": [
      "9503\r"
     ]
    },
    {
     "name": "stderr",
     "output_type": "stream",
     "text": [
      "RDKit ERROR: [22:59:23] Explicit valence for atom # 0 N, 4, is greater than permitted\n",
      "Failed to featurize datapoint 0, None. Appending empty array\n",
      "[22:59:23] Explicit valence for atom # 0 N, 4, is greater than permitted\n",
      "Exception message: Python argument types in\n",
      "    rdkit.Chem.rdmolfiles.CanonicalRankAtoms(NoneType)\n",
      "did not match C++ signature:\n",
      "    CanonicalRankAtoms(RDKit::ROMol mol, bool breakTies=True, bool includeChirality=True, bool includeIsotopes=True)\n"
     ]
    },
    {
     "name": "stdout",
     "output_type": "stream",
     "text": [
      "pack_unload & freeing memory\n",
      "[9, 16]\n",
      "pack_unload & freeing memory\n",
      "[16, 16]\n",
      "pack_unload & freeing memory\n",
      "[16, 20]\n",
      "pack_unload & freeing memory\n",
      "[20, 20]\n",
      "pack_unload & freeing memory\n",
      "[20, 21]\n",
      "pack_unload & freeing memory\n",
      "[21, 30]\n",
      "21084\r"
     ]
    },
    {
     "name": "stderr",
     "output_type": "stream",
     "text": [
      "RDKit ERROR: [23:02:45] Explicit valence for atom # 0 N, 4, is greater than permitted\n",
      "Failed to featurize datapoint 0, None. Appending empty array\n",
      "[23:02:45] Explicit valence for atom # 0 N, 4, is greater than permitted\n",
      "Exception message: Python argument types in\n",
      "    rdkit.Chem.rdmolfiles.CanonicalRankAtoms(NoneType)\n",
      "did not match C++ signature:\n",
      "    CanonicalRankAtoms(RDKit::ROMol mol, bool breakTies=True, bool includeChirality=True, bool includeIsotopes=True)\n"
     ]
    },
    {
     "name": "stdout",
     "output_type": "stream",
     "text": [
      "21165\r"
     ]
    },
    {
     "name": "stderr",
     "output_type": "stream",
     "text": [
      "RDKit ERROR: [23:02:47] Explicit valence for atom # 0 N, 4, is greater than permitted\n",
      "Failed to featurize datapoint 0, None. Appending empty array\n",
      "[23:02:47] Explicit valence for atom # 0 N, 4, is greater than permitted\n",
      "Exception message: Python argument types in\n",
      "    rdkit.Chem.rdmolfiles.CanonicalRankAtoms(NoneType)\n",
      "did not match C++ signature:\n",
      "    CanonicalRankAtoms(RDKit::ROMol mol, bool breakTies=True, bool includeChirality=True, bool includeIsotopes=True)\n"
     ]
    },
    {
     "name": "stdout",
     "output_type": "stream",
     "text": [
      "21166\r",
      "21167\r",
      "21168\r",
      "21169\r",
      "21170\r",
      "21171\r",
      "21171\r",
      "21172\r",
      "21173\r",
      "21174\r",
      "21175\r"
     ]
    },
    {
     "name": "stderr",
     "output_type": "stream",
     "text": [
      "RDKit ERROR: [23:02:47] Explicit valence for atom # 0 N, 4, is greater than permitted\n",
      "Failed to featurize datapoint 0, None. Appending empty array\n",
      "Exception message: Python argument types in\n",
      "    rdkit.Chem.rdmolfiles.CanonicalRankAtoms(NoneType)\n",
      "did not match C++ signature:\n",
      "    CanonicalRankAtoms(RDKit::ROMol mol, bool breakTies=True, bool includeChirality=True, bool includeIsotopes=True)\n",
      "[23:02:47] Explicit valence for atom # 0 N, 4, is greater than permitted\n"
     ]
    },
    {
     "name": "stdout",
     "output_type": "stream",
     "text": [
      "21194\r"
     ]
    },
    {
     "name": "stderr",
     "output_type": "stream",
     "text": [
      "RDKit ERROR: [23:02:48] Explicit valence for atom # 0 N, 4, is greater than permitted\n",
      "Failed to featurize datapoint 0, None. Appending empty array\n",
      "[23:02:48] Explicit valence for atom # 0 N, 4, is greater than permitted\n",
      "Exception message: Python argument types in\n",
      "    rdkit.Chem.rdmolfiles.CanonicalRankAtoms(NoneType)\n",
      "did not match C++ signature:\n",
      "    CanonicalRankAtoms(RDKit::ROMol mol, bool breakTies=True, bool includeChirality=True, bool includeIsotopes=True)\n"
     ]
    },
    {
     "name": "stdout",
     "output_type": "stream",
     "text": [
      "21213\r"
     ]
    },
    {
     "name": "stderr",
     "output_type": "stream",
     "text": [
      "RDKit ERROR: [23:02:48] Explicit valence for atom # 0 N, 4, is greater than permitted\n",
      "Failed to featurize datapoint 0, None. Appending empty array\n",
      "Exception message: Python argument types in\n",
      "    rdkit.Chem.rdmolfiles.CanonicalRankAtoms(NoneType)\n",
      "did not match C++ signature:\n",
      "    CanonicalRankAtoms(RDKit::ROMol mol, bool breakTies=True, bool includeChirality=True, bool includeIsotopes=True)\n"
     ]
    },
    {
     "name": "stdout",
     "output_type": "stream",
     "text": [
      "21214\r",
      "21214\r",
      "21215\r",
      "21216\r",
      "21217\r",
      "21218\r",
      "21219\r",
      "21220\r",
      "21221\r",
      "21222\r",
      "21223\r"
     ]
    },
    {
     "name": "stderr",
     "output_type": "stream",
     "text": [
      "[23:02:48] Explicit valence for atom # 0 N, 4, is greater than permitted\n"
     ]
    },
    {
     "name": "stdout",
     "output_type": "stream",
     "text": [
      "21277\r"
     ]
    },
    {
     "name": "stderr",
     "output_type": "stream",
     "text": [
      "RDKit ERROR: [23:02:50] Explicit valence for atom # 0 N, 4, is greater than permitted\n",
      "Failed to featurize datapoint 0, None. Appending empty array\n",
      "[23:02:50] Explicit valence for atom # 0 N, 4, is greater than permitted\n",
      "Exception message: Python argument types in\n",
      "    rdkit.Chem.rdmolfiles.CanonicalRankAtoms(NoneType)\n",
      "did not match C++ signature:\n",
      "    CanonicalRankAtoms(RDKit::ROMol mol, bool breakTies=True, bool includeChirality=True, bool includeIsotopes=True)\n"
     ]
    },
    {
     "name": "stdout",
     "output_type": "stream",
     "text": [
      "21314\r"
     ]
    },
    {
     "name": "stderr",
     "output_type": "stream",
     "text": [
      "RDKit ERROR: [23:02:50] Explicit valence for atom # 0 N, 4, is greater than permitted\n",
      "Failed to featurize datapoint 0, None. Appending empty array\n",
      "[23:02:50] Explicit valence for atom # 0 N, 4, is greater than permitted\n",
      "Exception message: Python argument types in\n",
      "    rdkit.Chem.rdmolfiles.CanonicalRankAtoms(NoneType)\n",
      "did not match C++ signature:\n",
      "    CanonicalRankAtoms(RDKit::ROMol mol, bool breakTies=True, bool includeChirality=True, bool includeIsotopes=True)\n"
     ]
    },
    {
     "name": "stdout",
     "output_type": "stream",
     "text": [
      "21353\r"
     ]
    },
    {
     "name": "stderr",
     "output_type": "stream",
     "text": [
      "RDKit ERROR: [23:02:52] Explicit valence for atom # 0 N, 4, is greater than permitted\n",
      "Failed to featurize datapoint 0, None. Appending empty array\n",
      "[23:02:52] Explicit valence for atom # 0 N, 4, is greater than permitted\n",
      "Exception message: Python argument types in\n",
      "    rdkit.Chem.rdmolfiles.CanonicalRankAtoms(NoneType)\n",
      "did not match C++ signature:\n",
      "    CanonicalRankAtoms(RDKit::ROMol mol, bool breakTies=True, bool includeChirality=True, bool includeIsotopes=True)\n"
     ]
    },
    {
     "name": "stdout",
     "output_type": "stream",
     "text": [
      "pack_unload & freeing memory\n",
      "[30, 37]\n",
      "pack_unload & freeing memory\n",
      "[37, 46]\n",
      "pack_unload & freeing memory\n",
      "[46, 47]\n",
      "27283\r"
     ]
    },
    {
     "name": "stderr",
     "output_type": "stream",
     "text": [
      "RDKit ERROR: [23:04:37] Explicit valence for atom # 0 N, 4, is greater than permitted\n",
      "[23:04:37] Explicit valence for atom # 0 N, 4, is greater than permitted\n",
      "Failed to featurize datapoint 0, None. Appending empty array\n",
      "Exception message: Python argument types in\n",
      "    rdkit.Chem.rdmolfiles.CanonicalRankAtoms(NoneType)\n",
      "did not match C++ signature:\n",
      "    CanonicalRankAtoms(RDKit::ROMol mol, bool breakTies=True, bool includeChirality=True, bool includeIsotopes=True)\n"
     ]
    },
    {
     "name": "stdout",
     "output_type": "stream",
     "text": [
      "pack_unload & freeing memory\n",
      "[47, 47]\n",
      "29196\r"
     ]
    },
    {
     "name": "stderr",
     "output_type": "stream",
     "text": [
      "RDKit ERROR: [23:05:10] Explicit valence for atom # 0 N, 4, is greater than permitted\n",
      "Failed to featurize datapoint 0, None. Appending empty array\n",
      "[23:05:10] Explicit valence for atom # 0 N, 4, is greater than permitted\n",
      "Exception message: Python argument types in\n",
      "    rdkit.Chem.rdmolfiles.CanonicalRankAtoms(NoneType)\n",
      "did not match C++ signature:\n",
      "    CanonicalRankAtoms(RDKit::ROMol mol, bool breakTies=True, bool includeChirality=True, bool includeIsotopes=True)\n"
     ]
    },
    {
     "name": "stdout",
     "output_type": "stream",
     "text": [
      "pack_unload & freeing memory\n",
      "[47, 47]\n",
      "pack_unload & freeing memory\n",
      "[47, 47]\n",
      "32237\r"
     ]
    },
    {
     "name": "stderr",
     "output_type": "stream",
     "text": [
      "RDKit ERROR: [23:06:13] Explicit valence for atom # 0 N, 4, is greater than permitted\n",
      "[23:06:13] Explicit valence for atom # 0 N, 4, is greater than permitted\n",
      "Failed to featurize datapoint 0, None. Appending empty array\n",
      "Exception message: Python argument types in\n",
      "    rdkit.Chem.rdmolfiles.CanonicalRankAtoms(NoneType)\n",
      "did not match C++ signature:\n",
      "    CanonicalRankAtoms(RDKit::ROMol mol, bool breakTies=True, bool includeChirality=True, bool includeIsotopes=True)\n"
     ]
    },
    {
     "name": "stdout",
     "output_type": "stream",
     "text": [
      "33469\r"
     ]
    },
    {
     "name": "stderr",
     "output_type": "stream",
     "text": [
      "RDKit ERROR: [23:06:31] Explicit valence for atom # 0 N, 4, is greater than permitted\n",
      "Failed to featurize datapoint 0, None. Appending empty array\n",
      "[23:06:31] Explicit valence for atom # 0 N, 4, is greater than permitted\n",
      "Exception message: Python argument types in\n",
      "    rdkit.Chem.rdmolfiles.CanonicalRankAtoms(NoneType)\n",
      "did not match C++ signature:\n",
      "    CanonicalRankAtoms(RDKit::ROMol mol, bool breakTies=True, bool includeChirality=True, bool includeIsotopes=True)\n"
     ]
    },
    {
     "name": "stdout",
     "output_type": "stream",
     "text": [
      "pack_unload & freeing memory\n",
      "[47, 47]\n",
      "35017\r"
     ]
    },
    {
     "name": "stderr",
     "output_type": "stream",
     "text": [
      "RDKit ERROR: [23:06:56] Explicit valence for atom # 0 N, 4, is greater than permitted\n",
      "Failed to featurize datapoint 0, None. Appending empty array\n",
      "[23:06:56] Explicit valence for atom # 0 N, 4, is greater than permitted\n",
      "Exception message: Python argument types in\n",
      "    rdkit.Chem.rdmolfiles.CanonicalRankAtoms(NoneType)\n",
      "did not match C++ signature:\n",
      "    CanonicalRankAtoms(RDKit::ROMol mol, bool breakTies=True, bool includeChirality=True, bool includeIsotopes=True)\n"
     ]
    },
    {
     "name": "stdout",
     "output_type": "stream",
     "text": [
      "pack_unload & freeing memory\n",
      "[47, 47]\n",
      "pack_unload & freeing memory\n",
      "[47, 47]\n",
      "38972\r"
     ]
    },
    {
     "name": "stderr",
     "output_type": "stream",
     "text": [
      "RDKit ERROR: [23:08:16] Explicit valence for atom # 0 N, 4, is greater than permitted\n",
      "Failed to featurize datapoint 0, None. Appending empty array\n",
      "[23:08:16] Explicit valence for atom # 0 N, 4, is greater than permitted\n",
      "Exception message: Python argument types in\n",
      "    rdkit.Chem.rdmolfiles.CanonicalRankAtoms(NoneType)\n",
      "did not match C++ signature:\n",
      "    CanonicalRankAtoms(RDKit::ROMol mol, bool breakTies=True, bool includeChirality=True, bool includeIsotopes=True)\n"
     ]
    },
    {
     "name": "stdout",
     "output_type": "stream",
     "text": [
      "39849\r"
     ]
    },
    {
     "name": "stderr",
     "output_type": "stream",
     "text": [
      "RDKit ERROR: [23:08:38] Explicit valence for atom # 0 N, 4, is greater than permitted\n",
      "Failed to featurize datapoint 0, None. Appending empty array\n",
      "[23:08:38] Explicit valence for atom # 0 N, 4, is greater than permitted\n",
      "Exception message: Python argument types in\n",
      "    rdkit.Chem.rdmolfiles.CanonicalRankAtoms(NoneType)\n",
      "did not match C++ signature:\n",
      "    CanonicalRankAtoms(RDKit::ROMol mol, bool breakTies=True, bool includeChirality=True, bool includeIsotopes=True)\n"
     ]
    },
    {
     "name": "stdout",
     "output_type": "stream",
     "text": [
      "pack_unload & freeing memory\n",
      "[47, 47]\n",
      "pack_unload & freeing memory\n",
      "[47, 47]\n",
      "42475\r"
     ]
    },
    {
     "name": "stderr",
     "output_type": "stream",
     "text": [
      "RDKit ERROR: [23:09:22] Explicit valence for atom # 0 N, 4, is greater than permitted\n",
      "Failed to featurize datapoint 0, None. Appending empty array\n",
      "[23:09:22] Explicit valence for atom # 0 N, 4, is greater than permitted\n",
      "Exception message: Python argument types in\n",
      "    rdkit.Chem.rdmolfiles.CanonicalRankAtoms(NoneType)\n",
      "did not match C++ signature:\n",
      "    CanonicalRankAtoms(RDKit::ROMol mol, bool breakTies=True, bool includeChirality=True, bool includeIsotopes=True)\n"
     ]
    },
    {
     "name": "stdout",
     "output_type": "stream",
     "text": [
      "43914\r"
     ]
    },
    {
     "name": "stderr",
     "output_type": "stream",
     "text": [
      "RDKit ERROR: [23:09:51] Explicit valence for atom # 0 N, 4, is greater than permitted\n",
      "Failed to featurize datapoint 0, None. Appending empty array\n",
      "[23:09:51] Explicit valence for atom # 0 N, 4, is greater than permitted\n",
      "Exception message: Python argument types in\n",
      "    rdkit.Chem.rdmolfiles.CanonicalRankAtoms(NoneType)\n",
      "did not match C++ signature:\n",
      "    CanonicalRankAtoms(RDKit::ROMol mol, bool breakTies=True, bool includeChirality=True, bool includeIsotopes=True)\n"
     ]
    },
    {
     "name": "stdout",
     "output_type": "stream",
     "text": [
      "pack_unload & freeing memory\n",
      "[47, 47]\n",
      "45162\r"
     ]
    },
    {
     "name": "stderr",
     "output_type": "stream",
     "text": [
      "RDKit ERROR: [23:10:05] Explicit valence for atom # 0 N, 4, is greater than permitted\n",
      "Failed to featurize datapoint 0, None. Appending empty array\n",
      "[23:10:05] Explicit valence for atom # 0 N, 4, is greater than permitted\n",
      "Exception message: Python argument types in\n",
      "    rdkit.Chem.rdmolfiles.CanonicalRankAtoms(NoneType)\n",
      "did not match C++ signature:\n",
      "    CanonicalRankAtoms(RDKit::ROMol mol, bool breakTies=True, bool includeChirality=True, bool includeIsotopes=True)\n"
     ]
    },
    {
     "name": "stdout",
     "output_type": "stream",
     "text": [
      "45163\r",
      "45164\r",
      "45165\r",
      "45166\r",
      "45167\r",
      "45168\r",
      "45169\r",
      "45170\r",
      "45171\r",
      "45171\r",
      "45172\r",
      "45173\r"
     ]
    },
    {
     "name": "stderr",
     "output_type": "stream",
     "text": [
      "RDKit ERROR: [23:10:05] Explicit valence for atom # 0 N, 4, is greater than permitted\n",
      "Failed to featurize datapoint 0, None. Appending empty array\n",
      "[23:10:05] Explicit valence for atom # 0 N, 4, is greater than permitted\n",
      "Exception message: Python argument types in\n",
      "    rdkit.Chem.rdmolfiles.CanonicalRankAtoms(NoneType)\n",
      "did not match C++ signature:\n",
      "    CanonicalRankAtoms(RDKit::ROMol mol, bool breakTies=True, bool includeChirality=True, bool includeIsotopes=True)\n",
      "RDKit ERROR: [23:10:05] Explicit valence for atom # 0 N, 4, is greater than permitted\n",
      "Failed to featurize datapoint 0, None. Appending empty array\n",
      "[23:10:05] Explicit valence for atom # 0 N, 4, is greater than permitted\n",
      "Exception message: Python argument types in\n",
      "    rdkit.Chem.rdmolfiles.CanonicalRankAtoms(NoneType)\n",
      "did not match C++ signature:\n",
      "    CanonicalRankAtoms(RDKit::ROMol mol, bool breakTies=True, bool includeChirality=True, bool includeIsotopes=True)\n"
     ]
    },
    {
     "name": "stdout",
     "output_type": "stream",
     "text": [
      "pack_unload & freeing memory\n",
      "[47, 47]\n",
      "47274\r"
     ]
    },
    {
     "name": "stderr",
     "output_type": "stream",
     "text": [
      "RDKit ERROR: [23:10:43] Explicit valence for atom # 0 N, 4, is greater than permitted\n",
      "Failed to featurize datapoint 0, None. Appending empty array\n",
      "[23:10:43] Explicit valence for atom # 0 N, 4, is greater than permitted\n",
      "Exception message: Python argument types in\n",
      "    rdkit.Chem.rdmolfiles.CanonicalRankAtoms(NoneType)\n",
      "did not match C++ signature:\n",
      "    CanonicalRankAtoms(RDKit::ROMol mol, bool breakTies=True, bool includeChirality=True, bool includeIsotopes=True)\n"
     ]
    },
    {
     "name": "stdout",
     "output_type": "stream",
     "text": [
      "47741\r"
     ]
    },
    {
     "name": "stderr",
     "output_type": "stream",
     "text": [
      "RDKit ERROR: [23:10:56] Explicit valence for atom # 0 N, 4, is greater than permitted\n",
      "Failed to featurize datapoint 0, None. Appending empty array\n",
      "[23:10:56] Explicit valence for atom # 0 N, 4, is greater than permitted\n",
      "Exception message: Python argument types in\n",
      "    rdkit.Chem.rdmolfiles.CanonicalRankAtoms(NoneType)\n",
      "did not match C++ signature:\n",
      "    CanonicalRankAtoms(RDKit::ROMol mol, bool breakTies=True, bool includeChirality=True, bool includeIsotopes=True)\n"
     ]
    },
    {
     "name": "stdout",
     "output_type": "stream",
     "text": [
      "pack_unload & freeing memory\n",
      "[47, 47]\n",
      "pack_unload & freeing memory\n",
      "[47, 49]\n",
      "50354\r"
     ]
    },
    {
     "name": "stderr",
     "output_type": "stream",
     "text": [
      "RDKit ERROR: [23:11:41] Explicit valence for atom # 0 N, 4, is greater than permitted\n",
      "Failed to featurize datapoint 0, None. Appending empty array\n",
      "[23:11:41] Explicit valence for atom # 0 N, 4, is greater than permitted\n",
      "Exception message: Python argument types in\n",
      "    rdkit.Chem.rdmolfiles.CanonicalRankAtoms(NoneType)\n",
      "did not match C++ signature:\n",
      "    CanonicalRankAtoms(RDKit::ROMol mol, bool breakTies=True, bool includeChirality=True, bool includeIsotopes=True)\n"
     ]
    },
    {
     "name": "stdout",
     "output_type": "stream",
     "text": [
      "pack_unload & freeing memory\n",
      "[49, 49]\n",
      "pack_unload & freeing memory\n",
      "[49, 49]\n",
      "pack_unload & freeing memory\n",
      "[49, 49]\n",
      "pack_unload & freeing memory\n",
      "[49, 49]\n",
      "59749\r"
     ]
    },
    {
     "name": "stderr",
     "output_type": "stream",
     "text": [
      "RDKit ERROR: [23:14:28] Explicit valence for atom # 0 N, 4, is greater than permitted\n",
      "Failed to featurize datapoint 0, None. Appending empty array\n",
      "[23:14:28] Explicit valence for atom # 0 N, 4, is greater than permitted\n",
      "Exception message: Python argument types in\n",
      "    rdkit.Chem.rdmolfiles.CanonicalRankAtoms(NoneType)\n",
      "did not match C++ signature:\n",
      "    CanonicalRankAtoms(RDKit::ROMol mol, bool breakTies=True, bool includeChirality=True, bool includeIsotopes=True)\n"
     ]
    },
    {
     "name": "stdout",
     "output_type": "stream",
     "text": [
      "59862\r"
     ]
    },
    {
     "name": "stderr",
     "output_type": "stream",
     "text": [
      "RDKit ERROR: [23:14:32] Explicit valence for atom # 0 N, 4, is greater than permitted\n",
      "Failed to featurize datapoint 0, None. Appending empty array\n",
      "[23:14:32] Explicit valence for atom # 0 N, 4, is greater than permitted\n",
      "Exception message: Python argument types in\n",
      "    rdkit.Chem.rdmolfiles.CanonicalRankAtoms(NoneType)\n",
      "did not match C++ signature:\n",
      "    CanonicalRankAtoms(RDKit::ROMol mol, bool breakTies=True, bool includeChirality=True, bool includeIsotopes=True)\n"
     ]
    },
    {
     "name": "stdout",
     "output_type": "stream",
     "text": [
      "pack_unload & freeing memory\n",
      "[49, 49]\n",
      "61193\r"
     ]
    },
    {
     "name": "stderr",
     "output_type": "stream",
     "text": [
      "RDKit ERROR: [23:14:48] Explicit valence for atom # 0 N, 4, is greater than permitted\n",
      "Failed to featurize datapoint 0, None. Appending empty array\n",
      "[23:14:48] Explicit valence for atom # 0 N, 4, is greater than permitted\n",
      "Exception message: Python argument types in\n",
      "    rdkit.Chem.rdmolfiles.CanonicalRankAtoms(NoneType)\n",
      "did not match C++ signature:\n",
      "    CanonicalRankAtoms(RDKit::ROMol mol, bool breakTies=True, bool includeChirality=True, bool includeIsotopes=True)\n"
     ]
    },
    {
     "name": "stdout",
     "output_type": "stream",
     "text": [
      "pack_unload & freeing memory\n",
      "[49, 49]\n",
      "pack_unload & freeing memory\n",
      "[49, 49]\n",
      "pack_unload & freeing memory\n",
      "[49, 49]\n",
      "66949\r"
     ]
    },
    {
     "name": "stderr",
     "output_type": "stream",
     "text": [
      "RDKit ERROR: [23:16:28] Explicit valence for atom # 0 N, 4, is greater than permitted\n",
      "Failed to featurize datapoint 0, None. Appending empty array\n",
      "[23:16:28] Explicit valence for atom # 0 N, 4, is greater than permitted\n",
      "Exception message: Python argument types in\n",
      "    rdkit.Chem.rdmolfiles.CanonicalRankAtoms(NoneType)\n",
      "did not match C++ signature:\n",
      "    CanonicalRankAtoms(RDKit::ROMol mol, bool breakTies=True, bool includeChirality=True, bool includeIsotopes=True)\n",
      "RDKit ERROR: [23:16:28] Explicit valence for atom # 0 N, 4, is greater than permitted\n",
      "[23:16:28] Explicit valence for atom # 0 N, 4, is greater than permitted\n",
      "Failed to featurize datapoint 0, None. Appending empty array\n",
      "Exception message: Python argument types in\n",
      "    rdkit.Chem.rdmolfiles.CanonicalRankAtoms(NoneType)\n",
      "did not match C++ signature:\n",
      "    CanonicalRankAtoms(RDKit::ROMol mol, bool breakTies=True, bool includeChirality=True, bool includeIsotopes=True)\n"
     ]
    },
    {
     "name": "stdout",
     "output_type": "stream",
     "text": [
      "67810\r"
     ]
    },
    {
     "name": "stderr",
     "output_type": "stream",
     "text": [
      "RDKit ERROR: [23:16:50] SMILES Parse Error: syntax error while parsing: OC1=CC=CC(=C1)C-1=C2\\CCC(=N2)\\C(=C2/N\\C(\\C=C2)=C(/C2=N/C(/C=C2)=C(\\C2=CC=C\\-1N2)C1=CC(O)=CC=C1)C1=CC(O)=CC=C1)\\C1=CC(O)=CC=C1\n",
      "RDKit ERROR: [23:16:50] SMILES Parse Error: Failed parsing SMILES 'OC1=CC=CC(=C1)C-1=C2\\CCC(=N2)\\C(=C2/N\\C(\\C=C2)=C(/C2=N/C(/C=C2)=C(\\C2=CC=C\\-1N2)C1=CC(O)=CC=C1)C1=CC(O)=CC=C1)\\C1=CC(O)=CC=C1' for input: 'OC1=CC=CC(=C1)C-1=C2\\CCC(=N2)\\C(=C2/N\\C(\\C=C2)=C(/C2=N/C(/C=C2)=C(\\C2=CC=C\\-1N2)C1=CC(O)=CC=C1)C1=CC(O)=CC=C1)\\C1=CC(O)=CC=C1'\n",
      "Failed to featurize datapoint 0, None. Appending empty array\n",
      "[23:16:50] SMILES Parse Error: syntax error while parsing: OC1=CC=CC(=C1)C-1=C2\\CCC(=N2)\\C(=C2/N\\C(\\C=C2)=C(/C2=N/C(/C=C2)=C(\\C2=CC=C\\-1N2)C1=CC(O)=CC=C1)C1=CC(O)=CC=C1)\\C1=CC(O)=CC=C1\n",
      "Exception message: Python argument types in\n",
      "    rdkit.Chem.rdmolfiles.CanonicalRankAtoms(NoneType)\n",
      "did not match C++ signature:\n",
      "    CanonicalRankAtoms(RDKit::ROMol mol, bool breakTies=True, bool includeChirality=True, bool includeIsotopes=True)\n"
     ]
    },
    {
     "name": "stdout",
     "output_type": "stream",
     "text": [
      "67811\r",
      "67812\r",
      "67813\r",
      "67814\r",
      "67814\r",
      "67815\r",
      "67816\r",
      "67817\r",
      "67818\r"
     ]
    },
    {
     "name": "stderr",
     "output_type": "stream",
     "text": [
      "[23:16:50] SMILES Parse Error: Failed parsing SMILES 'OC1=CC=CC(=C1)C-1=C2\\CCC(=N2)\\C(=C2/N\\C(\\C=C2)=C(/C2=N/C(/C=C2)=C(\\C2=CC=C\\-1N2)C1=CC(O)=CC=C1)C1=CC(O)=CC=C1)\\C1=CC(O)=CC=C1' for input: 'OC1=CC=CC(=C1)C-1=C2\\CCC(=N2)\\C(=C2/N\\C(\\C=C2)=C(/C2=N/C(/C=C2)=C(\\C2=CC=C\\-1N2)C1=CC(O)=CC=C1)C1=CC(O)=CC=C1)\\C1=CC(O)=CC=C1'\n"
     ]
    },
    {
     "name": "stdout",
     "output_type": "stream",
     "text": [
      "pack_unload & freeing memory\n",
      "[49, 49]\n",
      "pack_unload & freeing memory\n",
      "[49, 49]\n",
      "pack_unload & freeing memory\n",
      "[49, 49]\n",
      "pack_unload & freeing memory\n",
      "[49, 49]\n",
      "75795\r"
     ]
    },
    {
     "name": "stderr",
     "output_type": "stream",
     "text": [
      "RDKit ERROR: [23:19:12] Explicit valence for atom # 0 N, 4, is greater than permitted\n",
      "[23:19:12] Explicit valence for atom # 0 N, 4, is greater than permitted\n",
      "Failed to featurize datapoint 0, None. Appending empty array\n",
      "Exception message: Python argument types in\n",
      "    rdkit.Chem.rdmolfiles.CanonicalRankAtoms(NoneType)\n",
      "did not match C++ signature:\n",
      "    CanonicalRankAtoms(RDKit::ROMol mol, bool breakTies=True, bool includeChirality=True, bool includeIsotopes=True)\n"
     ]
    },
    {
     "name": "stdout",
     "output_type": "stream",
     "text": [
      "pack_unload & freeing memory\n",
      "[49, 49]\n",
      "76502\r"
     ]
    },
    {
     "name": "stderr",
     "output_type": "stream",
     "text": [
      "RDKit ERROR: [23:19:22] Explicit valence for atom # 0 N, 4, is greater than permitted\n",
      "Failed to featurize datapoint 0, None. Appending empty array\n",
      "[23:19:22] Explicit valence for atom # 0 N, 4, is greater than permitted\n",
      "Exception message: Python argument types in\n",
      "    rdkit.Chem.rdmolfiles.CanonicalRankAtoms(NoneType)\n",
      "did not match C++ signature:\n",
      "    CanonicalRankAtoms(RDKit::ROMol mol, bool breakTies=True, bool includeChirality=True, bool includeIsotopes=True)\n"
     ]
    },
    {
     "name": "stdout",
     "output_type": "stream",
     "text": [
      "pack_unload & freeing memory\n",
      "[49, 49]\n",
      "pack_unload & freeing memory\n",
      "[49, 49]\n",
      "81368\r"
     ]
    },
    {
     "name": "stderr",
     "output_type": "stream",
     "text": [
      "RDKit ERROR: [23:20:46] Explicit valence for atom # 0 N, 4, is greater than permitted\n",
      "Failed to featurize datapoint 0, None. Appending empty array\n",
      "[23:20:46] Explicit valence for atom # 0 N, 4, is greater than permitted\n",
      "Exception message: Python argument types in\n",
      "    rdkit.Chem.rdmolfiles.CanonicalRankAtoms(NoneType)\n",
      "did not match C++ signature:\n",
      "    CanonicalRankAtoms(RDKit::ROMol mol, bool breakTies=True, bool includeChirality=True, bool includeIsotopes=True)\n"
     ]
    },
    {
     "name": "stdout",
     "output_type": "stream",
     "text": [
      "pack_unload & freeing memory\n",
      "[49, 49]\n",
      "82817\r"
     ]
    },
    {
     "name": "stderr",
     "output_type": "stream",
     "text": [
      "RDKit ERROR: [23:21:16] Explicit valence for atom # 0 N, 4, is greater than permitted\n",
      "Failed to featurize datapoint 0, None. Appending empty array\n",
      "[23:21:16] Explicit valence for atom # 0 N, 4, is greater than permitted\n",
      "Exception message: Python argument types in\n",
      "    rdkit.Chem.rdmolfiles.CanonicalRankAtoms(NoneType)\n",
      "did not match C++ signature:\n",
      "    CanonicalRankAtoms(RDKit::ROMol mol, bool breakTies=True, bool includeChirality=True, bool includeIsotopes=True)\n"
     ]
    },
    {
     "name": "stdout",
     "output_type": "stream",
     "text": [
      "pack_unload & freeing memory\n",
      "[49, 49]\n",
      "pack_unload & freeing memory\n",
      "[49, 49]\n",
      "86005\r"
     ]
    },
    {
     "name": "stderr",
     "output_type": "stream",
     "text": [
      "RDKit ERROR: [23:22:30] Explicit valence for atom # 0 N, 4, is greater than permitted\n",
      "Failed to featurize datapoint 0, None. Appending empty array\n",
      "[23:22:30] Explicit valence for atom # 0 N, 4, is greater than permitted\n",
      "Exception message: Python argument types in\n",
      "    rdkit.Chem.rdmolfiles.CanonicalRankAtoms(NoneType)\n",
      "did not match C++ signature:\n",
      "    CanonicalRankAtoms(RDKit::ROMol mol, bool breakTies=True, bool includeChirality=True, bool includeIsotopes=True)\n"
     ]
    },
    {
     "name": "stdout",
     "output_type": "stream",
     "text": [
      "87960\r"
     ]
    },
    {
     "name": "stderr",
     "output_type": "stream",
     "text": [
      "RDKit ERROR: [23:23:03] Explicit valence for atom # 0 N, 4, is greater than permitted\n",
      "Failed to featurize datapoint 0, None. Appending empty array\n",
      "[23:23:03] Explicit valence for atom # 0 N, 4, is greater than permitted\n",
      "Exception message: Python argument types in\n",
      "    rdkit.Chem.rdmolfiles.CanonicalRankAtoms(NoneType)\n",
      "did not match C++ signature:\n",
      "    CanonicalRankAtoms(RDKit::ROMol mol, bool breakTies=True, bool includeChirality=True, bool includeIsotopes=True)\n"
     ]
    },
    {
     "name": "stdout",
     "output_type": "stream",
     "text": [
      "pack_unload & freeing memory\n",
      "[49, 49]\n",
      "88281\r"
     ]
    },
    {
     "name": "stderr",
     "output_type": "stream",
     "text": [
      "RDKit ERROR: [23:23:06] SMILES Parse Error: syntax error while parsing: OC1=CC=CC(=C1)C-1=C2\\CCC(=N2)\\C(=C2/N\\C(\\C=C2)=C(/C2=N/C(/C=C2)=C(\\C2=CC=C\\-1N2)C1=CC(O)=CC=C1)C1=CC(O)=CC=C1)\\C1=CC(O)=CC=C1\n",
      "[23:23:06] SMILES Parse Error: syntax error while parsing: OC1=CC=CC(=C1)C-1=C2\\CCC(=N2)\\C(=C2/N\\C(\\C=C2)=C(/C2=N/C(/C=C2)=C(\\C2=CC=C\\-1N2)C1=CC(O)=CC=C1)C1=CC(O)=CC=C1)\\C1=CC(O)=CC=C1\n",
      "RDKit ERROR: [23:23:06] SMILES Parse Error: Failed parsing SMILES 'OC1=CC=CC(=C1)C-1=C2\\CCC(=N2)\\C(=C2/N\\C(\\C=C2)=C(/C2=N/C(/C=C2)=C(\\C2=CC=C\\-1N2)C1=CC(O)=CC=C1)C1=CC(O)=CC=C1)\\C1=CC(O)=CC=C1' for input: 'OC1=CC=CC(=C1)C-1=C2\\CCC(=N2)\\C(=C2/N\\C(\\C=C2)=C(/C2=N/C(/C=C2)=C(\\C2=CC=C\\-1N2)C1=CC(O)=CC=C1)C1=CC(O)=CC=C1)\\C1=CC(O)=CC=C1'\n",
      "Failed to featurize datapoint 0, None. Appending empty array\n",
      "[23:23:06] SMILES Parse Error: Failed parsing SMILES 'OC1=CC=CC(=C1)C-1=C2\\CCC(=N2)\\C(=C2/N\\C(\\C=C2)=C(/C2=N/C(/C=C2)=C(\\C2=CC=C\\-1N2)C1=CC(O)=CC=C1)C1=CC(O)=CC=C1)\\C1=CC(O)=CC=C1' for input: 'OC1=CC=CC(=C1)C-1=C2\\CCC(=N2)\\C(=C2/N\\C(\\C=C2)=C(/C2=N/C(/C=C2)=C(\\C2=CC=C\\-1N2)C1=CC(O)=CC=C1)C1=CC(O)=CC=C1)\\C1=CC(O)=CC=C1'\n",
      "Exception message: Python argument types in\n",
      "    rdkit.Chem.rdmolfiles.CanonicalRankAtoms(NoneType)\n",
      "did not match C++ signature:\n",
      "    CanonicalRankAtoms(RDKit::ROMol mol, bool breakTies=True, bool includeChirality=True, bool includeIsotopes=True)\n"
     ]
    },
    {
     "name": "stdout",
     "output_type": "stream",
     "text": [
      "89703\r"
     ]
    },
    {
     "name": "stderr",
     "output_type": "stream",
     "text": [
      "RDKit ERROR: [23:23:30] Explicit valence for atom # 0 N, 4, is greater than permitted\n",
      "Failed to featurize datapoint 0, None. Appending empty array\n",
      "[23:23:30] Explicit valence for atom # 0 N, 4, is greater than permitted\n",
      "Exception message: Python argument types in\n",
      "    rdkit.Chem.rdmolfiles.CanonicalRankAtoms(NoneType)\n",
      "did not match C++ signature:\n",
      "    CanonicalRankAtoms(RDKit::ROMol mol, bool breakTies=True, bool includeChirality=True, bool includeIsotopes=True)\n"
     ]
    },
    {
     "name": "stdout",
     "output_type": "stream",
     "text": [
      "pack_unload & freeing memory\n",
      "[49, 49]\n",
      "pack_unload & freeing memory\n",
      "[49, 55]\n",
      "92079\r"
     ]
    },
    {
     "name": "stderr",
     "output_type": "stream",
     "text": [
      "RDKit ERROR: [23:24:15] Explicit valence for atom # 0 N, 4, is greater than permitted\n",
      "Failed to featurize datapoint 0, None. Appending empty array\n",
      "[23:24:15] Explicit valence for atom # 0 N, 4, is greater than permitted\n",
      "Exception message: Python argument types in\n",
      "    rdkit.Chem.rdmolfiles.CanonicalRankAtoms(NoneType)\n",
      "did not match C++ signature:\n",
      "    CanonicalRankAtoms(RDKit::ROMol mol, bool breakTies=True, bool includeChirality=True, bool includeIsotopes=True)\n",
      "RDKit ERROR: [23:24:15] Explicit valence for atom # 0 N, 4, is greater than permitted\n",
      "Failed to featurize datapoint 0, None. Appending empty array\n",
      "[23:24:15] Explicit valence for atom # 0 N, 4, is greater than permitted\n",
      "Exception message: Python argument types in\n",
      "    rdkit.Chem.rdmolfiles.CanonicalRankAtoms(NoneType)\n",
      "did not match C++ signature:\n",
      "    CanonicalRankAtoms(RDKit::ROMol mol, bool breakTies=True, bool includeChirality=True, bool includeIsotopes=True)\n",
      "RDKit ERROR: [23:24:15] Explicit valence for atom # 0 N, 4, is greater than permitted\n",
      "Failed to featurize datapoint 0, None. Appending empty array\n",
      "[23:24:15] Explicit valence for atom # 0 N, 4, is greater than permitted\n",
      "Exception message: Python argument types in\n",
      "    rdkit.Chem.rdmolfiles.CanonicalRankAtoms(NoneType)\n",
      "did not match C++ signature:\n",
      "    CanonicalRankAtoms(RDKit::ROMol mol, bool breakTies=True, bool includeChirality=True, bool includeIsotopes=True)\n"
     ]
    },
    {
     "name": "stdout",
     "output_type": "stream",
     "text": [
      "92080\r",
      "92081\r",
      "92082\r",
      "92083\r",
      "92084\r",
      "92085\r",
      "92086\r",
      "92087\r",
      "92088\r",
      "92089\r",
      "92090\r",
      "92091\r",
      "92092\r",
      "92093\r",
      "92094\r",
      "92095\r",
      "92096\r",
      "92097\r",
      "92098\r",
      "92099\r",
      "92100\r",
      "92101\r",
      "92102\r",
      "92103\r",
      "92104\r",
      "92105\r",
      "92106\r",
      "92107\r",
      "92108\r",
      "92109\r",
      "92110\r",
      "92111\r",
      "92111\r",
      "92112\r",
      "92113\r",
      "92114\r",
      "92115\r",
      "92116\r",
      "92117\r",
      "92118\r",
      "92119\r",
      "92120\r",
      "92121\r",
      "92121\r",
      "92122\r",
      "92123\r",
      "92124\r",
      "92124\r",
      "92125\r",
      "92126\r",
      "92127\r"
     ]
    },
    {
     "name": "stderr",
     "output_type": "stream",
     "text": [
      "RDKit ERROR: [23:24:15] Explicit valence for atom # 0 N, 4, is greater than permitted\n",
      "Failed to featurize datapoint 0, None. Appending empty array\n",
      "[23:24:15] Explicit valence for atom # 0 N, 4, is greater than permitted\n",
      "Exception message: Python argument types in\n",
      "    rdkit.Chem.rdmolfiles.CanonicalRankAtoms(NoneType)\n",
      "did not match C++ signature:\n",
      "    CanonicalRankAtoms(RDKit::ROMol mol, bool breakTies=True, bool includeChirality=True, bool includeIsotopes=True)\n",
      "RDKit ERROR: [23:24:15] Explicit valence for atom # 0 N, 4, is greater than permitted\n",
      "Failed to featurize datapoint 0, None. Appending empty array\n",
      "Exception message: Python argument types in\n",
      "    rdkit.Chem.rdmolfiles.CanonicalRankAtoms(NoneType)\n",
      "did not match C++ signature:\n",
      "    CanonicalRankAtoms(RDKit::ROMol mol, bool breakTies=True, bool includeChirality=True, bool includeIsotopes=True)\n",
      "[23:24:15] Explicit valence for atom # 0 N, 4, is greater than permitted\n",
      "RDKit ERROR: [23:24:15] Explicit valence for atom # 0 N, 4, is greater than permitted\n",
      "[23:24:15] Explicit valence for atom # 0 N, 4, is greater than permitted\n",
      "Failed to featurize datapoint 0, None. Appending empty array\n",
      "Exception message: Python argument types in\n",
      "    rdkit.Chem.rdmolfiles.CanonicalRankAtoms(NoneType)\n",
      "did not match C++ signature:\n",
      "    CanonicalRankAtoms(RDKit::ROMol mol, bool breakTies=True, bool includeChirality=True, bool includeIsotopes=True)\n"
     ]
    },
    {
     "name": "stdout",
     "output_type": "stream",
     "text": [
      "92213\r"
     ]
    },
    {
     "name": "stderr",
     "output_type": "stream",
     "text": [
      "RDKit ERROR: [23:24:16] Explicit valence for atom # 0 N, 4, is greater than permitted\n",
      "Failed to featurize datapoint 0, None. Appending empty array\n",
      "[23:24:16] Explicit valence for atom # 0 N, 4, is greater than permitted\n",
      "Exception message: Python argument types in\n",
      "    rdkit.Chem.rdmolfiles.CanonicalRankAtoms(NoneType)\n",
      "did not match C++ signature:\n",
      "    CanonicalRankAtoms(RDKit::ROMol mol, bool breakTies=True, bool includeChirality=True, bool includeIsotopes=True)\n"
     ]
    },
    {
     "name": "stdout",
     "output_type": "stream",
     "text": [
      "92214\r",
      "92215\r",
      "92216\r",
      "92217\r",
      "92218\r",
      "92219\r",
      "92220\r",
      "92221\r",
      "92222\r",
      "92223\r",
      "92224\r",
      "92225\r",
      "92226\r",
      "92227\r",
      "92228\r",
      "92229\r",
      "92230\r",
      "92231\r",
      "92232\r",
      "92233\r",
      "92234\r",
      "92235\r",
      "92236\r",
      "92237\r",
      "92238\r",
      "92239\r",
      "92240\r",
      "92241\r",
      "92242\r",
      "92243\r",
      "92244\r",
      "92245\r",
      "92246\r",
      "92247\r",
      "92248\r",
      "92249\r",
      "92250\r",
      "92251\r",
      "92252\r",
      "92252\r",
      "92253\r",
      "92254\r"
     ]
    },
    {
     "name": "stderr",
     "output_type": "stream",
     "text": [
      "RDKit ERROR: [23:24:16] Explicit valence for atom # 0 N, 4, is greater than permitted\n",
      "[23:24:16] Explicit valence for atom # 0 N, 4, is greater than permitted\n",
      "Failed to featurize datapoint 0, None. Appending empty array\n",
      "Exception message: Python argument types in\n",
      "    rdkit.Chem.rdmolfiles.CanonicalRankAtoms(NoneType)\n",
      "did not match C++ signature:\n",
      "    CanonicalRankAtoms(RDKit::ROMol mol, bool breakTies=True, bool includeChirality=True, bool includeIsotopes=True)\n",
      "RDKit ERROR: [23:24:16] Explicit valence for atom # 0 N, 4, is greater than permitted\n",
      "Failed to featurize datapoint 0, None. Appending empty array\n",
      "[23:24:16] Explicit valence for atom # 0 N, 4, is greater than permitted\n",
      "Exception message: Python argument types in\n",
      "    rdkit.Chem.rdmolfiles.CanonicalRankAtoms(NoneType)\n",
      "did not match C++ signature:\n",
      "    CanonicalRankAtoms(RDKit::ROMol mol, bool breakTies=True, bool includeChirality=True, bool includeIsotopes=True)\n",
      "RDKit ERROR: [23:24:16] Explicit valence for atom # 0 N, 4, is greater than permitted\n",
      "Failed to featurize datapoint 0, None. Appending empty array\n",
      "[23:24:16] Explicit valence for atom # 0 N, 4, is greater than permitted\n",
      "Exception message: Python argument types in\n",
      "    rdkit.Chem.rdmolfiles.CanonicalRankAtoms(NoneType)\n",
      "did not match C++ signature:\n",
      "    CanonicalRankAtoms(RDKit::ROMol mol, bool breakTies=True, bool includeChirality=True, bool includeIsotopes=True)\n"
     ]
    },
    {
     "name": "stdout",
     "output_type": "stream",
     "text": [
      "92329\r"
     ]
    },
    {
     "name": "stderr",
     "output_type": "stream",
     "text": [
      "RDKit ERROR: [23:24:16] Explicit valence for atom # 0 N, 4, is greater than permitted\n",
      "Failed to featurize datapoint 0, None. Appending empty array\n",
      "[23:24:16] Explicit valence for atom # 0 N, 4, is greater than permitted\n",
      "Exception message: Python argument types in\n",
      "    rdkit.Chem.rdmolfiles.CanonicalRankAtoms(NoneType)\n",
      "did not match C++ signature:\n",
      "    CanonicalRankAtoms(RDKit::ROMol mol, bool breakTies=True, bool includeChirality=True, bool includeIsotopes=True)\n"
     ]
    },
    {
     "name": "stdout",
     "output_type": "stream",
     "text": [
      "92330\r",
      "92331\r",
      "92332\r",
      "92332\r",
      "92333\r",
      "92334\r",
      "92335\r",
      "92336\r",
      "92337\r",
      "92338\r",
      "92339\r",
      "92340\r",
      "92341\r",
      "92342\r",
      "92343\r",
      "92344\r",
      "92345\r",
      "92346\r",
      "92347\r",
      "92348\r",
      "92349\r",
      "92350\r",
      "92351\r",
      "92352\r",
      "92353\r",
      "92354\r",
      "92355\r",
      "92356\r",
      "92357\r",
      "92358\r",
      "92359\r",
      "92360\r",
      "92361\r",
      "92362\r",
      "92363\r"
     ]
    },
    {
     "name": "stderr",
     "output_type": "stream",
     "text": [
      "RDKit ERROR: [23:24:17] Explicit valence for atom # 0 N, 4, is greater than permitted\n",
      "Failed to featurize datapoint 0, None. Appending empty array\n",
      "[23:24:17] Explicit valence for atom # 0 N, 4, is greater than permitted\n",
      "Exception message: Python argument types in\n",
      "    rdkit.Chem.rdmolfiles.CanonicalRankAtoms(NoneType)\n",
      "did not match C++ signature:\n",
      "    CanonicalRankAtoms(RDKit::ROMol mol, bool breakTies=True, bool includeChirality=True, bool includeIsotopes=True)\n",
      "RDKit ERROR: [23:24:17] Explicit valence for atom # 0 N, 4, is greater than permitted\n",
      "Failed to featurize datapoint 0, None. Appending empty array\n",
      "[23:24:17] Explicit valence for atom # 0 N, 4, is greater than permitted\n",
      "Exception message: Python argument types in\n",
      "    rdkit.Chem.rdmolfiles.CanonicalRankAtoms(NoneType)\n",
      "did not match C++ signature:\n",
      "    CanonicalRankAtoms(RDKit::ROMol mol, bool breakTies=True, bool includeChirality=True, bool includeIsotopes=True)\n"
     ]
    },
    {
     "name": "stdout",
     "output_type": "stream",
     "text": [
      "92364\r",
      "92365\r",
      "92366\r",
      "92367\r",
      "92368\r",
      "92369\r",
      "92370\r",
      "92371\r",
      "92371\r",
      "92372\r",
      "92373\r",
      "92374\r",
      "92375\r",
      "92376\r",
      "92377\r",
      "92378\r",
      "92379\r",
      "92380\r",
      "92381\r",
      "92382\r",
      "92383\r",
      "92384\r",
      "92385\r",
      "92386\r",
      "92387\r",
      "92387\r",
      "92388\r",
      "92389\r",
      "92390\r",
      "92391\r",
      "92392\r",
      "92393\r",
      "92394\r",
      "92395\r",
      "92396\r"
     ]
    },
    {
     "name": "stderr",
     "output_type": "stream",
     "text": [
      "RDKit ERROR: [23:24:17] Explicit valence for atom # 0 N, 4, is greater than permitted\n",
      "Failed to featurize datapoint 0, None. Appending empty array\n",
      "[23:24:17] Explicit valence for atom # 0 N, 4, is greater than permitted\n",
      "Exception message: Python argument types in\n",
      "    rdkit.Chem.rdmolfiles.CanonicalRankAtoms(NoneType)\n",
      "did not match C++ signature:\n",
      "    CanonicalRankAtoms(RDKit::ROMol mol, bool breakTies=True, bool includeChirality=True, bool includeIsotopes=True)\n"
     ]
    },
    {
     "name": "stdout",
     "output_type": "stream",
     "text": [
      "92487\r"
     ]
    },
    {
     "name": "stderr",
     "output_type": "stream",
     "text": [
      "RDKit ERROR: [23:24:17] Explicit valence for atom # 0 N, 4, is greater than permitted\n",
      "Failed to featurize datapoint 0, None. Appending empty array\n",
      "[23:24:17] Explicit valence for atom # 0 N, 4, is greater than permitted\n",
      "Exception message: Python argument types in\n",
      "    rdkit.Chem.rdmolfiles.CanonicalRankAtoms(NoneType)\n",
      "did not match C++ signature:\n",
      "    CanonicalRankAtoms(RDKit::ROMol mol, bool breakTies=True, bool includeChirality=True, bool includeIsotopes=True)\n",
      "RDKit ERROR: [23:24:18] Explicit valence for atom # 0 N, 4, is greater than permitted\n",
      "Failed to featurize datapoint 0, None. Appending empty array\n",
      "[23:24:18] Explicit valence for atom # 0 N, 4, is greater than permitted\n",
      "Exception message: Python argument types in\n",
      "    rdkit.Chem.rdmolfiles.CanonicalRankAtoms(NoneType)\n",
      "did not match C++ signature:\n",
      "    CanonicalRankAtoms(RDKit::ROMol mol, bool breakTies=True, bool includeChirality=True, bool includeIsotopes=True)\n"
     ]
    },
    {
     "name": "stdout",
     "output_type": "stream",
     "text": [
      "92542\r"
     ]
    },
    {
     "name": "stderr",
     "output_type": "stream",
     "text": [
      "RDKit ERROR: [23:24:18] Explicit valence for atom # 0 N, 4, is greater than permitted\n",
      "Failed to featurize datapoint 0, None. Appending empty array\n",
      "[23:24:18] Explicit valence for atom # 0 N, 4, is greater than permitted\n",
      "Exception message: Python argument types in\n",
      "    rdkit.Chem.rdmolfiles.CanonicalRankAtoms(NoneType)\n",
      "did not match C++ signature:\n",
      "    CanonicalRankAtoms(RDKit::ROMol mol, bool breakTies=True, bool includeChirality=True, bool includeIsotopes=True)\n",
      "RDKit ERROR: [23:24:18] Explicit valence for atom # 0 N, 4, is greater than permitted\n",
      "Failed to featurize datapoint 0, None. Appending empty array\n",
      "[23:24:18] Explicit valence for atom # 0 N, 4, is greater than permitted\n",
      "Exception message: Python argument types in\n",
      "    rdkit.Chem.rdmolfiles.CanonicalRankAtoms(NoneType)\n",
      "did not match C++ signature:\n",
      "    CanonicalRankAtoms(RDKit::ROMol mol, bool breakTies=True, bool includeChirality=True, bool includeIsotopes=True)\n"
     ]
    },
    {
     "name": "stdout",
     "output_type": "stream",
     "text": [
      "92593\r"
     ]
    },
    {
     "name": "stderr",
     "output_type": "stream",
     "text": [
      "RDKit ERROR: [23:24:18] Explicit valence for atom # 0 N, 4, is greater than permitted\n",
      "Failed to featurize datapoint 0, None. Appending empty array\n",
      "[23:24:18] Explicit valence for atom # 0 N, 4, is greater than permitted\n",
      "Exception message: Python argument types in\n",
      "    rdkit.Chem.rdmolfiles.CanonicalRankAtoms(NoneType)\n",
      "did not match C++ signature:\n",
      "    CanonicalRankAtoms(RDKit::ROMol mol, bool breakTies=True, bool includeChirality=True, bool includeIsotopes=True)\n",
      "RDKit ERROR: [23:24:18] SMILES Parse Error: syntax error while parsing: OC1=CC=CC(=C1)C-1=C2\\CCC(=N2)\\C(=C2/N\\C(\\C=C2)=C(/C2=N/C(/C=C2)=C(\\C2=CC=C\\-1N2)C1=CC(O)=CC=C1)C1=CC(O)=CC=C1)\\C1=CC(O)=CC=C1\n",
      "RDKit ERROR: [23:24:18] SMILES Parse Error: Failed parsing SMILES 'OC1=CC=CC(=C1)C-1=C2\\CCC(=N2)\\C(=C2/N\\C(\\C=C2)=C(/C2=N/C(/C=C2)=C(\\C2=CC=C\\-1N2)C1=CC(O)=CC=C1)C1=CC(O)=CC=C1)\\C1=CC(O)=CC=C1' for input: 'OC1=CC=CC(=C1)C-1=C2\\CCC(=N2)\\C(=C2/N\\C(\\C=C2)=C(/C2=N/C(/C=C2)=C(\\C2=CC=C\\-1N2)C1=CC(O)=CC=C1)C1=CC(O)=CC=C1)\\C1=CC(O)=CC=C1'\n",
      "Failed to featurize datapoint 0, None. Appending empty array\n",
      "[23:24:18] SMILES Parse Error: syntax error while parsing: OC1=CC=CC(=C1)C-1=C2\\CCC(=N2)\\C(=C2/N\\C(\\C=C2)=C(/C2=N/C(/C=C2)=C(\\C2=CC=C\\-1N2)C1=CC(O)=CC=C1)C1=CC(O)=CC=C1)\\C1=CC(O)=CC=C1\n",
      "[23:24:18] SMILES Parse Error: Failed parsing SMILES 'OC1=CC=CC(=C1)C-1=C2\\CCC(=N2)\\C(=C2/N\\C(\\C=C2)=C(/C2=N/C(/C=C2)=C(\\C2=CC=C\\-1N2)C1=CC(O)=CC=C1)C1=CC(O)=CC=C1)\\C1=CC(O)=CC=C1' for input: 'OC1=CC=CC(=C1)C-1=C2\\CCC(=N2)\\C(=C2/N\\C(\\C=C2)=C(/C2=N/C(/C=C2)=C(\\C2=CC=C\\-1N2)C1=CC(O)=CC=C1)C1=CC(O)=CC=C1)\\C1=CC(O)=CC=C1'\n",
      "Exception message: Python argument types in\n",
      "    rdkit.Chem.rdmolfiles.CanonicalRankAtoms(NoneType)\n",
      "did not match C++ signature:\n",
      "    CanonicalRankAtoms(RDKit::ROMol mol, bool breakTies=True, bool includeChirality=True, bool includeIsotopes=True)\n"
     ]
    },
    {
     "name": "stdout",
     "output_type": "stream",
     "text": [
      "92594\r",
      "92595\r",
      "92596\r",
      "92597\r",
      "92598\r",
      "92599\r",
      "92600\r",
      "92601\r",
      "92602\r",
      "92603\r",
      "92604\r",
      "92605\r",
      "92606\r",
      "92607\r",
      "92608\r",
      "92609\r",
      "92609\r",
      "92610\r",
      "92611\r",
      "92612\r",
      "92613\r",
      "92613\r",
      "92614\r",
      "92615\r",
      "92616\r",
      "92617\r",
      "92618\r"
     ]
    },
    {
     "name": "stderr",
     "output_type": "stream",
     "text": [
      "RDKit ERROR: [23:24:18] SMILES Parse Error: syntax error while parsing: OC1=CC=CC(=C1)C-1=C2\\CCC(=N2)\\C(=C2/N\\C(\\C=C2)=C(/C2=N/C(/C=C2)=C(\\C2=CC=C\\-1N2)C1=CC(O)=CC=C1)C1=CC(O)=CC=C1)\\C1=CC(O)=CC=C1\n",
      "RDKit ERROR: [23:24:18] SMILES Parse Error: Failed parsing SMILES 'OC1=CC=CC(=C1)C-1=C2\\CCC(=N2)\\C(=C2/N\\C(\\C=C2)=C(/C2=N/C(/C=C2)=C(\\C2=CC=C\\-1N2)C1=CC(O)=CC=C1)C1=CC(O)=CC=C1)\\C1=CC(O)=CC=C1' for input: 'OC1=CC=CC(=C1)C-1=C2\\CCC(=N2)\\C(=C2/N\\C(\\C=C2)=C(/C2=N/C(/C=C2)=C(\\C2=CC=C\\-1N2)C1=CC(O)=CC=C1)C1=CC(O)=CC=C1)\\C1=CC(O)=CC=C1'\n",
      "Failed to featurize datapoint 0, None. Appending empty array\n",
      "[23:24:18] SMILES Parse Error: syntax error while parsing: OC1=CC=CC(=C1)C-1=C2\\CCC(=N2)\\C(=C2/N\\C(\\C=C2)=C(/C2=N/C(/C=C2)=C(\\C2=CC=C\\-1N2)C1=CC(O)=CC=C1)C1=CC(O)=CC=C1)\\C1=CC(O)=CC=C1\n",
      "Exception message: Python argument types in\n",
      "    rdkit.Chem.rdmolfiles.CanonicalRankAtoms(NoneType)\n",
      "did not match C++ signature:\n",
      "    CanonicalRankAtoms(RDKit::ROMol mol, bool breakTies=True, bool includeChirality=True, bool includeIsotopes=True)\n",
      "[23:24:18] SMILES Parse Error: Failed parsing SMILES 'OC1=CC=CC(=C1)C-1=C2\\CCC(=N2)\\C(=C2/N\\C(\\C=C2)=C(/C2=N/C(/C=C2)=C(\\C2=CC=C\\-1N2)C1=CC(O)=CC=C1)C1=CC(O)=CC=C1)\\C1=CC(O)=CC=C1' for input: 'OC1=CC=CC(=C1)C-1=C2\\CCC(=N2)\\C(=C2/N\\C(\\C=C2)=C(/C2=N/C(/C=C2)=C(\\C2=CC=C\\-1N2)C1=CC(O)=CC=C1)C1=CC(O)=CC=C1)\\C1=CC(O)=CC=C1'\n"
     ]
    },
    {
     "name": "stdout",
     "output_type": "stream",
     "text": [
      "92710\r"
     ]
    },
    {
     "name": "stderr",
     "output_type": "stream",
     "text": [
      "RDKit ERROR: [23:24:19] Explicit valence for atom # 0 N, 4, is greater than permitted\n",
      "Failed to featurize datapoint 0, None. Appending empty array\n",
      "[23:24:19] Explicit valence for atom # 0 N, 4, is greater than permitted\n",
      "Exception message: Python argument types in\n",
      "    rdkit.Chem.rdmolfiles.CanonicalRankAtoms(NoneType)\n",
      "did not match C++ signature:\n",
      "    CanonicalRankAtoms(RDKit::ROMol mol, bool breakTies=True, bool includeChirality=True, bool includeIsotopes=True)\n"
     ]
    },
    {
     "name": "stdout",
     "output_type": "stream",
     "text": [
      "92711\r",
      "92712\r",
      "92713\r",
      "92714\r",
      "92715\r",
      "92716\r",
      "92717\r",
      "92718\r",
      "92719\r",
      "92720\r",
      "92721\r",
      "92722\r",
      "92723\r",
      "92724\r",
      "92725\r",
      "92726\r",
      "92727\r",
      "92728\r",
      "92729\r",
      "92729\r",
      "92730\r",
      "92731\r",
      "92732\r"
     ]
    },
    {
     "name": "stderr",
     "output_type": "stream",
     "text": [
      "RDKit ERROR: [23:24:20] Explicit valence for atom # 0 N, 4, is greater than permitted\n",
      "Failed to featurize datapoint 0, None. Appending empty array\n",
      "[23:24:20] Explicit valence for atom # 0 N, 4, is greater than permitted\n",
      "Exception message: Python argument types in\n",
      "    rdkit.Chem.rdmolfiles.CanonicalRankAtoms(NoneType)\n",
      "did not match C++ signature:\n",
      "    CanonicalRankAtoms(RDKit::ROMol mol, bool breakTies=True, bool includeChirality=True, bool includeIsotopes=True)\n"
     ]
    },
    {
     "name": "stdout",
     "output_type": "stream",
     "text": [
      "92774\r"
     ]
    },
    {
     "name": "stderr",
     "output_type": "stream",
     "text": [
      "RDKit ERROR: [23:24:20] SMILES Parse Error: syntax error while parsing: OC1=CC=CC(=C1)C-1=C2\\CCC(=N2)\\C(=C2/N\\C(\\C=C2)=C(/C2=N/C(/C=C2)=C(\\C2=CC=C\\-1N2)C1=CC(O)=CC=C1)C1=CC(O)=CC=C1)\\C1=CC(O)=CC=C1\n",
      "RDKit ERROR: [23:24:20] SMILES Parse Error: Failed parsing SMILES 'OC1=CC=CC(=C1)C-1=C2\\CCC(=N2)\\C(=C2/N\\C(\\C=C2)=C(/C2=N/C(/C=C2)=C(\\C2=CC=C\\-1N2)C1=CC(O)=CC=C1)C1=CC(O)=CC=C1)\\C1=CC(O)=CC=C1' for input: 'OC1=CC=CC(=C1)C-1=C2\\CCC(=N2)\\C(=C2/N\\C(\\C=C2)=C(/C2=N/C(/C=C2)=C(\\C2=CC=C\\-1N2)C1=CC(O)=CC=C1)C1=CC(O)=CC=C1)\\C1=CC(O)=CC=C1'\n",
      "Failed to featurize datapoint 0, None. Appending empty array\n",
      "[23:24:20] SMILES Parse Error: syntax error while parsing: OC1=CC=CC(=C1)C-1=C2\\CCC(=N2)\\C(=C2/N\\C(\\C=C2)=C(/C2=N/C(/C=C2)=C(\\C2=CC=C\\-1N2)C1=CC(O)=CC=C1)C1=CC(O)=CC=C1)\\C1=CC(O)=CC=C1\n",
      "[23:24:20] SMILES Parse Error: Failed parsing SMILES 'OC1=CC=CC(=C1)C-1=C2\\CCC(=N2)\\C(=C2/N\\C(\\C=C2)=C(/C2=N/C(/C=C2)=C(\\C2=CC=C\\-1N2)C1=CC(O)=CC=C1)C1=CC(O)=CC=C1)\\C1=CC(O)=CC=C1' for input: 'OC1=CC=CC(=C1)C-1=C2\\CCC(=N2)\\C(=C2/N\\C(\\C=C2)=C(/C2=N/C(/C=C2)=C(\\C2=CC=C\\-1N2)C1=CC(O)=CC=C1)C1=CC(O)=CC=C1)\\C1=CC(O)=CC=C1'\n",
      "Exception message: Python argument types in\n",
      "    rdkit.Chem.rdmolfiles.CanonicalRankAtoms(NoneType)\n",
      "did not match C++ signature:\n",
      "    CanonicalRankAtoms(RDKit::ROMol mol, bool breakTies=True, bool includeChirality=True, bool includeIsotopes=True)\n"
     ]
    },
    {
     "name": "stdout",
     "output_type": "stream",
     "text": [
      "92814\r"
     ]
    },
    {
     "name": "stderr",
     "output_type": "stream",
     "text": [
      "RDKit ERROR: [23:24:20] Explicit valence for atom # 0 N, 4, is greater than permitted\n",
      "Failed to featurize datapoint 0, None. Appending empty array\n",
      "[23:24:20] Explicit valence for atom # 0 N, 4, is greater than permitted\n",
      "Exception message: Python argument types in\n",
      "    rdkit.Chem.rdmolfiles.CanonicalRankAtoms(NoneType)\n",
      "did not match C++ signature:\n",
      "    CanonicalRankAtoms(RDKit::ROMol mol, bool breakTies=True, bool includeChirality=True, bool includeIsotopes=True)\n"
     ]
    },
    {
     "name": "stdout",
     "output_type": "stream",
     "text": [
      "92853\r"
     ]
    },
    {
     "name": "stderr",
     "output_type": "stream",
     "text": [
      "RDKit ERROR: [23:24:21] Explicit valence for atom # 0 N, 4, is greater than permitted\n",
      "Failed to featurize datapoint 0, None. Appending empty array\n",
      "[23:24:21] Explicit valence for atom # 0 N, 4, is greater than permitted\n",
      "Exception message: Python argument types in\n",
      "    rdkit.Chem.rdmolfiles.CanonicalRankAtoms(NoneType)\n",
      "did not match C++ signature:\n",
      "    CanonicalRankAtoms(RDKit::ROMol mol, bool breakTies=True, bool includeChirality=True, bool includeIsotopes=True)\n"
     ]
    },
    {
     "name": "stdout",
     "output_type": "stream",
     "text": [
      "92946\r"
     ]
    },
    {
     "name": "stderr",
     "output_type": "stream",
     "text": [
      "RDKit ERROR: [23:24:22] Explicit valence for atom # 0 N, 4, is greater than permitted\n",
      "Failed to featurize datapoint 0, None. Appending empty array\n",
      "[23:24:22] Explicit valence for atom # 0 N, 4, is greater than permitted\n",
      "Exception message: Python argument types in\n",
      "    rdkit.Chem.rdmolfiles.CanonicalRankAtoms(NoneType)\n",
      "did not match C++ signature:\n",
      "    CanonicalRankAtoms(RDKit::ROMol mol, bool breakTies=True, bool includeChirality=True, bool includeIsotopes=True)\n"
     ]
    },
    {
     "name": "stdout",
     "output_type": "stream",
     "text": [
      "92947\r",
      "92948\r",
      "92949\r",
      "92949\r",
      "92950\r",
      "92951\r",
      "92952\r",
      "92953\r",
      "92954\r",
      "92955\r",
      "92956\r",
      "92957\r",
      "92958\r",
      "92959\r",
      "92960\r",
      "92961\r",
      "92962\r",
      "92963\r",
      "92964\r"
     ]
    },
    {
     "name": "stderr",
     "output_type": "stream",
     "text": [
      "RDKit ERROR: [23:24:22] Explicit valence for atom # 0 N, 4, is greater than permitted\n",
      "Failed to featurize datapoint 0, None. Appending empty array\n",
      "[23:24:22] Explicit valence for atom # 0 N, 4, is greater than permitted\n",
      "Exception message: Python argument types in\n",
      "    rdkit.Chem.rdmolfiles.CanonicalRankAtoms(NoneType)\n",
      "did not match C++ signature:\n",
      "    CanonicalRankAtoms(RDKit::ROMol mol, bool breakTies=True, bool includeChirality=True, bool includeIsotopes=True)\n"
     ]
    },
    {
     "name": "stdout",
     "output_type": "stream",
     "text": [
      "93090\r"
     ]
    },
    {
     "name": "stderr",
     "output_type": "stream",
     "text": [
      "RDKit ERROR: [23:24:24] Explicit valence for atom # 0 N, 4, is greater than permitted\n",
      "Failed to featurize datapoint 0, None. Appending empty array\n",
      "[23:24:24] Explicit valence for atom # 0 N, 4, is greater than permitted\n",
      "Exception message: Python argument types in\n",
      "    rdkit.Chem.rdmolfiles.CanonicalRankAtoms(NoneType)\n",
      "did not match C++ signature:\n",
      "    CanonicalRankAtoms(RDKit::ROMol mol, bool breakTies=True, bool includeChirality=True, bool includeIsotopes=True)\n"
     ]
    },
    {
     "name": "stdout",
     "output_type": "stream",
     "text": [
      "93091\r",
      "93092\r",
      "93093\r",
      "93094\r",
      "93094\r",
      "93095\r",
      "93096\r",
      "93097\r",
      "93098\r",
      "93099\r",
      "93100\r",
      "93101\r"
     ]
    },
    {
     "name": "stderr",
     "output_type": "stream",
     "text": [
      "RDKit ERROR: [23:24:24] Explicit valence for atom # 0 N, 4, is greater than permitted\n",
      "Failed to featurize datapoint 0, None. Appending empty array\n",
      "[23:24:24] Explicit valence for atom # 0 N, 4, is greater than permitted\n",
      "Exception message: Python argument types in\n",
      "    rdkit.Chem.rdmolfiles.CanonicalRankAtoms(NoneType)\n",
      "did not match C++ signature:\n",
      "    CanonicalRankAtoms(RDKit::ROMol mol, bool breakTies=True, bool includeChirality=True, bool includeIsotopes=True)\n"
     ]
    },
    {
     "name": "stdout",
     "output_type": "stream",
     "text": [
      "93102\r",
      "93103\r",
      "93104\r",
      "93105\r",
      "93106\r",
      "93106\r",
      "93107\r",
      "93108\r",
      "93109\r",
      "93110\r",
      "93111\r",
      "93112\r"
     ]
    },
    {
     "name": "stderr",
     "output_type": "stream",
     "text": [
      "RDKit ERROR: [23:24:24] SMILES Parse Error: syntax error while parsing: OC1=CC=CC(=C1)C-1=C2\\CCC(=N2)\\C(=C2/N\\C(\\C=C2)=C(/C2=N/C(/C=C2)=C(\\C2=CC=C\\-1N2)C1=CC(O)=CC=C1)C1=CC(O)=CC=C1)\\C1=CC(O)=CC=C1\n",
      "RDKit ERROR: [23:24:24] SMILES Parse Error: Failed parsing SMILES 'OC1=CC=CC(=C1)C-1=C2\\CCC(=N2)\\C(=C2/N\\C(\\C=C2)=C(/C2=N/C(/C=C2)=C(\\C2=CC=C\\-1N2)C1=CC(O)=CC=C1)C1=CC(O)=CC=C1)\\C1=CC(O)=CC=C1' for input: 'OC1=CC=CC(=C1)C-1=C2\\CCC(=N2)\\C(=C2/N\\C(\\C=C2)=C(/C2=N/C(/C=C2)=C(\\C2=CC=C\\-1N2)C1=CC(O)=CC=C1)C1=CC(O)=CC=C1)\\C1=CC(O)=CC=C1'\n",
      "Failed to featurize datapoint 0, None. Appending empty array\n",
      "[23:24:24] SMILES Parse Error: syntax error while parsing: OC1=CC=CC(=C1)C-1=C2\\CCC(=N2)\\C(=C2/N\\C(\\C=C2)=C(/C2=N/C(/C=C2)=C(\\C2=CC=C\\-1N2)C1=CC(O)=CC=C1)C1=CC(O)=CC=C1)\\C1=CC(O)=CC=C1\n",
      "[23:24:24] SMILES Parse Error: Failed parsing SMILES 'OC1=CC=CC(=C1)C-1=C2\\CCC(=N2)\\C(=C2/N\\C(\\C=C2)=C(/C2=N/C(/C=C2)=C(\\C2=CC=C\\-1N2)C1=CC(O)=CC=C1)C1=CC(O)=CC=C1)\\C1=CC(O)=CC=C1' for input: 'OC1=CC=CC(=C1)C-1=C2\\CCC(=N2)\\C(=C2/N\\C(\\C=C2)=C(/C2=N/C(/C=C2)=C(\\C2=CC=C\\-1N2)C1=CC(O)=CC=C1)C1=CC(O)=CC=C1)\\C1=CC(O)=CC=C1'\n",
      "Exception message: Python argument types in\n",
      "    rdkit.Chem.rdmolfiles.CanonicalRankAtoms(NoneType)\n",
      "did not match C++ signature:\n",
      "    CanonicalRankAtoms(RDKit::ROMol mol, bool breakTies=True, bool includeChirality=True, bool includeIsotopes=True)\n"
     ]
    },
    {
     "name": "stdout",
     "output_type": "stream",
     "text": [
      "93143\r"
     ]
    },
    {
     "name": "stderr",
     "output_type": "stream",
     "text": [
      "RDKit ERROR: [23:24:25] Explicit valence for atom # 0 N, 4, is greater than permitted\n",
      "Failed to featurize datapoint 0, None. Appending empty array\n",
      "[23:24:25] Explicit valence for atom # 0 N, 4, is greater than permitted\n",
      "Exception message: Python argument types in\n",
      "    rdkit.Chem.rdmolfiles.CanonicalRankAtoms(NoneType)\n",
      "did not match C++ signature:\n",
      "    CanonicalRankAtoms(RDKit::ROMol mol, bool breakTies=True, bool includeChirality=True, bool includeIsotopes=True)\n"
     ]
    },
    {
     "name": "stdout",
     "output_type": "stream",
     "text": [
      "93225\r"
     ]
    },
    {
     "name": "stderr",
     "output_type": "stream",
     "text": [
      "RDKit ERROR: [23:24:27] Explicit valence for atom # 0 N, 4, is greater than permitted\n",
      "Failed to featurize datapoint 0, None. Appending empty array\n",
      "[23:24:27] Explicit valence for atom # 0 N, 4, is greater than permitted\n",
      "Exception message: Python argument types in\n",
      "    rdkit.Chem.rdmolfiles.CanonicalRankAtoms(NoneType)\n",
      "did not match C++ signature:\n",
      "    CanonicalRankAtoms(RDKit::ROMol mol, bool breakTies=True, bool includeChirality=True, bool includeIsotopes=True)\n"
     ]
    },
    {
     "name": "stdout",
     "output_type": "stream",
     "text": [
      "93244\r"
     ]
    },
    {
     "name": "stderr",
     "output_type": "stream",
     "text": [
      "RDKit ERROR: [23:24:27] SMILES Parse Error: syntax error while parsing: OC1=CC=CC(=C1)C-1=C2\\CCC(=N2)\\C(=C2/N\\C(\\C=C2)=C(/C2=N/C(/C=C2)=C(\\C2=CC=C\\-1N2)C1=CC(O)=CC=C1)C1=CC(O)=CC=C1)\\C1=CC(O)=CC=C1\n",
      "RDKit ERROR: [23:24:27] SMILES Parse Error: Failed parsing SMILES 'OC1=CC=CC(=C1)C-1=C2\\CCC(=N2)\\C(=C2/N\\C(\\C=C2)=C(/C2=N/C(/C=C2)=C(\\C2=CC=C\\-1N2)C1=CC(O)=CC=C1)C1=CC(O)=CC=C1)\\C1=CC(O)=CC=C1' for input: 'OC1=CC=CC(=C1)C-1=C2\\CCC(=N2)\\C(=C2/N\\C(\\C=C2)=C(/C2=N/C(/C=C2)=C(\\C2=CC=C\\-1N2)C1=CC(O)=CC=C1)C1=CC(O)=CC=C1)\\C1=CC(O)=CC=C1'\n",
      "Failed to featurize datapoint 0, None. Appending empty array\n",
      "[23:24:27] SMILES Parse Error: syntax error while parsing: OC1=CC=CC(=C1)C-1=C2\\CCC(=N2)\\C(=C2/N\\C(\\C=C2)=C(/C2=N/C(/C=C2)=C(\\C2=CC=C\\-1N2)C1=CC(O)=CC=C1)C1=CC(O)=CC=C1)\\C1=CC(O)=CC=C1\n",
      "[23:24:27] SMILES Parse Error: Failed parsing SMILES 'OC1=CC=CC(=C1)C-1=C2\\CCC(=N2)\\C(=C2/N\\C(\\C=C2)=C(/C2=N/C(/C=C2)=C(\\C2=CC=C\\-1N2)C1=CC(O)=CC=C1)C1=CC(O)=CC=C1)\\C1=CC(O)=CC=C1' for input: 'OC1=CC=CC(=C1)C-1=C2\\CCC(=N2)\\C(=C2/N\\C(\\C=C2)=C(/C2=N/C(/C=C2)=C(\\C2=CC=C\\-1N2)C1=CC(O)=CC=C1)C1=CC(O)=CC=C1)\\C1=CC(O)=CC=C1'\n",
      "Exception message: Python argument types in\n",
      "    rdkit.Chem.rdmolfiles.CanonicalRankAtoms(NoneType)\n",
      "did not match C++ signature:\n",
      "    CanonicalRankAtoms(RDKit::ROMol mol, bool breakTies=True, bool includeChirality=True, bool includeIsotopes=True)\n"
     ]
    },
    {
     "name": "stdout",
     "output_type": "stream",
     "text": [
      "pack_unload & freeing memory\n",
      "[55, 60]\n",
      "pack_unload & freeing memory\n",
      "[60, 60]\n",
      "pack_unload & freeing memory\n",
      "[60, 60]\n",
      "99573\r"
     ]
    },
    {
     "name": "stderr",
     "output_type": "stream",
     "text": [
      "RDKit ERROR: [23:26:21] Explicit valence for atom # 0 N, 4, is greater than permitted\n",
      "Failed to featurize datapoint 0, None. Appending empty array\n",
      "[23:26:21] Explicit valence for atom # 0 N, 4, is greater than permitted\n",
      "Exception message: Python argument types in\n",
      "    rdkit.Chem.rdmolfiles.CanonicalRankAtoms(NoneType)\n",
      "did not match C++ signature:\n",
      "    CanonicalRankAtoms(RDKit::ROMol mol, bool breakTies=True, bool includeChirality=True, bool includeIsotopes=True)\n",
      "RDKit ERROR: [23:26:21] Explicit valence for atom # 0 N, 4, is greater than permitted\n",
      "Failed to featurize datapoint 0, None. Appending empty array\n",
      "[23:26:21] Explicit valence for atom # 0 N, 4, is greater than permitted\n",
      "Exception message: Python argument types in\n",
      "    rdkit.Chem.rdmolfiles.CanonicalRankAtoms(NoneType)\n",
      "did not match C++ signature:\n",
      "    CanonicalRankAtoms(RDKit::ROMol mol, bool breakTies=True, bool includeChirality=True, bool includeIsotopes=True)\n"
     ]
    },
    {
     "name": "stdout",
     "output_type": "stream",
     "text": [
      "99574\r",
      "99575\r",
      "99576\r",
      "99577\r",
      "99578\r",
      "99579\r",
      "99580\r",
      "99580\r",
      "99581\r",
      "99581\r",
      "99582\r"
     ]
    },
    {
     "name": "stderr",
     "output_type": "stream",
     "text": [
      "RDKit ERROR: [23:26:21] Explicit valence for atom # 0 N, 4, is greater than permitted\n",
      "Failed to featurize datapoint 0, None. Appending empty array\n",
      "[23:26:21] Explicit valence for atom # 0 N, 4, is greater than permitted\n",
      "Exception message: Python argument types in\n",
      "    rdkit.Chem.rdmolfiles.CanonicalRankAtoms(NoneType)\n",
      "did not match C++ signature:\n",
      "    CanonicalRankAtoms(RDKit::ROMol mol, bool breakTies=True, bool includeChirality=True, bool includeIsotopes=True)\n",
      "RDKit ERROR: [23:26:21] Explicit valence for atom # 0 N, 4, is greater than permitted\n",
      "Failed to featurize datapoint 0, None. Appending empty array\n",
      "[23:26:21] Explicit valence for atom # 0 N, 4, is greater than permitted\n",
      "Exception message: Python argument types in\n",
      "    rdkit.Chem.rdmolfiles.CanonicalRankAtoms(NoneType)\n",
      "did not match C++ signature:\n",
      "    CanonicalRankAtoms(RDKit::ROMol mol, bool breakTies=True, bool includeChirality=True, bool includeIsotopes=True)\n"
     ]
    },
    {
     "name": "stdout",
     "output_type": "stream",
     "text": [
      "99583\r",
      "99584\r",
      "99585\r",
      "99585\r",
      "99586\r",
      "99587\r",
      "99588\r",
      "99588\r",
      "99589\r",
      "99590\r",
      "99591\r"
     ]
    },
    {
     "name": "stderr",
     "output_type": "stream",
     "text": [
      "RDKit ERROR: [23:26:21] Explicit valence for atom # 0 N, 4, is greater than permitted\n",
      "Failed to featurize datapoint 0, None. Appending empty array\n",
      "[23:26:21] Explicit valence for atom # 0 N, 4, is greater than permitted\n",
      "Exception message: Python argument types in\n",
      "    rdkit.Chem.rdmolfiles.CanonicalRankAtoms(NoneType)\n",
      "did not match C++ signature:\n",
      "    CanonicalRankAtoms(RDKit::ROMol mol, bool breakTies=True, bool includeChirality=True, bool includeIsotopes=True)\n",
      "RDKit ERROR: [23:26:21] Explicit valence for atom # 0 N, 4, is greater than permitted\n",
      "Failed to featurize datapoint 0, None. Appending empty array\n",
      "[23:26:21] Explicit valence for atom # 0 N, 4, is greater than permitted\n",
      "Exception message: Python argument types in\n",
      "    rdkit.Chem.rdmolfiles.CanonicalRankAtoms(NoneType)\n",
      "did not match C++ signature:\n",
      "    CanonicalRankAtoms(RDKit::ROMol mol, bool breakTies=True, bool includeChirality=True, bool includeIsotopes=True)\n"
     ]
    },
    {
     "name": "stdout",
     "output_type": "stream",
     "text": [
      "pack_unload & freeing memory\n",
      "[60, 64]\n",
      "pack_unload & freeing memory\n",
      "[64, 70]\n",
      "102107\r"
     ]
    },
    {
     "name": "stderr",
     "output_type": "stream",
     "text": [
      "RDKit ERROR: [23:27:13] Explicit valence for atom # 0 N, 4, is greater than permitted\n",
      "Failed to featurize datapoint 0, None. Appending empty array\n",
      "[23:27:13] Explicit valence for atom # 0 N, 4, is greater than permitted\n",
      "Exception message: Python argument types in\n",
      "    rdkit.Chem.rdmolfiles.CanonicalRankAtoms(NoneType)\n",
      "did not match C++ signature:\n",
      "    CanonicalRankAtoms(RDKit::ROMol mol, bool breakTies=True, bool includeChirality=True, bool includeIsotopes=True)\n"
     ]
    },
    {
     "name": "stdout",
     "output_type": "stream",
     "text": [
      "pack_unload & freeing memory\n",
      "[70, 70]\n",
      "pack_unload & freeing memory\n",
      "[70, 70]\n",
      "pack_unload & freeing memory\n",
      "[70, 72]\n",
      "109215\r"
     ]
    },
    {
     "name": "stderr",
     "output_type": "stream",
     "text": [
      "RDKit ERROR: [23:29:12] Explicit valence for atom # 0 N, 4, is greater than permitted\n",
      "Failed to featurize datapoint 0, None. Appending empty array\n",
      "[23:29:12] Explicit valence for atom # 0 N, 4, is greater than permitted\n",
      "Exception message: Python argument types in\n",
      "    rdkit.Chem.rdmolfiles.CanonicalRankAtoms(NoneType)\n",
      "did not match C++ signature:\n",
      "    CanonicalRankAtoms(RDKit::ROMol mol, bool breakTies=True, bool includeChirality=True, bool includeIsotopes=True)\n"
     ]
    },
    {
     "name": "stdout",
     "output_type": "stream",
     "text": [
      "109389\r"
     ]
    },
    {
     "name": "stderr",
     "output_type": "stream",
     "text": [
      "RDKit ERROR: [23:29:18] Explicit valence for atom # 0 N, 4, is greater than permitted\n",
      "Failed to featurize datapoint 0, None. Appending empty array\n",
      "[23:29:18] Explicit valence for atom # 0 N, 4, is greater than permitted\n",
      "Exception message: Python argument types in\n",
      "    rdkit.Chem.rdmolfiles.CanonicalRankAtoms(NoneType)\n",
      "did not match C++ signature:\n",
      "    CanonicalRankAtoms(RDKit::ROMol mol, bool breakTies=True, bool includeChirality=True, bool includeIsotopes=True)\n"
     ]
    },
    {
     "name": "stdout",
     "output_type": "stream",
     "text": [
      "pack_unload & freeing memory\n",
      "[72, 73]\n",
      "110357\r"
     ]
    },
    {
     "name": "stderr",
     "output_type": "stream",
     "text": [
      "RDKit ERROR: [23:29:39] Explicit valence for atom # 0 N, 4, is greater than permitted\n",
      "[23:29:39] Explicit valence for atom # 0 N, 4, is greater than permitted\n",
      "Failed to featurize datapoint 0, None. Appending empty array\n",
      "Exception message: Python argument types in\n",
      "    rdkit.Chem.rdmolfiles.CanonicalRankAtoms(NoneType)\n",
      "did not match C++ signature:\n",
      "    CanonicalRankAtoms(RDKit::ROMol mol, bool breakTies=True, bool includeChirality=True, bool includeIsotopes=True)\n"
     ]
    },
    {
     "name": "stdout",
     "output_type": "stream",
     "text": [
      "111632\r"
     ]
    },
    {
     "name": "stderr",
     "output_type": "stream",
     "text": [
      "RDKit ERROR: [23:30:00] Explicit valence for atom # 0 N, 4, is greater than permitted\n",
      "Failed to featurize datapoint 0, None. Appending empty array\n",
      "[23:30:00] Explicit valence for atom # 0 N, 4, is greater than permitted\n",
      "Exception message: Python argument types in\n",
      "    rdkit.Chem.rdmolfiles.CanonicalRankAtoms(NoneType)\n",
      "did not match C++ signature:\n",
      "    CanonicalRankAtoms(RDKit::ROMol mol, bool breakTies=True, bool includeChirality=True, bool includeIsotopes=True)\n"
     ]
    },
    {
     "name": "stdout",
     "output_type": "stream",
     "text": [
      "pack_unload & freeing memory\n",
      "[73, 73]\n",
      "pack_unload & freeing memory\n",
      "[73, 73]\n",
      "pack_unload & freeing memory\n",
      "[73, 73]\n",
      "116630\r"
     ]
    },
    {
     "name": "stderr",
     "output_type": "stream",
     "text": [
      "RDKit ERROR: [23:31:28] Explicit valence for atom # 0 N, 4, is greater than permitted\n",
      "Failed to featurize datapoint 0, None. Appending empty array\n",
      "[23:31:28] Explicit valence for atom # 0 N, 4, is greater than permitted\n",
      "Exception message: Python argument types in\n",
      "    rdkit.Chem.rdmolfiles.CanonicalRankAtoms(NoneType)\n",
      "did not match C++ signature:\n",
      "    CanonicalRankAtoms(RDKit::ROMol mol, bool breakTies=True, bool includeChirality=True, bool includeIsotopes=True)\n"
     ]
    },
    {
     "name": "stdout",
     "output_type": "stream",
     "text": [
      "117592\r"
     ]
    },
    {
     "name": "stderr",
     "output_type": "stream",
     "text": [
      "RDKit ERROR: [23:31:47] Explicit valence for atom # 0 N, 4, is greater than permitted\n",
      "[23:31:47] Explicit valence for atom # 0 N, 4, is greater than permitted\n",
      "Failed to featurize datapoint 0, None. Appending empty array\n",
      "Exception message: Python argument types in\n",
      "    rdkit.Chem.rdmolfiles.CanonicalRankAtoms(NoneType)\n",
      "did not match C++ signature:\n",
      "    CanonicalRankAtoms(RDKit::ROMol mol, bool breakTies=True, bool includeChirality=True, bool includeIsotopes=True)\n"
     ]
    },
    {
     "name": "stdout",
     "output_type": "stream",
     "text": [
      "pack_unload & freeing memory\n",
      "[73, 73]\n",
      "pack_unload & freeing memory\n",
      "[73, 73]\n",
      "120337\r"
     ]
    },
    {
     "name": "stderr",
     "output_type": "stream",
     "text": [
      "RDKit ERROR: [23:32:37] Explicit valence for atom # 0 N, 4, is greater than permitted\n",
      "[23:32:37] Explicit valence for atom # 0 N, 4, is greater than permitted\n",
      "Failed to featurize datapoint 0, None. Appending empty array\n",
      "Exception message: Python argument types in\n",
      "    rdkit.Chem.rdmolfiles.CanonicalRankAtoms(NoneType)\n",
      "did not match C++ signature:\n",
      "    CanonicalRankAtoms(RDKit::ROMol mol, bool breakTies=True, bool includeChirality=True, bool includeIsotopes=True)\n"
     ]
    },
    {
     "name": "stdout",
     "output_type": "stream",
     "text": [
      "121203\r"
     ]
    },
    {
     "name": "stderr",
     "output_type": "stream",
     "text": [
      "RDKit ERROR: [23:32:48] Explicit valence for atom # 0 N, 4, is greater than permitted\n",
      "Failed to featurize datapoint 0, None. Appending empty array\n",
      "[23:32:48] Explicit valence for atom # 0 N, 4, is greater than permitted\n",
      "Exception message: Python argument types in\n",
      "    rdkit.Chem.rdmolfiles.CanonicalRankAtoms(NoneType)\n",
      "did not match C++ signature:\n",
      "    CanonicalRankAtoms(RDKit::ROMol mol, bool breakTies=True, bool includeChirality=True, bool includeIsotopes=True)\n"
     ]
    },
    {
     "name": "stdout",
     "output_type": "stream",
     "text": [
      "pack_unload & freeing memory\n",
      "[73, 73]\n",
      "122168\r"
     ]
    },
    {
     "name": "stderr",
     "output_type": "stream",
     "text": [
      "RDKit ERROR: [23:33:12] Explicit valence for atom # 0 N, 4, is greater than permitted\n",
      "Failed to featurize datapoint 0, None. Appending empty array\n",
      "[23:33:12] Explicit valence for atom # 0 N, 4, is greater than permitted\n",
      "Exception message: Python argument types in\n",
      "    rdkit.Chem.rdmolfiles.CanonicalRankAtoms(NoneType)\n",
      "did not match C++ signature:\n",
      "    CanonicalRankAtoms(RDKit::ROMol mol, bool breakTies=True, bool includeChirality=True, bool includeIsotopes=True)\n",
      "RDKit ERROR: [23:33:12] Explicit valence for atom # 0 N, 4, is greater than permitted\n",
      "Failed to featurize datapoint 0, None. Appending empty array\n",
      "Exception message: Python argument types in\n",
      "    rdkit.Chem.rdmolfiles.CanonicalRankAtoms(NoneType)\n",
      "did not match C++ signature:\n",
      "    CanonicalRankAtoms(RDKit::ROMol mol, bool breakTies=True, bool includeChirality=True, bool includeIsotopes=True)\n"
     ]
    },
    {
     "name": "stdout",
     "output_type": "stream",
     "text": [
      "122169\r",
      "122170\r",
      "122171\r",
      "122172\r",
      "122173\r",
      "122174\r",
      "122175\r",
      "122176\r",
      "122177\r",
      "122178\r",
      "122179\r",
      "122180\r",
      "122181\r",
      "122182\r",
      "122183\r",
      "122184\r",
      "122185\r",
      "122186\r",
      "122187\r",
      "122188\r",
      "122189\r",
      "122190\r",
      "122191\r",
      "122192\r",
      "122193\r",
      "122194\r",
      "122195\r",
      "122196\r",
      "122197\r",
      "122198\r",
      "122199\r",
      "122200\r",
      "122201\r",
      "122202\r",
      "122203\r",
      "122204\r",
      "122205\r",
      "122205\r",
      "122206\r",
      "122206\r",
      "122207\r",
      "122208\r",
      "122209\r",
      "122210\r"
     ]
    },
    {
     "name": "stderr",
     "output_type": "stream",
     "text": [
      "[23:33:12] Explicit valence for atom # 0 N, 4, is greater than permitted\n"
     ]
    },
    {
     "name": "stdout",
     "output_type": "stream",
     "text": [
      "123732\r"
     ]
    },
    {
     "name": "stderr",
     "output_type": "stream",
     "text": [
      "RDKit ERROR: [23:33:38] Explicit valence for atom # 0 N, 4, is greater than permitted\n",
      "Failed to featurize datapoint 0, None. Appending empty array\n",
      "[23:33:38] Explicit valence for atom # 0 N, 4, is greater than permitted\n",
      "Exception message: Python argument types in\n",
      "    rdkit.Chem.rdmolfiles.CanonicalRankAtoms(NoneType)\n",
      "did not match C++ signature:\n",
      "    CanonicalRankAtoms(RDKit::ROMol mol, bool breakTies=True, bool includeChirality=True, bool includeIsotopes=True)\n"
     ]
    },
    {
     "name": "stdout",
     "output_type": "stream",
     "text": [
      "pack_unload & freeing memory\n",
      "[73, 73]\n",
      "124897\r"
     ]
    },
    {
     "name": "stderr",
     "output_type": "stream",
     "text": [
      "RDKit ERROR: [23:33:54] Explicit valence for atom # 0 N, 4, is greater than permitted\n",
      "Failed to featurize datapoint 0, None. Appending empty array\n",
      "[23:33:54] Explicit valence for atom # 0 N, 4, is greater than permitted\n",
      "Exception message: Python argument types in\n",
      "    rdkit.Chem.rdmolfiles.CanonicalRankAtoms(NoneType)\n",
      "did not match C++ signature:\n",
      "    CanonicalRankAtoms(RDKit::ROMol mol, bool breakTies=True, bool includeChirality=True, bool includeIsotopes=True)\n"
     ]
    },
    {
     "name": "stdout",
     "output_type": "stream",
     "text": [
      "pack_unload & freeing memory\n",
      "[73, 75]\n",
      "126106\r"
     ]
    },
    {
     "name": "stderr",
     "output_type": "stream",
     "text": [
      "RDKit ERROR: [23:34:23] Explicit valence for atom # 0 N, 4, is greater than permitted\n",
      "[23:34:23] Explicit valence for atom # 0 N, 4, is greater than permitted\n",
      "Failed to featurize datapoint 0, None. Appending empty array\n",
      "Exception message: Python argument types in\n",
      "    rdkit.Chem.rdmolfiles.CanonicalRankAtoms(NoneType)\n",
      "did not match C++ signature:\n",
      "    CanonicalRankAtoms(RDKit::ROMol mol, bool breakTies=True, bool includeChirality=True, bool includeIsotopes=True)\n"
     ]
    },
    {
     "name": "stdout",
     "output_type": "stream",
     "text": [
      "126493\r"
     ]
    },
    {
     "name": "stderr",
     "output_type": "stream",
     "text": [
      "RDKit ERROR: [23:34:25] Explicit valence for atom # 0 N, 4, is greater than permitted\n",
      "Failed to featurize datapoint 0, None. Appending empty array\n",
      "[23:34:25] Explicit valence for atom # 0 N, 4, is greater than permitted\n",
      "Exception message: Python argument types in\n",
      "    rdkit.Chem.rdmolfiles.CanonicalRankAtoms(NoneType)\n",
      "did not match C++ signature:\n",
      "    CanonicalRankAtoms(RDKit::ROMol mol, bool breakTies=True, bool includeChirality=True, bool includeIsotopes=True)\n"
     ]
    },
    {
     "name": "stdout",
     "output_type": "stream",
     "text": [
      "127342\r"
     ]
    },
    {
     "name": "stderr",
     "output_type": "stream",
     "text": [
      "RDKit ERROR: [23:34:38] Explicit valence for atom # 0 N, 4, is greater than permitted\n",
      "Failed to featurize datapoint 0, None. Appending empty array\n",
      "[23:34:38] Explicit valence for atom # 0 N, 4, is greater than permitted\n",
      "Exception message: Python argument types in\n",
      "    rdkit.Chem.rdmolfiles.CanonicalRankAtoms(NoneType)\n",
      "did not match C++ signature:\n",
      "    CanonicalRankAtoms(RDKit::ROMol mol, bool breakTies=True, bool includeChirality=True, bool includeIsotopes=True)\n"
     ]
    },
    {
     "name": "stdout",
     "output_type": "stream",
     "text": [
      "pack_unload & freeing memory\n",
      "[75, 75]\n",
      "128152\r"
     ]
    },
    {
     "name": "stderr",
     "output_type": "stream",
     "text": [
      "RDKit ERROR: [23:34:59] Explicit valence for atom # 0 N, 4, is greater than permitted\n",
      "[23:34:59] Explicit valence for atom # 0 N, 4, is greater than permitted\n",
      "Failed to featurize datapoint 0, None. Appending empty array\n",
      "Exception message: Python argument types in\n",
      "    rdkit.Chem.rdmolfiles.CanonicalRankAtoms(NoneType)\n",
      "did not match C++ signature:\n",
      "    CanonicalRankAtoms(RDKit::ROMol mol, bool breakTies=True, bool includeChirality=True, bool includeIsotopes=True)\n"
     ]
    },
    {
     "name": "stdout",
     "output_type": "stream",
     "text": [
      "128408\r"
     ]
    },
    {
     "name": "stderr",
     "output_type": "stream",
     "text": [
      "RDKit ERROR: [23:35:00] Explicit valence for atom # 0 N, 4, is greater than permitted\n",
      "[23:35:00] Explicit valence for atom # 0 N, 4, is greater than permitted\n",
      "Failed to featurize datapoint 0, None. Appending empty array\n",
      "Exception message: Python argument types in\n",
      "    rdkit.Chem.rdmolfiles.CanonicalRankAtoms(NoneType)\n",
      "did not match C++ signature:\n",
      "    CanonicalRankAtoms(RDKit::ROMol mol, bool breakTies=True, bool includeChirality=True, bool includeIsotopes=True)\n"
     ]
    },
    {
     "name": "stdout",
     "output_type": "stream",
     "text": [
      "128695\r"
     ]
    },
    {
     "name": "stderr",
     "output_type": "stream",
     "text": [
      "RDKit ERROR: [23:35:03] Explicit valence for atom # 0 N, 4, is greater than permitted\n",
      "[23:35:03] Explicit valence for atom # 0 N, 4, is greater than permitted\n",
      "Failed to featurize datapoint 0, None. Appending empty array\n",
      "Exception message: Python argument types in\n",
      "    rdkit.Chem.rdmolfiles.CanonicalRankAtoms(NoneType)\n",
      "did not match C++ signature:\n",
      "    CanonicalRankAtoms(RDKit::ROMol mol, bool breakTies=True, bool includeChirality=True, bool includeIsotopes=True)\n"
     ]
    },
    {
     "name": "stdout",
     "output_type": "stream",
     "text": [
      "pack_unload & freeing memory\n",
      "[75, 75]\n",
      "130577\r"
     ]
    },
    {
     "name": "stderr",
     "output_type": "stream",
     "text": [
      "RDKit ERROR: [23:35:37] Explicit valence for atom # 0 N, 4, is greater than permitted\n",
      "Failed to featurize datapoint 0, None. Appending empty array\n",
      "[23:35:37] Explicit valence for atom # 0 N, 4, is greater than permitted\n",
      "Exception message: Python argument types in\n",
      "    rdkit.Chem.rdmolfiles.CanonicalRankAtoms(NoneType)\n",
      "did not match C++ signature:\n",
      "    CanonicalRankAtoms(RDKit::ROMol mol, bool breakTies=True, bool includeChirality=True, bool includeIsotopes=True)\n"
     ]
    },
    {
     "name": "stdout",
     "output_type": "stream",
     "text": [
      "130698\r"
     ]
    },
    {
     "name": "stderr",
     "output_type": "stream",
     "text": [
      "RDKit ERROR: [23:35:38] Explicit valence for atom # 0 N, 4, is greater than permitted\n",
      "Failed to featurize datapoint 0, None. Appending empty array\n",
      "[23:35:38] Explicit valence for atom # 0 N, 4, is greater than permitted\n",
      "Exception message: Python argument types in\n",
      "    rdkit.Chem.rdmolfiles.CanonicalRankAtoms(NoneType)\n",
      "did not match C++ signature:\n",
      "    CanonicalRankAtoms(RDKit::ROMol mol, bool breakTies=True, bool includeChirality=True, bool includeIsotopes=True)\n"
     ]
    },
    {
     "name": "stdout",
     "output_type": "stream",
     "text": [
      "130865\r"
     ]
    },
    {
     "name": "stderr",
     "output_type": "stream",
     "text": [
      "RDKit ERROR: [23:35:40] Explicit valence for atom # 0 N, 4, is greater than permitted\n",
      "[23:35:40] Explicit valence for atom # 0 N, 4, is greater than permitted\n",
      "Failed to featurize datapoint 0, None. Appending empty array\n"
     ]
    },
    {
     "name": "stdout",
     "output_type": "stream",
     "text": [
      "130866\r",
      "130867\r",
      "130868\r",
      "130869\r",
      "130870\r",
      "130871\r",
      "130872\r",
      "130873\r",
      "130874\r",
      "130875\r",
      "130876\r",
      "130877\r",
      "130878\r",
      "130879\r",
      "130880\r",
      "130881\r",
      "130882\r",
      "130883\r",
      "130884\r",
      "130885\r"
     ]
    },
    {
     "name": "stderr",
     "output_type": "stream",
     "text": [
      "Exception message: Python argument types in\n",
      "    rdkit.Chem.rdmolfiles.CanonicalRankAtoms(NoneType)\n",
      "did not match C++ signature:\n",
      "    CanonicalRankAtoms(RDKit::ROMol mol, bool breakTies=True, bool includeChirality=True, bool includeIsotopes=True)\n"
     ]
    },
    {
     "name": "stdout",
     "output_type": "stream",
     "text": [
      "131327\r"
     ]
    },
    {
     "name": "stderr",
     "output_type": "stream",
     "text": [
      "RDKit ERROR: [23:35:48] Explicit valence for atom # 0 N, 4, is greater than permitted\n",
      "Failed to featurize datapoint 0, None. Appending empty array\n",
      "Exception message: Python argument types in\n",
      "    rdkit.Chem.rdmolfiles.CanonicalRankAtoms(NoneType)\n",
      "did not match C++ signature:\n",
      "    CanonicalRankAtoms(RDKit::ROMol mol, bool breakTies=True, bool includeChirality=True, bool includeIsotopes=True)\n"
     ]
    },
    {
     "name": "stdout",
     "output_type": "stream",
     "text": [
      "131328\r",
      "131329\r",
      "131329\r",
      "131330\r",
      "131331\r",
      "131332\r",
      "131333\r",
      "131334\r",
      "131335\r",
      "131336\r"
     ]
    },
    {
     "name": "stderr",
     "output_type": "stream",
     "text": [
      "[23:35:48] Explicit valence for atom # 0 N, 4, is greater than permitted\n"
     ]
    },
    {
     "name": "stdout",
     "output_type": "stream",
     "text": [
      "pack_unload & freeing memory\n",
      "[75, 76]\n",
      "pack_unload & freeing memory\n",
      "[76, 85]\n",
      "134264\r"
     ]
    }
   ],
   "source": [
    "import pickle as pkl\n",
    "! rm x_train_big.pkl\n",
    "! rm y_train_big.pkl\n",
    "\n",
    "f1=open('x_train_big.pkl', 'wb')\n",
    "f2=open('y_train_big.pkl', 'wb')\n",
    "\n",
    "drug1 = featurizer([split['train']['Drug1'][1]])\n",
    "drug2 = featurizer([split['train']['Drug2'][1]])\n",
    "\n",
    "if (len(drug1[0])> 0 and len(drug2[0])>0):\n",
    "    x_train = np.transpose(np.array([np.transpose(drug1), np.transpose(drug2)])) \n",
    "    x_train = x_train.reshape(1,64,64,1)\n",
    "#    x_train = np.transpose(np.array([np.transpose(drug1), np.transpose(drug2)]) \n",
    "    #y_train = synergy_switcher(split['train']['Y'][item], 'train')\n",
    "    y_train = split['train']['Y'][1]\n",
    "control = 1\n",
    "#38362\n",
    "for item in range(2,134265):\n",
    "  print(item, end=\"\\r\")\n",
    "  #len(split['train']['Drug1']\n",
    "  drug1 = featurizer([split['train']['Drug1'][item]])\n",
    "  drug2 = featurizer([split['train']['Drug2'][item]])\n",
    "  if (len(drug1[0])>0 and len(drug2[0])>0):\n",
    "    #print(item)\n",
    "    x = np.transpose(np.array([np.transpose(drug1), np.transpose(drug2)]))\n",
    "    x = x.reshape(1,64,64,1)\n",
    "    if (np.amax(x) == 1 or np.isnan(x) == False):\n",
    "        x_train = np.append(x_train, x, axis = 0)\n",
    "        #y_train = np.append(y_train, synergy_switcher(split['train']['Y'][item], 'train'))\n",
    "        y_train = np.append(y_train, split['train']['Y'][item])\n",
    "    else:\n",
    "        print('found NaN!!!', end=\"\\r\")\n",
    "  else:\n",
    "    print(item, end=\"\\r\")\n",
    "\n",
    "  if item == control * 2000:\n",
    "    print('pack_unload & freeing memory')\n",
    "    print([np.amin(y_train), np.amax(y_train)])\n",
    "    control = control + 1\n",
    "    pkl.dump(x_train, f1)\n",
    "    pkl.dump(y_train, f2)\n",
    "    drug1 = featurizer([split['train']['Drug1'][item]])\n",
    "    drug2 = featurizer([split['train']['Drug2'][item]])\n",
    "    if (len(drug1[0])> 0 and len(drug2[0])>0 and  np.isnan(split['train']['Y'][item]) == False):\n",
    "        x_train = np.transpose(np.array([np.transpose(drug1), np.transpose(drug2)])) \n",
    "        x_train = x_train.reshape(1,64,64,1)\n",
    "        y_train = split['train']['Y'][item]\n",
    "\n",
    "pkl.dump(x_train, f1)\n",
    "pkl.dump(y_train, f2) \n",
    "f1.close()\n",
    "f2.close()"
   ]
  },
  {
   "cell_type": "code",
   "execution_count": 14,
   "metadata": {},
   "outputs": [
    {
     "data": {
      "text/plain": [
       "1.0"
      ]
     },
     "execution_count": 14,
     "metadata": {},
     "output_type": "execute_result"
    }
   ],
   "source": [
    "np.amax(x_train)"
   ]
  },
  {
   "cell_type": "code",
   "execution_count": 5,
   "metadata": {},
   "outputs": [
    {
     "name": "stdout",
     "output_type": "stream",
     "text": [
      "1251\r"
     ]
    },
    {
     "name": "stderr",
     "output_type": "stream",
     "text": [
      "RDKit ERROR: [21:14:34] Explicit valence for atom # 0 N, 4, is greater than permitted\n",
      "Failed to featurize datapoint 0, None. Appending empty array\n",
      "[21:14:34] Explicit valence for atom # 0 N, 4, is greater than permitted\n",
      "Exception message: Python argument types in\n",
      "    rdkit.Chem.rdmolfiles.CanonicalRankAtoms(NoneType)\n",
      "did not match C++ signature:\n",
      "    CanonicalRankAtoms(RDKit::ROMol mol, bool breakTies=True, bool includeChirality=True, bool includeIsotopes=True)\n"
     ]
    },
    {
     "name": "stdout",
     "output_type": "stream",
     "text": [
      "pack_unload & freeing memory\n",
      "[2, 85]\n",
      "3148\r"
     ]
    },
    {
     "name": "stderr",
     "output_type": "stream",
     "text": [
      "RDKit ERROR: [21:15:09] Explicit valence for atom # 0 N, 4, is greater than permitted\n",
      "Failed to featurize datapoint 0, None. Appending empty array\n",
      "[21:15:09] Explicit valence for atom # 0 N, 4, is greater than permitted\n",
      "Exception message: Python argument types in\n",
      "    rdkit.Chem.rdmolfiles.CanonicalRankAtoms(NoneType)\n",
      "did not match C++ signature:\n",
      "    CanonicalRankAtoms(RDKit::ROMol mol, bool breakTies=True, bool includeChirality=True, bool includeIsotopes=True)\n"
     ]
    },
    {
     "name": "stdout",
     "output_type": "stream",
     "text": [
      "pack_unload & freeing memory\n",
      "[2, 85]\n",
      "pack_unload & freeing memory\n",
      "[1, 85]\n",
      "6059\r"
     ]
    },
    {
     "name": "stderr",
     "output_type": "stream",
     "text": [
      "RDKit ERROR: [21:16:11] Explicit valence for atom # 0 N, 4, is greater than permitted\n",
      "Failed to featurize datapoint 0, None. Appending empty array\n",
      "[21:16:11] Explicit valence for atom # 0 N, 4, is greater than permitted\n",
      "Exception message: Python argument types in\n",
      "    rdkit.Chem.rdmolfiles.CanonicalRankAtoms(NoneType)\n",
      "did not match C++ signature:\n",
      "    CanonicalRankAtoms(RDKit::ROMol mol, bool breakTies=True, bool includeChirality=True, bool includeIsotopes=True)\n"
     ]
    },
    {
     "name": "stdout",
     "output_type": "stream",
     "text": [
      "7364\r"
     ]
    },
    {
     "name": "stderr",
     "output_type": "stream",
     "text": [
      "RDKit ERROR: [21:16:27] Explicit valence for atom # 0 N, 4, is greater than permitted\n",
      "Failed to featurize datapoint 0, None. Appending empty array\n",
      "[21:16:27] Explicit valence for atom # 0 N, 4, is greater than permitted\n",
      "Exception message: Python argument types in\n",
      "    rdkit.Chem.rdmolfiles.CanonicalRankAtoms(NoneType)\n",
      "did not match C++ signature:\n",
      "    CanonicalRankAtoms(RDKit::ROMol mol, bool breakTies=True, bool includeChirality=True, bool includeIsotopes=True)\n"
     ]
    },
    {
     "name": "stdout",
     "output_type": "stream",
     "text": [
      "pack_unload & freeing memory\n",
      "[2, 86]\n",
      "9269\r"
     ]
    },
    {
     "name": "stderr",
     "output_type": "stream",
     "text": [
      "RDKit ERROR: [21:17:00] Explicit valence for atom # 0 N, 4, is greater than permitted\n",
      "Failed to featurize datapoint 0, None. Appending empty array\n",
      "[21:17:00] Explicit valence for atom # 0 N, 4, is greater than permitted\n",
      "Exception message: Python argument types in\n",
      "    rdkit.Chem.rdmolfiles.CanonicalRankAtoms(NoneType)\n",
      "did not match C++ signature:\n",
      "    CanonicalRankAtoms(RDKit::ROMol mol, bool breakTies=True, bool includeChirality=True, bool includeIsotopes=True)\n"
     ]
    },
    {
     "name": "stdout",
     "output_type": "stream",
     "text": [
      "pack_unload & freeing memory\n",
      "[2, 85]\n"
     ]
    },
    {
     "name": "stderr",
     "output_type": "stream",
     "text": [
      "RDKit ERROR: [21:17:22] Explicit valence for atom # 0 N, 4, is greater than permitted\n",
      "Failed to featurize datapoint 0, None. Appending empty array\n",
      "[21:17:22] Explicit valence for atom # 0 N, 4, is greater than permitted\n",
      "Exception message: Python argument types in\n",
      "    rdkit.Chem.rdmolfiles.CanonicalRankAtoms(NoneType)\n",
      "did not match C++ signature:\n",
      "    CanonicalRankAtoms(RDKit::ROMol mol, bool breakTies=True, bool includeChirality=True, bool includeIsotopes=True)\n"
     ]
    },
    {
     "name": "stdout",
     "output_type": "stream",
     "text": [
      "10505\r"
     ]
    },
    {
     "name": "stderr",
     "output_type": "stream",
     "text": [
      "RDKit ERROR: [21:17:24] Explicit valence for atom # 0 N, 4, is greater than permitted\n",
      "Failed to featurize datapoint 0, None. Appending empty array\n",
      "[21:17:24] Explicit valence for atom # 0 N, 4, is greater than permitted\n",
      "Exception message: Python argument types in\n",
      "    rdkit.Chem.rdmolfiles.CanonicalRankAtoms(NoneType)\n",
      "did not match C++ signature:\n",
      "    CanonicalRankAtoms(RDKit::ROMol mol, bool breakTies=True, bool includeChirality=True, bool includeIsotopes=True)\n"
     ]
    },
    {
     "name": "stdout",
     "output_type": "stream",
     "text": [
      "11848\r"
     ]
    },
    {
     "name": "stderr",
     "output_type": "stream",
     "text": [
      "RDKit ERROR: [21:17:52] SMILES Parse Error: syntax error while parsing: OC1=CC=CC(=C1)C-1=C2\\CCC(=N2)\\C(=C2/N\\C(\\C=C2)=C(/C2=N/C(/C=C2)=C(\\C2=CC=C\\-1N2)C1=CC(O)=CC=C1)C1=CC(O)=CC=C1)\\C1=CC(O)=CC=C1\n",
      "RDKit ERROR: [21:17:52] SMILES Parse Error: Failed parsing SMILES 'OC1=CC=CC(=C1)C-1=C2\\CCC(=N2)\\C(=C2/N\\C(\\C=C2)=C(/C2=N/C(/C=C2)=C(\\C2=CC=C\\-1N2)C1=CC(O)=CC=C1)C1=CC(O)=CC=C1)\\C1=CC(O)=CC=C1' for input: 'OC1=CC=CC(=C1)C-1=C2\\CCC(=N2)\\C(=C2/N\\C(\\C=C2)=C(/C2=N/C(/C=C2)=C(\\C2=CC=C\\-1N2)C1=CC(O)=CC=C1)C1=CC(O)=CC=C1)\\C1=CC(O)=CC=C1'\n",
      "Failed to featurize datapoint 0, None. Appending empty array\n",
      "[21:17:52] SMILES Parse Error: syntax error while parsing: OC1=CC=CC(=C1)C-1=C2\\CCC(=N2)\\C(=C2/N\\C(\\C=C2)=C(/C2=N/C(/C=C2)=C(\\C2=CC=C\\-1N2)C1=CC(O)=CC=C1)C1=CC(O)=CC=C1)\\C1=CC(O)=CC=C1\n",
      "[21:17:52] SMILES Parse Error: Failed parsing SMILES 'OC1=CC=CC(=C1)C-1=C2\\CCC(=N2)\\C(=C2/N\\C(\\C=C2)=C(/C2=N/C(/C=C2)=C(\\C2=CC=C\\-1N2)C1=CC(O)=CC=C1)C1=CC(O)=CC=C1)\\C1=CC(O)=CC=C1' for input: 'OC1=CC=CC(=C1)C-1=C2\\CCC(=N2)\\C(=C2/N\\C(\\C=C2)=C(/C2=N/C(/C=C2)=C(\\C2=CC=C\\-1N2)C1=CC(O)=CC=C1)C1=CC(O)=CC=C1)\\C1=CC(O)=CC=C1'\n",
      "Exception message: Python argument types in\n",
      "    rdkit.Chem.rdmolfiles.CanonicalRankAtoms(NoneType)\n",
      "did not match C++ signature:\n",
      "    CanonicalRankAtoms(RDKit::ROMol mol, bool breakTies=True, bool includeChirality=True, bool includeIsotopes=True)\n"
     ]
    },
    {
     "name": "stdout",
     "output_type": "stream",
     "text": [
      "11981\r"
     ]
    },
    {
     "name": "stderr",
     "output_type": "stream",
     "text": [
      "RDKit ERROR: [21:17:57] Explicit valence for atom # 0 N, 4, is greater than permitted\n",
      "Failed to featurize datapoint 0, None. Appending empty array\n",
      "[21:17:57] Explicit valence for atom # 0 N, 4, is greater than permitted\n",
      "Exception message: Python argument types in\n",
      "    rdkit.Chem.rdmolfiles.CanonicalRankAtoms(NoneType)\n",
      "did not match C++ signature:\n",
      "    CanonicalRankAtoms(RDKit::ROMol mol, bool breakTies=True, bool includeChirality=True, bool includeIsotopes=True)\n"
     ]
    },
    {
     "name": "stdout",
     "output_type": "stream",
     "text": [
      "pack_unload & freeing memory\n",
      "[2, 85]\n",
      "12525\r"
     ]
    },
    {
     "name": "stderr",
     "output_type": "stream",
     "text": [
      "RDKit ERROR: [21:18:01] Explicit valence for atom # 0 N, 4, is greater than permitted\n",
      "Failed to featurize datapoint 0, None. Appending empty array\n",
      "[21:18:01] Explicit valence for atom # 0 N, 4, is greater than permitted\n",
      "Exception message: Python argument types in\n",
      "    rdkit.Chem.rdmolfiles.CanonicalRankAtoms(NoneType)\n",
      "did not match C++ signature:\n",
      "    CanonicalRankAtoms(RDKit::ROMol mol, bool breakTies=True, bool includeChirality=True, bool includeIsotopes=True)\n"
     ]
    },
    {
     "name": "stdout",
     "output_type": "stream",
     "text": [
      "13436\r"
     ]
    },
    {
     "name": "stderr",
     "output_type": "stream",
     "text": [
      "RDKit ERROR: [21:18:15] Explicit valence for atom # 0 N, 4, is greater than permitted\n",
      "Failed to featurize datapoint 0, None. Appending empty array\n",
      "[21:18:15] Explicit valence for atom # 0 N, 4, is greater than permitted\n",
      "Exception message: Python argument types in\n",
      "    rdkit.Chem.rdmolfiles.CanonicalRankAtoms(NoneType)\n",
      "did not match C++ signature:\n",
      "    CanonicalRankAtoms(RDKit::ROMol mol, bool breakTies=True, bool includeChirality=True, bool includeIsotopes=True)\n"
     ]
    },
    {
     "name": "stdout",
     "output_type": "stream",
     "text": [
      "pack_unload & freeing memory\n",
      "[2, 85]\n",
      "14319\r"
     ]
    },
    {
     "name": "stderr",
     "output_type": "stream",
     "text": [
      "RDKit ERROR: [21:18:34] Explicit valence for atom # 0 N, 4, is greater than permitted\n",
      "Failed to featurize datapoint 0, None. Appending empty array\n",
      "[21:18:34] Explicit valence for atom # 0 N, 4, is greater than permitted\n",
      "Exception message: Python argument types in\n",
      "    rdkit.Chem.rdmolfiles.CanonicalRankAtoms(NoneType)\n",
      "did not match C++ signature:\n",
      "    CanonicalRankAtoms(RDKit::ROMol mol, bool breakTies=True, bool includeChirality=True, bool includeIsotopes=True)\n"
     ]
    },
    {
     "name": "stdout",
     "output_type": "stream",
     "text": [
      "14795\r"
     ]
    },
    {
     "name": "stderr",
     "output_type": "stream",
     "text": [
      "RDKit ERROR: [21:18:38] Explicit valence for atom # 0 N, 4, is greater than permitted\n",
      "Failed to featurize datapoint 0, None. Appending empty array\n",
      "[21:18:38] Explicit valence for atom # 0 N, 4, is greater than permitted\n",
      "Exception message: Python argument types in\n",
      "    rdkit.Chem.rdmolfiles.CanonicalRankAtoms(NoneType)\n",
      "did not match C++ signature:\n",
      "    CanonicalRankAtoms(RDKit::ROMol mol, bool breakTies=True, bool includeChirality=True, bool includeIsotopes=True)\n"
     ]
    },
    {
     "name": "stdout",
     "output_type": "stream",
     "text": [
      "15186\r"
     ]
    },
    {
     "name": "stderr",
     "output_type": "stream",
     "text": [
      "RDKit ERROR: [21:18:44] Explicit valence for atom # 0 N, 4, is greater than permitted\n",
      "Failed to featurize datapoint 0, None. Appending empty array\n",
      "[21:18:44] Explicit valence for atom # 0 N, 4, is greater than permitted\n",
      "Exception message: Python argument types in\n",
      "    rdkit.Chem.rdmolfiles.CanonicalRankAtoms(NoneType)\n",
      "did not match C++ signature:\n",
      "    CanonicalRankAtoms(RDKit::ROMol mol, bool breakTies=True, bool includeChirality=True, bool includeIsotopes=True)\n"
     ]
    },
    {
     "name": "stdout",
     "output_type": "stream",
     "text": [
      "15885\r"
     ]
    },
    {
     "name": "stderr",
     "output_type": "stream",
     "text": [
      "RDKit ERROR: [21:19:04] Explicit valence for atom # 0 N, 4, is greater than permitted\n",
      "Failed to featurize datapoint 0, None. Appending empty array\n",
      "[21:19:04] Explicit valence for atom # 0 N, 4, is greater than permitted\n",
      "Exception message: Python argument types in\n",
      "    rdkit.Chem.rdmolfiles.CanonicalRankAtoms(NoneType)\n",
      "did not match C++ signature:\n",
      "    CanonicalRankAtoms(RDKit::ROMol mol, bool breakTies=True, bool includeChirality=True, bool includeIsotopes=True)\n"
     ]
    },
    {
     "name": "stdout",
     "output_type": "stream",
     "text": [
      "pack_unload & freeing memory\n",
      "[2, 85]\n",
      "16760\r"
     ]
    },
    {
     "name": "stderr",
     "output_type": "stream",
     "text": [
      "RDKit ERROR: [21:19:13] Explicit valence for atom # 0 N, 4, is greater than permitted\n",
      "Failed to featurize datapoint 0, None. Appending empty array\n",
      "[21:19:13] Explicit valence for atom # 0 N, 4, is greater than permitted\n",
      "Exception message: Python argument types in\n",
      "    rdkit.Chem.rdmolfiles.CanonicalRankAtoms(NoneType)\n",
      "did not match C++ signature:\n",
      "    CanonicalRankAtoms(RDKit::ROMol mol, bool breakTies=True, bool includeChirality=True, bool includeIsotopes=True)\n"
     ]
    },
    {
     "name": "stdout",
     "output_type": "stream",
     "text": [
      "17039\r"
     ]
    },
    {
     "name": "stderr",
     "output_type": "stream",
     "text": [
      "RDKit ERROR: [21:19:17] Explicit valence for atom # 0 N, 4, is greater than permitted\n",
      "Failed to featurize datapoint 0, None. Appending empty array\n",
      "[21:19:17] Explicit valence for atom # 0 N, 4, is greater than permitted\n",
      "Exception message: Python argument types in\n",
      "    rdkit.Chem.rdmolfiles.CanonicalRankAtoms(NoneType)\n",
      "did not match C++ signature:\n",
      "    CanonicalRankAtoms(RDKit::ROMol mol, bool breakTies=True, bool includeChirality=True, bool includeIsotopes=True)\n"
     ]
    },
    {
     "name": "stdout",
     "output_type": "stream",
     "text": [
      "17610\r"
     ]
    },
    {
     "name": "stderr",
     "output_type": "stream",
     "text": [
      "RDKit ERROR: [21:19:31] Explicit valence for atom # 0 N, 4, is greater than permitted\n",
      "Failed to featurize datapoint 0, None. Appending empty array\n",
      "[21:19:31] Explicit valence for atom # 0 N, 4, is greater than permitted\n",
      "Exception message: Python argument types in\n",
      "    rdkit.Chem.rdmolfiles.CanonicalRankAtoms(NoneType)\n",
      "did not match C++ signature:\n",
      "    CanonicalRankAtoms(RDKit::ROMol mol, bool breakTies=True, bool includeChirality=True, bool includeIsotopes=True)\n"
     ]
    },
    {
     "name": "stdout",
     "output_type": "stream",
     "text": [
      "17955\r"
     ]
    },
    {
     "name": "stderr",
     "output_type": "stream",
     "text": [
      "RDKit ERROR: [21:19:43] Explicit valence for atom # 0 N, 4, is greater than permitted\n",
      "Failed to featurize datapoint 0, None. Appending empty array\n",
      "[21:19:43] Explicit valence for atom # 0 N, 4, is greater than permitted\n",
      "Exception message: Python argument types in\n",
      "    rdkit.Chem.rdmolfiles.CanonicalRankAtoms(NoneType)\n",
      "did not match C++ signature:\n",
      "    CanonicalRankAtoms(RDKit::ROMol mol, bool breakTies=True, bool includeChirality=True, bool includeIsotopes=True)\n"
     ]
    },
    {
     "name": "stdout",
     "output_type": "stream",
     "text": [
      "pack_unload & freeing memory\n",
      "[2, 85]\n",
      "18421\r"
     ]
    },
    {
     "name": "stderr",
     "output_type": "stream",
     "text": [
      "RDKit ERROR: [21:19:47] Explicit valence for atom # 0 N, 4, is greater than permitted\n",
      "Failed to featurize datapoint 0, None. Appending empty array\n",
      "[21:19:47] Explicit valence for atom # 0 N, 4, is greater than permitted\n",
      "Exception message: Python argument types in\n",
      "    rdkit.Chem.rdmolfiles.CanonicalRankAtoms(NoneType)\n",
      "did not match C++ signature:\n",
      "    CanonicalRankAtoms(RDKit::ROMol mol, bool breakTies=True, bool includeChirality=True, bool includeIsotopes=True)\n"
     ]
    },
    {
     "name": "stdout",
     "output_type": "stream",
     "text": [
      "19180\r"
     ]
    }
   ],
   "source": [
    "! rm x_valid_big.pkl\n",
    "! rm y_valid_big.pkl\n",
    "\n",
    "f1=open('x_valid_big.pkl', 'wb')\n",
    "f2=open('y_valid_big.pkl', 'wb')\n",
    "\n",
    "drug1 = featurizer([split['valid']['Drug1'][0]])\n",
    "drug2 = featurizer([split['valid']['Drug2'][0]])\n",
    "\n",
    "if (len(drug1[0])> 0 and len(drug2[0])>0):\n",
    "    x_valid = np.transpose(np.array([np.transpose(drug1), np.transpose(drug2)])) \n",
    "    x_valid = x_valid.reshape(1,64,64,1)\n",
    "#    x_valid = np.transpose(np.array([np.transpose(drug1), np.transpose(drug2)]) \n",
    "    #y_valid = synergy_switcher(split['valid']['Y'][item], 'valid')\n",
    "    y_valid = split['valid']['Y'][0]\n",
    "control = 1\n",
    "#38362\n",
    "for item in range(1,19181):\n",
    "  print(item, end=\"\\r\")\n",
    "  #len(split['valid']['Drug1']\n",
    "  drug1 = featurizer([split['valid']['Drug1'][item]])\n",
    "  drug2 = featurizer([split['valid']['Drug2'][item]])\n",
    "  if (len(drug1[0])>0 and len(drug2[0])>0 and np.isnan(split['valid']['Y'][item]) == False):\n",
    "    #print(item)\n",
    "    x = np.transpose(np.array([np.transpose(drug1), np.transpose(drug2)]))\n",
    "    x = x.reshape(1,64,64,1)\n",
    "    x_valid = np.append(x_valid, x, axis = 0)\n",
    "    #y_valid = np.append(y_valid, synergy_switcher(split['valid']['Y'][item], 'valid'))\n",
    "    y_valid = np.append(y_valid, split['valid']['Y'][item])\n",
    "  else:\n",
    "    print(item, end=\"\\r\")\n",
    "\n",
    "  if item == control * 2000:\n",
    "    print('pack_unload & freeing memory')\n",
    "    print([np.amin(y_valid), np.amax(y_valid)])\n",
    "    control = control + 1\n",
    "    pkl.dump(x_valid, f1)\n",
    "    pkl.dump(y_valid, f2)\n",
    "    drug1 = featurizer([split['valid']['Drug1'][item]])\n",
    "    drug2 = featurizer([split['valid']['Drug2'][item]])\n",
    "    if (len(drug1[0])> 0 and len(drug2[0])>0 and  np.isnan(split['valid']['Y'][item]) == False):\n",
    "        x_valid = np.transpose(np.array([np.transpose(drug1), np.transpose(drug2)])) \n",
    "        x_valid = x_valid.reshape(1,64,64,1)\n",
    "        y_valid = split['valid']['Y'][item]\n",
    "\n",
    "pkl.dump(x_train, f1)\n",
    "pkl.dump(y_train, f2) \n",
    "f1.close()\n",
    "f2.close()"
   ]
  },
  {
   "cell_type": "code",
   "execution_count": 6,
   "metadata": {},
   "outputs": [
    {
     "data": {
      "text/plain": [
       "1.0"
      ]
     },
     "execution_count": 6,
     "metadata": {},
     "output_type": "execute_result"
    }
   ],
   "source": [
    "np.amax(x_train)"
   ]
  },
  {
   "cell_type": "code",
   "execution_count": 6,
   "metadata": {},
   "outputs": [
    {
     "name": "stdout",
     "output_type": "stream",
     "text": [
      "602\r"
     ]
    },
    {
     "name": "stderr",
     "output_type": "stream",
     "text": [
      "RDKit ERROR: [21:19:59] Explicit valence for atom # 0 N, 4, is greater than permitted\n",
      "Failed to featurize datapoint 0, None. Appending empty array\n",
      "[21:19:59] Explicit valence for atom # 0 N, 4, is greater than permitted\n",
      "Exception message: Python argument types in\n",
      "    rdkit.Chem.rdmolfiles.CanonicalRankAtoms(NoneType)\n",
      "did not match C++ signature:\n",
      "    CanonicalRankAtoms(RDKit::ROMol mol, bool breakTies=True, bool includeChirality=True, bool includeIsotopes=True)\n"
     ]
    },
    {
     "name": "stdout",
     "output_type": "stream",
     "text": [
      "909\r"
     ]
    },
    {
     "name": "stderr",
     "output_type": "stream",
     "text": [
      "RDKit ERROR: [21:20:02] Explicit valence for atom # 0 N, 4, is greater than permitted\n",
      "Failed to featurize datapoint 0, None. Appending empty array\n",
      "[21:20:02] Explicit valence for atom # 0 N, 4, is greater than permitted\n",
      "Exception message: Python argument types in\n",
      "    rdkit.Chem.rdmolfiles.CanonicalRankAtoms(NoneType)\n",
      "did not match C++ signature:\n",
      "    CanonicalRankAtoms(RDKit::ROMol mol, bool breakTies=True, bool includeChirality=True, bool includeIsotopes=True)\n"
     ]
    },
    {
     "name": "stdout",
     "output_type": "stream",
     "text": [
      "1305\r"
     ]
    },
    {
     "name": "stderr",
     "output_type": "stream",
     "text": [
      "RDKit ERROR: [21:20:09] Explicit valence for atom # 0 N, 4, is greater than permitted\n",
      "Failed to featurize datapoint 0, None. Appending empty array\n",
      "[21:20:09] Explicit valence for atom # 0 N, 4, is greater than permitted\n",
      "Exception message: Python argument types in\n",
      "    rdkit.Chem.rdmolfiles.CanonicalRankAtoms(NoneType)\n",
      "did not match C++ signature:\n",
      "    CanonicalRankAtoms(RDKit::ROMol mol, bool breakTies=True, bool includeChirality=True, bool includeIsotopes=True)\n"
     ]
    },
    {
     "name": "stdout",
     "output_type": "stream",
     "text": [
      "pack_unload & freeing memory\n",
      "[2, 86]\n",
      "2801\r"
     ]
    },
    {
     "name": "stderr",
     "output_type": "stream",
     "text": [
      "RDKit ERROR: [21:20:36] Explicit valence for atom # 0 N, 4, is greater than permitted\n",
      "Failed to featurize datapoint 0, None. Appending empty array\n",
      "[21:20:36] Explicit valence for atom # 0 N, 4, is greater than permitted\n",
      "Exception message: Python argument types in\n",
      "    rdkit.Chem.rdmolfiles.CanonicalRankAtoms(NoneType)\n",
      "did not match C++ signature:\n",
      "    CanonicalRankAtoms(RDKit::ROMol mol, bool breakTies=True, bool includeChirality=True, bool includeIsotopes=True)\n"
     ]
    },
    {
     "name": "stdout",
     "output_type": "stream",
     "text": [
      "pack_unload & freeing memory\n",
      "[2, 85]\n",
      "pack_unload & freeing memory\n",
      "[2, 86]\n",
      "6762\r"
     ]
    },
    {
     "name": "stderr",
     "output_type": "stream",
     "text": [
      "RDKit ERROR: [21:21:46] Explicit valence for atom # 0 N, 4, is greater than permitted\n",
      "Failed to featurize datapoint 0, None. Appending empty array\n",
      "[21:21:46] Explicit valence for atom # 0 N, 4, is greater than permitted\n",
      "Exception message: Python argument types in\n",
      "    rdkit.Chem.rdmolfiles.CanonicalRankAtoms(NoneType)\n",
      "did not match C++ signature:\n",
      "    CanonicalRankAtoms(RDKit::ROMol mol, bool breakTies=True, bool includeChirality=True, bool includeIsotopes=True)\n"
     ]
    },
    {
     "name": "stdout",
     "output_type": "stream",
     "text": [
      "7040\r"
     ]
    },
    {
     "name": "stderr",
     "output_type": "stream",
     "text": [
      "RDKit ERROR: [21:21:49] Explicit valence for atom # 0 N, 4, is greater than permitted\n",
      "Failed to featurize datapoint 0, None. Appending empty array\n",
      "[21:21:49] Explicit valence for atom # 0 N, 4, is greater than permitted\n",
      "Exception message: Python argument types in\n",
      "    rdkit.Chem.rdmolfiles.CanonicalRankAtoms(NoneType)\n",
      "did not match C++ signature:\n",
      "    CanonicalRankAtoms(RDKit::ROMol mol, bool breakTies=True, bool includeChirality=True, bool includeIsotopes=True)\n"
     ]
    },
    {
     "name": "stdout",
     "output_type": "stream",
     "text": [
      "pack_unload & freeing memory\n",
      "[2, 85]\n",
      "9447\r"
     ]
    },
    {
     "name": "stderr",
     "output_type": "stream",
     "text": [
      "RDKit ERROR: [21:22:33] Explicit valence for atom # 0 N, 4, is greater than permitted\n",
      "[21:22:33] Explicit valence for atom # 0 N, 4, is greater than permitted\n",
      "Failed to featurize datapoint 0, None. Appending empty array\n",
      "Exception message: Python argument types in\n",
      "    rdkit.Chem.rdmolfiles.CanonicalRankAtoms(NoneType)\n",
      "did not match C++ signature:\n",
      "    CanonicalRankAtoms(RDKit::ROMol mol, bool breakTies=True, bool includeChirality=True, bool includeIsotopes=True)\n"
     ]
    },
    {
     "name": "stdout",
     "output_type": "stream",
     "text": [
      "9880\r"
     ]
    },
    {
     "name": "stderr",
     "output_type": "stream",
     "text": [
      "RDKit ERROR: [21:22:47] Explicit valence for atom # 0 N, 4, is greater than permitted\n",
      "Failed to featurize datapoint 0, None. Appending empty array\n",
      "[21:22:47] Explicit valence for atom # 0 N, 4, is greater than permitted\n",
      "Exception message: Python argument types in\n",
      "    rdkit.Chem.rdmolfiles.CanonicalRankAtoms(NoneType)\n",
      "did not match C++ signature:\n",
      "    CanonicalRankAtoms(RDKit::ROMol mol, bool breakTies=True, bool includeChirality=True, bool includeIsotopes=True)\n"
     ]
    },
    {
     "name": "stdout",
     "output_type": "stream",
     "text": [
      "9992\r"
     ]
    },
    {
     "name": "stderr",
     "output_type": "stream",
     "text": [
      "RDKit ERROR: [21:22:51] Explicit valence for atom # 0 N, 4, is greater than permitted\n",
      "Failed to featurize datapoint 0, None. Appending empty array\n",
      "[21:22:51] Explicit valence for atom # 0 N, 4, is greater than permitted\n",
      "Exception message: Python argument types in\n",
      "    rdkit.Chem.rdmolfiles.CanonicalRankAtoms(NoneType)\n",
      "did not match C++ signature:\n",
      "    CanonicalRankAtoms(RDKit::ROMol mol, bool breakTies=True, bool includeChirality=True, bool includeIsotopes=True)\n"
     ]
    },
    {
     "name": "stdout",
     "output_type": "stream",
     "text": [
      "pack_unload & freeing memory\n",
      "[2, 86]\n",
      "10282\r"
     ]
    },
    {
     "name": "stderr",
     "output_type": "stream",
     "text": [
      "RDKit ERROR: [21:22:52] Explicit valence for atom # 0 N, 4, is greater than permitted\n",
      "Failed to featurize datapoint 0, None. Appending empty array\n",
      "[21:22:52] Explicit valence for atom # 0 N, 4, is greater than permitted\n",
      "Exception message: Python argument types in\n",
      "    rdkit.Chem.rdmolfiles.CanonicalRankAtoms(NoneType)\n",
      "did not match C++ signature:\n",
      "    CanonicalRankAtoms(RDKit::ROMol mol, bool breakTies=True, bool includeChirality=True, bool includeIsotopes=True)\n"
     ]
    },
    {
     "name": "stdout",
     "output_type": "stream",
     "text": [
      "10366\r"
     ]
    },
    {
     "name": "stderr",
     "output_type": "stream",
     "text": [
      "RDKit ERROR: [21:22:53] Explicit valence for atom # 0 N, 4, is greater than permitted\n",
      "Failed to featurize datapoint 0, None. Appending empty array\n",
      "[21:22:53] Explicit valence for atom # 0 N, 4, is greater than permitted\n",
      "Exception message: Python argument types in\n",
      "    rdkit.Chem.rdmolfiles.CanonicalRankAtoms(NoneType)\n",
      "did not match C++ signature:\n",
      "    CanonicalRankAtoms(RDKit::ROMol mol, bool breakTies=True, bool includeChirality=True, bool includeIsotopes=True)\n"
     ]
    },
    {
     "name": "stdout",
     "output_type": "stream",
     "text": [
      "pack_unload & freeing memory\n",
      "[2, 85]\n",
      "12419\r"
     ]
    },
    {
     "name": "stderr",
     "output_type": "stream",
     "text": [
      "RDKit ERROR: [21:23:28] Explicit valence for atom # 0 N, 4, is greater than permitted\n",
      "Failed to featurize datapoint 0, None. Appending empty array\n",
      "[21:23:28] Explicit valence for atom # 0 N, 4, is greater than permitted\n",
      "Exception message: Python argument types in\n",
      "    rdkit.Chem.rdmolfiles.CanonicalRankAtoms(NoneType)\n",
      "did not match C++ signature:\n",
      "    CanonicalRankAtoms(RDKit::ROMol mol, bool breakTies=True, bool includeChirality=True, bool includeIsotopes=True)\n"
     ]
    },
    {
     "name": "stdout",
     "output_type": "stream",
     "text": [
      "12957\r"
     ]
    },
    {
     "name": "stderr",
     "output_type": "stream",
     "text": [
      "RDKit ERROR: [21:23:33] Explicit valence for atom # 0 N, 4, is greater than permitted\n",
      "Failed to featurize datapoint 0, None. Appending empty array\n",
      "[21:23:33] Explicit valence for atom # 0 N, 4, is greater than permitted\n",
      "Exception message: Python argument types in\n",
      "    rdkit.Chem.rdmolfiles.CanonicalRankAtoms(NoneType)\n",
      "did not match C++ signature:\n",
      "    CanonicalRankAtoms(RDKit::ROMol mol, bool breakTies=True, bool includeChirality=True, bool includeIsotopes=True)\n"
     ]
    },
    {
     "name": "stdout",
     "output_type": "stream",
     "text": [
      "13679\r"
     ]
    },
    {
     "name": "stderr",
     "output_type": "stream",
     "text": [
      "RDKit ERROR: [21:23:51] Explicit valence for atom # 0 N, 4, is greater than permitted\n",
      "Failed to featurize datapoint 0, None. Appending empty array\n",
      "[21:23:51] Explicit valence for atom # 0 N, 4, is greater than permitted\n",
      "Exception message: Python argument types in\n",
      "    rdkit.Chem.rdmolfiles.CanonicalRankAtoms(NoneType)\n",
      "did not match C++ signature:\n",
      "    CanonicalRankAtoms(RDKit::ROMol mol, bool breakTies=True, bool includeChirality=True, bool includeIsotopes=True)\n"
     ]
    },
    {
     "name": "stdout",
     "output_type": "stream",
     "text": [
      "pack_unload & freeing memory\n",
      "[1, 85]\n",
      "pack_unload & freeing memory\n",
      "[2, 86]\n",
      "pack_unload & freeing memory\n",
      "[2, 85]\n",
      "18244\r"
     ]
    },
    {
     "name": "stderr",
     "output_type": "stream",
     "text": [
      "RDKit ERROR: [21:25:15] Explicit valence for atom # 0 N, 4, is greater than permitted\n",
      "[21:25:15] Explicit valence for atom # 0 N, 4, is greater than permitted\n",
      "Failed to featurize datapoint 0, None. Appending empty array\n",
      "Exception message: Python argument types in\n",
      "    rdkit.Chem.rdmolfiles.CanonicalRankAtoms(NoneType)\n",
      "did not match C++ signature:\n",
      "    CanonicalRankAtoms(RDKit::ROMol mol, bool breakTies=True, bool includeChirality=True, bool includeIsotopes=True)\n",
      "RDKit ERROR: [21:25:16] Explicit valence for atom # 0 N, 4, is greater than permitted\n",
      "Failed to featurize datapoint 0, None. Appending empty array\n",
      "[21:25:16] Explicit valence for atom # 0 N, 4, is greater than permitted\n",
      "Exception message: Python argument types in\n",
      "    rdkit.Chem.rdmolfiles.CanonicalRankAtoms(NoneType)\n",
      "did not match C++ signature:\n",
      "    CanonicalRankAtoms(RDKit::ROMol mol, bool breakTies=True, bool includeChirality=True, bool includeIsotopes=True)\n"
     ]
    },
    {
     "name": "stdout",
     "output_type": "stream",
     "text": [
      "19094\r"
     ]
    },
    {
     "name": "stderr",
     "output_type": "stream",
     "text": [
      "RDKit ERROR: [21:25:24] Explicit valence for atom # 0 N, 4, is greater than permitted\n",
      "Failed to featurize datapoint 0, None. Appending empty array\n",
      "[21:25:24] Explicit valence for atom # 0 N, 4, is greater than permitted\n",
      "Exception message: Python argument types in\n",
      "    rdkit.Chem.rdmolfiles.CanonicalRankAtoms(NoneType)\n",
      "did not match C++ signature:\n",
      "    CanonicalRankAtoms(RDKit::ROMol mol, bool breakTies=True, bool includeChirality=True, bool includeIsotopes=True)\n"
     ]
    },
    {
     "name": "stdout",
     "output_type": "stream",
     "text": [
      "19155\r"
     ]
    },
    {
     "name": "stderr",
     "output_type": "stream",
     "text": [
      "RDKit ERROR: [21:25:25] Explicit valence for atom # 0 N, 4, is greater than permitted\n",
      "Failed to featurize datapoint 0, None. Appending empty array\n",
      "[21:25:25] Explicit valence for atom # 0 N, 4, is greater than permitted\n",
      "Exception message: Python argument types in\n",
      "    rdkit.Chem.rdmolfiles.CanonicalRankAtoms(NoneType)\n",
      "did not match C++ signature:\n",
      "    CanonicalRankAtoms(RDKit::ROMol mol, bool breakTies=True, bool includeChirality=True, bool includeIsotopes=True)\n"
     ]
    },
    {
     "name": "stdout",
     "output_type": "stream",
     "text": [
      "pack_unload & freeing memory\n",
      "[2, 86]\n",
      "20839\r"
     ]
    },
    {
     "name": "stderr",
     "output_type": "stream",
     "text": [
      "RDKit ERROR: [21:25:56] Explicit valence for atom # 0 N, 4, is greater than permitted\n",
      "Failed to featurize datapoint 0, None. Appending empty array\n",
      "[21:25:56] Explicit valence for atom # 0 N, 4, is greater than permitted\n",
      "Exception message: Python argument types in\n",
      "    rdkit.Chem.rdmolfiles.CanonicalRankAtoms(NoneType)\n",
      "did not match C++ signature:\n",
      "    CanonicalRankAtoms(RDKit::ROMol mol, bool breakTies=True, bool includeChirality=True, bool includeIsotopes=True)\n"
     ]
    },
    {
     "name": "stdout",
     "output_type": "stream",
     "text": [
      "pack_unload & freeing memory\n",
      "[2, 85]\n",
      "22758\r"
     ]
    },
    {
     "name": "stderr",
     "output_type": "stream",
     "text": [
      "RDKit ERROR: [21:26:30] Explicit valence for atom # 0 N, 4, is greater than permitted\n",
      "Failed to featurize datapoint 0, None. Appending empty array\n",
      "[21:26:30] Explicit valence for atom # 0 N, 4, is greater than permitted\n",
      "Exception message: Python argument types in\n",
      "    rdkit.Chem.rdmolfiles.CanonicalRankAtoms(NoneType)\n",
      "did not match C++ signature:\n",
      "    CanonicalRankAtoms(RDKit::ROMol mol, bool breakTies=True, bool includeChirality=True, bool includeIsotopes=True)\n"
     ]
    },
    {
     "name": "stdout",
     "output_type": "stream",
     "text": [
      "23061\r"
     ]
    },
    {
     "name": "stderr",
     "output_type": "stream",
     "text": [
      "RDKit ERROR: [21:26:34] Explicit valence for atom # 0 N, 4, is greater than permitted\n",
      "Failed to featurize datapoint 0, None. Appending empty array\n",
      "[21:26:34] Explicit valence for atom # 0 N, 4, is greater than permitted\n",
      "Exception message: Python argument types in\n",
      "    rdkit.Chem.rdmolfiles.CanonicalRankAtoms(NoneType)\n",
      "did not match C++ signature:\n",
      "    CanonicalRankAtoms(RDKit::ROMol mol, bool breakTies=True, bool includeChirality=True, bool includeIsotopes=True)\n"
     ]
    },
    {
     "name": "stdout",
     "output_type": "stream",
     "text": [
      "23284\r"
     ]
    },
    {
     "name": "stderr",
     "output_type": "stream",
     "text": [
      "RDKit ERROR: [21:26:39] Explicit valence for atom # 0 N, 4, is greater than permitted\n",
      "Failed to featurize datapoint 0, None. Appending empty array\n",
      "[21:26:39] Explicit valence for atom # 0 N, 4, is greater than permitted\n",
      "Exception message: Python argument types in\n",
      "    rdkit.Chem.rdmolfiles.CanonicalRankAtoms(NoneType)\n",
      "did not match C++ signature:\n",
      "    CanonicalRankAtoms(RDKit::ROMol mol, bool breakTies=True, bool includeChirality=True, bool includeIsotopes=True)\n"
     ]
    },
    {
     "name": "stdout",
     "output_type": "stream",
     "text": [
      "23584\r"
     ]
    },
    {
     "name": "stderr",
     "output_type": "stream",
     "text": [
      "RDKit ERROR: [21:26:47] Explicit valence for atom # 0 N, 4, is greater than permitted\n",
      "Failed to featurize datapoint 0, None. Appending empty array\n",
      "[21:26:47] Explicit valence for atom # 0 N, 4, is greater than permitted\n",
      "Exception message: Python argument types in\n",
      "    rdkit.Chem.rdmolfiles.CanonicalRankAtoms(NoneType)\n",
      "did not match C++ signature:\n",
      "    CanonicalRankAtoms(RDKit::ROMol mol, bool breakTies=True, bool includeChirality=True, bool includeIsotopes=True)\n"
     ]
    },
    {
     "name": "stdout",
     "output_type": "stream",
     "text": [
      "pack_unload & freeing memory\n",
      "[3, 85]\n"
     ]
    },
    {
     "name": "stderr",
     "output_type": "stream",
     "text": [
      "RDKit ERROR: [21:27:00] Explicit valence for atom # 0 N, 4, is greater than permitted\n",
      "[21:27:00] Explicit valence for atom # 0 N, 4, is greater than permitted\n",
      "Failed to featurize datapoint 0, None. Appending empty array\n",
      "Exception message: Python argument types in\n",
      "    rdkit.Chem.rdmolfiles.CanonicalRankAtoms(NoneType)\n",
      "did not match C++ signature:\n",
      "    CanonicalRankAtoms(RDKit::ROMol mol, bool breakTies=True, bool includeChirality=True, bool includeIsotopes=True)\n"
     ]
    },
    {
     "name": "stdout",
     "output_type": "stream",
     "text": [
      "pack_unload & freeing memory\n",
      "[2, 85]\n",
      "26214\r"
     ]
    },
    {
     "name": "stderr",
     "output_type": "stream",
     "text": [
      "RDKit ERROR: [21:27:38] Explicit valence for atom # 0 N, 4, is greater than permitted\n",
      "Failed to featurize datapoint 0, None. Appending empty array\n",
      "[21:27:38] Explicit valence for atom # 0 N, 4, is greater than permitted\n",
      "Exception message: Python argument types in\n",
      "    rdkit.Chem.rdmolfiles.CanonicalRankAtoms(NoneType)\n",
      "did not match C++ signature:\n",
      "    CanonicalRankAtoms(RDKit::ROMol mol, bool breakTies=True, bool includeChirality=True, bool includeIsotopes=True)\n"
     ]
    },
    {
     "name": "stdout",
     "output_type": "stream",
     "text": [
      "27777\r"
     ]
    },
    {
     "name": "stderr",
     "output_type": "stream",
     "text": [
      "RDKit ERROR: [21:28:04] Explicit valence for atom # 0 N, 4, is greater than permitted\n",
      "Failed to featurize datapoint 0, None. Appending empty array\n",
      "[21:28:04] Explicit valence for atom # 0 N, 4, is greater than permitted\n",
      "Exception message: Python argument types in\n",
      "    rdkit.Chem.rdmolfiles.CanonicalRankAtoms(NoneType)\n",
      "did not match C++ signature:\n",
      "    CanonicalRankAtoms(RDKit::ROMol mol, bool breakTies=True, bool includeChirality=True, bool includeIsotopes=True)\n"
     ]
    },
    {
     "name": "stdout",
     "output_type": "stream",
     "text": [
      "pack_unload & freeing memory\n",
      "[2, 86]\n",
      "28059\r"
     ]
    },
    {
     "name": "stderr",
     "output_type": "stream",
     "text": [
      "RDKit ERROR: [21:28:12] Explicit valence for atom # 0 N, 4, is greater than permitted\n",
      "[21:28:12] Explicit valence for atom # 0 N, 4, is greater than permitted\n",
      "Failed to featurize datapoint 0, None. Appending empty array\n",
      "Exception message: Python argument types in\n",
      "    rdkit.Chem.rdmolfiles.CanonicalRankAtoms(NoneType)\n",
      "did not match C++ signature:\n",
      "    CanonicalRankAtoms(RDKit::ROMol mol, bool breakTies=True, bool includeChirality=True, bool includeIsotopes=True)\n"
     ]
    },
    {
     "name": "stdout",
     "output_type": "stream",
     "text": [
      "pack_unload & freeing memory\n",
      "[2, 85]\n",
      "31892\r"
     ]
    },
    {
     "name": "stderr",
     "output_type": "stream",
     "text": [
      "RDKit ERROR: [21:29:18] Explicit valence for atom # 0 N, 4, is greater than permitted\n",
      "Failed to featurize datapoint 0, None. Appending empty array\n",
      "[21:29:18] Explicit valence for atom # 0 N, 4, is greater than permitted\n",
      "Exception message: Python argument types in\n",
      "    rdkit.Chem.rdmolfiles.CanonicalRankAtoms(NoneType)\n",
      "did not match C++ signature:\n",
      "    CanonicalRankAtoms(RDKit::ROMol mol, bool breakTies=True, bool includeChirality=True, bool includeIsotopes=True)\n"
     ]
    },
    {
     "name": "stdout",
     "output_type": "stream",
     "text": [
      "pack_unload & freeing memory\n",
      "[2, 85]\n"
     ]
    },
    {
     "name": "stderr",
     "output_type": "stream",
     "text": [
      "RDKit ERROR: [21:29:22] Explicit valence for atom # 0 N, 4, is greater than permitted\n",
      "Failed to featurize datapoint 0, None. Appending empty array\n",
      "[21:29:22] Explicit valence for atom # 0 N, 4, is greater than permitted\n",
      "Exception message: Python argument types in\n",
      "    rdkit.Chem.rdmolfiles.CanonicalRankAtoms(NoneType)\n",
      "did not match C++ signature:\n",
      "    CanonicalRankAtoms(RDKit::ROMol mol, bool breakTies=True, bool includeChirality=True, bool includeIsotopes=True)\n"
     ]
    },
    {
     "name": "stdout",
     "output_type": "stream",
     "text": [
      "32158\r"
     ]
    },
    {
     "name": "stderr",
     "output_type": "stream",
     "text": [
      "RDKit ERROR: [21:29:23] Explicit valence for atom # 0 N, 4, is greater than permitted\n",
      "[21:29:23] Explicit valence for atom # 0 N, 4, is greater than permitted\n",
      "Failed to featurize datapoint 0, None. Appending empty array\n",
      "Exception message: Python argument types in\n",
      "    rdkit.Chem.rdmolfiles.CanonicalRankAtoms(NoneType)\n",
      "did not match C++ signature:\n",
      "    CanonicalRankAtoms(RDKit::ROMol mol, bool breakTies=True, bool includeChirality=True, bool includeIsotopes=True)\n"
     ]
    },
    {
     "name": "stdout",
     "output_type": "stream",
     "text": [
      "33232\r"
     ]
    },
    {
     "name": "stderr",
     "output_type": "stream",
     "text": [
      "RDKit ERROR: [21:29:34] Explicit valence for atom # 0 N, 4, is greater than permitted\n",
      "Failed to featurize datapoint 0, None. Appending empty array\n",
      "[21:29:34] Explicit valence for atom # 0 N, 4, is greater than permitted\n",
      "Exception message: Python argument types in\n",
      "    rdkit.Chem.rdmolfiles.CanonicalRankAtoms(NoneType)\n",
      "did not match C++ signature:\n",
      "    CanonicalRankAtoms(RDKit::ROMol mol, bool breakTies=True, bool includeChirality=True, bool includeIsotopes=True)\n"
     ]
    },
    {
     "name": "stdout",
     "output_type": "stream",
     "text": [
      "pack_unload & freeing memory\n",
      "[2, 85]\n"
     ]
    },
    {
     "name": "stderr",
     "output_type": "stream",
     "text": [
      "RDKit ERROR: [21:29:57] Explicit valence for atom # 0 N, 4, is greater than permitted\n",
      "Failed to featurize datapoint 0, None. Appending empty array\n",
      "[21:29:57] Explicit valence for atom # 0 N, 4, is greater than permitted\n",
      "Exception message: Python argument types in\n",
      "    rdkit.Chem.rdmolfiles.CanonicalRankAtoms(NoneType)\n",
      "did not match C++ signature:\n",
      "    CanonicalRankAtoms(RDKit::ROMol mol, bool breakTies=True, bool includeChirality=True, bool includeIsotopes=True)\n"
     ]
    },
    {
     "name": "stdout",
     "output_type": "stream",
     "text": [
      "pack_unload & freeing memory\n",
      "[2, 85]\n",
      "36972\r"
     ]
    },
    {
     "name": "stderr",
     "output_type": "stream",
     "text": [
      "RDKit ERROR: [21:30:39] Explicit valence for atom # 0 N, 4, is greater than permitted\n",
      "Failed to featurize datapoint 0, None. Appending empty array\n",
      "[21:30:39] Explicit valence for atom # 0 N, 4, is greater than permitted\n",
      "Exception message: Python argument types in\n",
      "    rdkit.Chem.rdmolfiles.CanonicalRankAtoms(NoneType)\n",
      "did not match C++ signature:\n",
      "    CanonicalRankAtoms(RDKit::ROMol mol, bool breakTies=True, bool includeChirality=True, bool includeIsotopes=True)\n"
     ]
    },
    {
     "name": "stdout",
     "output_type": "stream",
     "text": [
      "pack_unload & freeing memory\n",
      "[2, 85]\n",
      "38361\r"
     ]
    }
   ],
   "source": [
    "! rm x_test_big.pkl\n",
    "! rm y_test_big.pkl\n",
    "\n",
    "f1=open('x_test_big.pkl', 'wb')\n",
    "f2=open('y_test_big.pkl', 'wb')\n",
    "\n",
    "drug1 = featurizer([split['test']['Drug1'][0]])\n",
    "drug2 = featurizer([split['test']['Drug2'][0]])\n",
    "\n",
    "if (len(drug1[0])> 0 and len(drug2[0])>0):\n",
    "    x_test = np.transpose(np.array([np.transpose(drug1), np.transpose(drug2)])) \n",
    "    x_test = x_test.reshape(1,64,64,1)\n",
    "#    x_test = np.transpose(np.array([np.transpose(drug1), np.transpose(drug2)]) \n",
    "    #y_test = synergy_switcher(split['test']['Y'][item], 'test')\n",
    "    y_test = split['test']['Y'][0]\n",
    "control = 1\n",
    "#38362\n",
    "for item in range(2,38362):\n",
    "  print(item, end=\"\\r\")\n",
    "  #len(split['test']['Drug1']\n",
    "  drug1 = featurizer([split['test']['Drug1'][item]])\n",
    "  drug2 = featurizer([split['test']['Drug2'][item]])\n",
    "  if (len(drug1[0])>0 and len(drug2[0])>0 and np.isnan(split['test']['Y'][item]) == False):\n",
    "    #print(item)\n",
    "    x = np.transpose(np.array([np.transpose(drug1), np.transpose(drug2)]))\n",
    "    x = x.reshape(1,64,64,1)\n",
    "    x_test = np.append(x_test, x, axis = 0)\n",
    "    #y_test = np.append(y_test, synergy_switcher(split['test']['Y'][item], 'test'))\n",
    "    y_test = np.append(y_test, split['test']['Y'][item])\n",
    "  else:\n",
    "    print(item, end=\"\\r\")\n",
    "\n",
    "  if item == control * 2000:\n",
    "    print('pack_unload & freeing memory')\n",
    "    print([np.amin(y_test), np.amax(y_test)])\n",
    "    control = control + 1\n",
    "    pkl.dump(x_test, f1)\n",
    "    pkl.dump(y_test, f2)\n",
    "    drug1 = featurizer([split['test']['Drug1'][item]])\n",
    "    drug2 = featurizer([split['test']['Drug2'][item]])\n",
    "    if (len(drug1[0])> 0 and len(drug2[0])>0 and  np.isnan(split['test']['Y'][item]) == False):\n",
    "        x_test = np.transpose(np.array([np.transpose(drug1), np.transpose(drug2)])) \n",
    "        x_test = x_test.reshape(1,64,64,1)\n",
    "        y_test = split['test']['Y'][item]\n",
    " \n",
    "pkl.dump(x_train, f1)\n",
    "pkl.dump(y_train, f2) \n",
    "f1.close()\n",
    "f2.close()"
   ]
  },
  {
   "cell_type": "code",
   "execution_count": null,
   "metadata": {},
   "outputs": [],
   "source": []
  }
 ],
 "metadata": {
  "kernelspec": {
   "display_name": "Python 3 (ipykernel)",
   "language": "python",
   "name": "python3"
  },
  "language_info": {
   "codemirror_mode": {
    "name": "ipython",
    "version": 3
   },
   "file_extension": ".py",
   "mimetype": "text/x-python",
   "name": "python",
   "nbconvert_exporter": "python",
   "pygments_lexer": "ipython3",
   "version": "3.9.12"
  }
 },
 "nbformat": 4,
 "nbformat_minor": 4
}
