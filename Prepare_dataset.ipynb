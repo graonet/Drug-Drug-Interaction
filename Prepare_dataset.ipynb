{
 "cells": [
  {
   "cell_type": "code",
   "execution_count": 1,
   "id": "858e22bc",
   "metadata": {},
   "outputs": [
    {
     "name": "stderr",
     "output_type": "stream",
     "text": [
      "Found local copy...\n",
      "Loading...\n",
      "Done!\n"
     ]
    }
   ],
   "source": [
    "#!pip install PyTDC\n",
    "import numpy as np\n",
    "from tdc.multi_pred import DDI\n",
    "data = DDI(name = 'DrugBank')\n",
    "split = data.get_split()"
   ]
  },
  {
   "cell_type": "code",
   "execution_count": null,
   "id": "92c9d35b",
   "metadata": {},
   "outputs": [],
   "source": [
    "K = split['test']"
   ]
  },
  {
   "cell_type": "code",
   "execution_count": 10,
   "id": "58dc0e2d",
   "metadata": {},
   "outputs": [
    {
     "data": {
      "text/plain": [
       "1"
      ]
     },
     "execution_count": 10,
     "metadata": {},
     "output_type": "execute_result"
    }
   ],
   "source": [
    "np.amin(split['test']['Y'])"
   ]
  },
  {
   "cell_type": "code",
   "execution_count": 2,
   "id": "aaba44ad",
   "metadata": {},
   "outputs": [
    {
     "data": {
      "text/plain": [
       "{1: '#Drug1 may increase the photosensitizing activities of #Drug2.',\n",
       " 2: '#Drug1 may increase the anticholinergic activities of #Drug2.',\n",
       " 3: 'The bioavailability of #Drug2 can be decreased when combined with #Drug1.',\n",
       " 4: 'The metabolism of #Drug2 can be increased when combined with #Drug1.',\n",
       " 5: '#Drug1 may decrease the vasoconstricting activities of #Drug2.',\n",
       " 6: '#Drug1 may increase the anticoagulant activities of #Drug2.',\n",
       " 7: '#Drug1 may increase the ototoxic activities of #Drug2.',\n",
       " 8: 'The therapeutic efficacy of #Drug2 can be increased when used in combination with #Drug1.',\n",
       " 9: '#Drug1 may increase the hypoglycemic activities of #Drug2.',\n",
       " 10: '#Drug1 may increase the antihypertensive activities of #Drug2.',\n",
       " 11: 'The serum concentration of the active metabolites of #Drug2 can be reduced when #Drug2 is used in combination with #Drug1 resulting in a loss in efficacy.',\n",
       " 12: '#Drug1 may decrease the anticoagulant activities of #Drug2.',\n",
       " 13: 'The absorption of #Drug2 can be decreased when combined with #Drug1.',\n",
       " 14: '#Drug1 may decrease the bronchodilatory activities of #Drug2.',\n",
       " 15: '#Drug1 may increase the cardiotoxic activities of #Drug2.',\n",
       " 16: '#Drug1 may increase the central nervous system depressant (CNS depressant) activities of #Drug2.',\n",
       " 17: '#Drug1 may decrease the neuromuscular blocking activities of #Drug2.',\n",
       " 18: '#Drug1 can cause an increase in the absorption of #Drug2 resulting in an increased serum concentration and potentially a worsening of adverse effects.',\n",
       " 19: '#Drug1 may increase the vasoconstricting activities of #Drug2.',\n",
       " 20: '#Drug1 may increase the QTc-prolonging activities of #Drug2.',\n",
       " 21: '#Drug1 may increase the neuromuscular blocking activities of #Drug2.',\n",
       " 22: '#Drug1 may increase the adverse neuromuscular activities of #Drug2.',\n",
       " 23: '#Drug1 may increase the stimulatory activities of #Drug2.',\n",
       " 24: '#Drug1 may increase the hypocalcemic activities of #Drug2.',\n",
       " 25: '#Drug1 may increase the atrioventricular blocking (AV block) activities of #Drug2.',\n",
       " 26: '#Drug1 may decrease the antiplatelet activities of #Drug2.',\n",
       " 27: '#Drug1 may increase the neuroexcitatory activities of #Drug2.',\n",
       " 28: '#Drug1 may increase the dermatologic adverse activities of #Drug2.',\n",
       " 29: '#Drug1 may decrease the diuretic activities of #Drug2.',\n",
       " 30: '#Drug1 may increase the orthostatic hypotensive activities of #Drug2.',\n",
       " 31: 'The risk or severity of hypertension can be increased when #Drug2 is combined with #Drug1.',\n",
       " 32: '#Drug1 may increase the sedative activities of #Drug2.',\n",
       " 33: 'The risk or severity of QTc prolongation can be increased when #Drug1 is combined with #Drug2.',\n",
       " 34: '#Drug1 may increase the immunosuppressive activities of #Drug2.',\n",
       " 35: '#Drug1 may increase the neurotoxic activities of #Drug2.',\n",
       " 36: '#Drug1 may increase the antipsychotic activities of #Drug2.',\n",
       " 37: '#Drug1 may decrease the antihypertensive activities of #Drug2.',\n",
       " 38: '#Drug1 may increase the vasodilatory activities of #Drug2.',\n",
       " 39: '#Drug1 may increase the constipating activities of #Drug2.',\n",
       " 40: '#Drug1 may increase the respiratory depressant activities of #Drug2.',\n",
       " 41: '#Drug1 may increase the hypotensive and central nervous system depressant (CNS depressant) activities of #Drug2.',\n",
       " 42: 'The risk or severity of hyperkalemia can be increased when #Drug1 is combined with #Drug2.',\n",
       " 43: 'The protein binding of #Drug2 can be decreased when combined with #Drug1.',\n",
       " 44: '#Drug1 may increase the central neurotoxic activities of #Drug2.',\n",
       " 45: '#Drug1 may decrease effectiveness of #Drug2 as a diagnostic agent.',\n",
       " 46: '#Drug1 may increase the bronchoconstrictory activities of #Drug2.',\n",
       " 47: 'The metabolism of #Drug2 can be decreased when combined with #Drug1.',\n",
       " 48: '#Drug1 may increase the myopathic rhabdomyolysis activities of #Drug2.',\n",
       " 49: 'The risk or severity of adverse effects can be increased when #Drug1 is combined with #Drug2.',\n",
       " 50: 'The risk or severity of heart failure can be increased when #Drug2 is combined with #Drug1.',\n",
       " 51: '#Drug1 may increase the hypercalcemic activities of #Drug2.',\n",
       " 52: '#Drug1 may decrease the analgesic activities of #Drug2.',\n",
       " 53: '#Drug1 may increase the antiplatelet activities of #Drug2.',\n",
       " 54: '#Drug1 may increase the bradycardic activities of #Drug2.',\n",
       " 55: '#Drug1 may increase the hyponatremic activities of #Drug2.',\n",
       " 56: 'The risk or severity of hypotension can be increased when #Drug1 is combined with #Drug2.',\n",
       " 57: '#Drug1 may increase the nephrotoxic activities of #Drug2.',\n",
       " 58: '#Drug1 may decrease the cardiotoxic activities of #Drug2.',\n",
       " 59: '#Drug1 may increase the ulcerogenic activities of #Drug2.',\n",
       " 60: '#Drug1 may increase the hypotensive activities of #Drug2.',\n",
       " 61: '#Drug1 may decrease the stimulatory activities of #Drug2.',\n",
       " 62: 'The bioavailability of #Drug2 can be increased when combined with #Drug1.',\n",
       " 63: '#Drug1 may increase the myelosuppressive activities of #Drug2.',\n",
       " 64: '#Drug1 may increase the serotonergic activities of #Drug2.',\n",
       " 65: '#Drug1 may increase the excretion rate of #Drug2 which could result in a lower serum level and potentially a reduction in efficacy.',\n",
       " 66: 'The risk or severity of bleeding can be increased when #Drug1 is combined with #Drug2.',\n",
       " 67: '#Drug1 can cause a decrease in the absorption of #Drug2 resulting in a reduced serum concentration and potentially a decrease in efficacy.',\n",
       " 68: '#Drug1 may increase the hyperkalemic activities of #Drug2.',\n",
       " 69: '#Drug1 may increase the analgesic activities of #Drug2.',\n",
       " 70: 'The therapeutic efficacy of #Drug2 can be decreased when used in combination with #Drug1.',\n",
       " 71: '#Drug1 may increase the hypertensive activities of #Drug2.',\n",
       " 72: '#Drug1 may decrease the excretion rate of #Drug2 which could result in a higher serum level.',\n",
       " 73: 'The serum concentration of #Drug2 can be increased when it is combined with #Drug1.',\n",
       " 74: '#Drug1 may increase the fluid retaining activities of #Drug2.',\n",
       " 75: 'The serum concentration of #Drug2 can be decreased when it is combined with #Drug1.',\n",
       " 76: '#Drug1 may decrease the sedative activities of #Drug2.',\n",
       " 77: 'The serum concentration of the active metabolites of #Drug2 can be increased when #Drug2 is used in combination with #Drug1.',\n",
       " 78: '#Drug1 may increase the hyperglycemic activities of #Drug2.',\n",
       " 79: '#Drug1 may increase the central nervous system depressant (CNS depressant) and hypertensive activities of #Drug2.',\n",
       " 80: '#Drug1 may increase the hepatotoxic activities of #Drug2.',\n",
       " 81: '#Drug1 may increase the thrombogenic activities of #Drug2.',\n",
       " 82: '#Drug1 may increase the arrhythmogenic activities of #Drug2.',\n",
       " 83: '#Drug1 may increase the hypokalemic activities of #Drug2.',\n",
       " 84: '#Drug1 may increase the vasopressor activities of #Drug2.',\n",
       " 85: '#Drug1 may increase the tachycardic activities of #Drug2.',\n",
       " 86: 'The risk of a hypersensitivity reaction to #Drug2 is increased when it is combined with #Drug1.'}"
      ]
     },
     "execution_count": 2,
     "metadata": {},
     "output_type": "execute_result"
    }
   ],
   "source": [
    "from tdc.utils import get_label_map\n",
    "get_label_map(name = 'DrugBank', task = 'DDI')"
   ]
  },
  {
   "cell_type": "code",
   "execution_count": 3,
   "id": "b6dba819",
   "metadata": {},
   "outputs": [],
   "source": [
    "#!pip install --pre deepchem\n",
    "import deepchem as dc"
   ]
  },
  {
   "cell_type": "code",
   "execution_count": 4,
   "id": "19f625b8",
   "metadata": {},
   "outputs": [],
   "source": [
    "#featurizer = dc.feat.CoulombMatrix(32)\n",
    "featurizer = dc.feat.CircularFingerprint()\n",
    "#featurizer = dc.feat.MATFeaturizer()"
   ]
  },
  {
   "cell_type": "code",
   "execution_count": null,
   "id": "0428654f",
   "metadata": {},
   "outputs": [],
   "source": [
    "def synergy_switcher(split, partition):\n",
    "  if split[partition]['Y'][item] == 8:\n",
    "    out = 1 # The therapeutic efficacy of #Drug2 can be increased when used in combination with #Drug1.'\n",
    "  elif split[partition]['Y'][item] == 11:\n",
    "    out = 2 #'The serum concentration of the active metabolites of #Drug2 can be reduced when #Drug2 is used in combination with #Drug1 resulting in a loss in efficacy.'\n",
    "  elif split[partition]['Y'][item] == 65:\n",
    "    out = 3 # '#Drug1 may increase the excretion rate of #Drug2 which could result in a lower serum level and potentially a reduction in efficacy.'\n",
    "  elif split[partition]['Y'][item] == 67:\n",
    "    out = 4 # #Drug1 can cause a decrease in the absorption of #Drug2 resulting in a reduced serum concentration and potentially a decrease in efficacy.'\n",
    "  elif split[partition]['Y'][item] == 70:\n",
    "    out = 5 #'The therapeutic efficacy of #Drug2 can be decreased when used in combination with #Drug1.'\n",
    "  else:\n",
    "    out = 0\n",
    "  return out"
   ]
  },
  {
   "cell_type": "code",
   "execution_count": 5,
   "id": "3fbbc931",
   "metadata": {},
   "outputs": [],
   "source": [
    "drug1 = featurizer([split['test']['Drug1'][1]])\n",
    "drug2 = featurizer([split['test']['Drug2'][1]])\n",
    "item = 0\n",
    "if (len(drug1[0])> 0 and len(drug2[0])>0):\n",
    "    x_test = np.transpose(np.array([np.transpose(drug1), np.transpose(drug2)]))\n",
    "    y_test = split['test']['Y'][item]"
   ]
  },
  {
   "cell_type": "code",
   "execution_count": 7,
   "id": "60d1a442",
   "metadata": {},
   "outputs": [
    {
     "data": {
      "text/plain": [
       "False"
      ]
     },
     "execution_count": 7,
     "metadata": {},
     "output_type": "execute_result"
    }
   ],
   "source": [
    "np.isnan(y_test)"
   ]
  },
  {
   "cell_type": "code",
   "execution_count": 22,
   "id": "4721a9f3",
   "metadata": {},
   "outputs": [
    {
     "name": "stdout",
     "output_type": "stream",
     "text": [
      "612\r"
     ]
    },
    {
     "name": "stderr",
     "output_type": "stream",
     "text": [
      "RDKit ERROR: [22:19:51] Explicit valence for atom # 0 N, 4, is greater than permitted\n",
      "Failed to featurize datapoint 0, None. Appending empty array\n",
      "[22:19:51] Explicit valence for atom # 0 N, 4, is greater than permitted\n",
      "Exception message: Python argument types in\n",
      "    rdkit.Chem.rdmolfiles.CanonicalRankAtoms(NoneType)\n",
      "did not match C++ signature:\n",
      "    CanonicalRankAtoms(RDKit::ROMol mol, bool breakTies=True, bool includeChirality=True, bool includeIsotopes=True)\n"
     ]
    },
    {
     "name": "stdout",
     "output_type": "stream",
     "text": [
      "914\r"
     ]
    },
    {
     "name": "stderr",
     "output_type": "stream",
     "text": [
      "RDKit ERROR: [22:19:54] Explicit valence for atom # 0 N, 4, is greater than permitted\n",
      "Failed to featurize datapoint 0, None. Appending empty array\n",
      "[22:19:54] Explicit valence for atom # 0 N, 4, is greater than permitted\n",
      "Exception message: Python argument types in\n",
      "    rdkit.Chem.rdmolfiles.CanonicalRankAtoms(NoneType)\n",
      "did not match C++ signature:\n",
      "    CanonicalRankAtoms(RDKit::ROMol mol, bool breakTies=True, bool includeChirality=True, bool includeIsotopes=True)\n"
     ]
    },
    {
     "name": "stdout",
     "output_type": "stream",
     "text": [
      "1303\r"
     ]
    },
    {
     "name": "stderr",
     "output_type": "stream",
     "text": [
      "RDKit ERROR: [22:20:01] Explicit valence for atom # 0 N, 4, is greater than permitted\n",
      "Failed to featurize datapoint 0, None. Appending empty array\n",
      "[22:20:01] Explicit valence for atom # 0 N, 4, is greater than permitted\n",
      "Exception message: Python argument types in\n",
      "    rdkit.Chem.rdmolfiles.CanonicalRankAtoms(NoneType)\n",
      "did not match C++ signature:\n",
      "    CanonicalRankAtoms(RDKit::ROMol mol, bool breakTies=True, bool includeChirality=True, bool includeIsotopes=True)\n"
     ]
    },
    {
     "name": "stdout",
     "output_type": "stream",
     "text": [
      "pack_unload & freeing memory\n",
      "2790\r"
     ]
    },
    {
     "name": "stderr",
     "output_type": "stream",
     "text": [
      "RDKit ERROR: [22:20:28] Explicit valence for atom # 0 N, 4, is greater than permitted\n",
      "Failed to featurize datapoint 0, None. Appending empty array\n",
      "Exception message: Python argument types in\n",
      "    rdkit.Chem.rdmolfiles.CanonicalRankAtoms(NoneType)\n",
      "did not match C++ signature:\n",
      "    CanonicalRankAtoms(RDKit::ROMol mol, bool breakTies=True, bool includeChirality=True, bool includeIsotopes=True)\n"
     ]
    },
    {
     "name": "stdout",
     "output_type": "stream",
     "text": [
      "2791\r",
      "2792\r",
      "2793\r",
      "2794\r",
      "2795\r",
      "2796\r",
      "2797\r",
      "2798\r",
      "2799\r",
      "2800\r",
      "2801\r",
      "2802\r",
      "2802\r",
      "2803\r",
      "2804\r",
      "2805\r",
      "2806\r",
      "2807\r",
      "2808\r",
      "2809\r",
      "2810\r",
      "2811\r",
      "2812\r"
     ]
    },
    {
     "name": "stderr",
     "output_type": "stream",
     "text": [
      "[22:20:28] Explicit valence for atom # 0 N, 4, is greater than permitted\n"
     ]
    },
    {
     "name": "stdout",
     "output_type": "stream",
     "text": [
      "pack_unload & freeing memory\n",
      "pack_unload & freeing memory\n",
      "6745\r"
     ]
    },
    {
     "name": "stderr",
     "output_type": "stream",
     "text": [
      "RDKit ERROR: [22:21:38] Explicit valence for atom # 0 N, 4, is greater than permitted\n",
      "Failed to featurize datapoint 0, None. Appending empty array\n"
     ]
    },
    {
     "name": "stdout",
     "output_type": "stream",
     "text": [
      "6746\r",
      "6747\r",
      "6748\r",
      "6749\r",
      "6750\r",
      "6751\r",
      "6752\r",
      "6753\r",
      "6754\r",
      "6755\r",
      "6756\r",
      "6757\r",
      "6758\r",
      "6759\r",
      "6760\r",
      "6761\r",
      "6762\r",
      "6763\r",
      "6764\r",
      "6765\r",
      "6766\r",
      "6767\r"
     ]
    },
    {
     "name": "stderr",
     "output_type": "stream",
     "text": [
      "[22:21:38] Explicit valence for atom # 0 N, 4, is greater than permitted\n",
      "Exception message: Python argument types in\n",
      "    rdkit.Chem.rdmolfiles.CanonicalRankAtoms(NoneType)\n",
      "did not match C++ signature:\n",
      "    CanonicalRankAtoms(RDKit::ROMol mol, bool breakTies=True, bool includeChirality=True, bool includeIsotopes=True)\n"
     ]
    },
    {
     "name": "stdout",
     "output_type": "stream",
     "text": [
      "7043\r"
     ]
    },
    {
     "name": "stderr",
     "output_type": "stream",
     "text": [
      "RDKit ERROR: [22:21:41] Explicit valence for atom # 0 N, 4, is greater than permitted\n",
      "Failed to featurize datapoint 0, None. Appending empty array\n",
      "[22:21:41] Explicit valence for atom # 0 N, 4, is greater than permitted\n",
      "Exception message: Python argument types in\n",
      "    rdkit.Chem.rdmolfiles.CanonicalRankAtoms(NoneType)\n",
      "did not match C++ signature:\n",
      "    CanonicalRankAtoms(RDKit::ROMol mol, bool breakTies=True, bool includeChirality=True, bool includeIsotopes=True)\n"
     ]
    },
    {
     "name": "stdout",
     "output_type": "stream",
     "text": [
      "pack_unload & freeing memory\n",
      "9442\r"
     ]
    },
    {
     "name": "stderr",
     "output_type": "stream",
     "text": [
      "RDKit ERROR: [22:22:26] Explicit valence for atom # 0 N, 4, is greater than permitted\n",
      "Failed to featurize datapoint 0, None. Appending empty array\n",
      "[22:22:26] Explicit valence for atom # 0 N, 4, is greater than permitted\n",
      "Exception message: Python argument types in\n",
      "    rdkit.Chem.rdmolfiles.CanonicalRankAtoms(NoneType)\n",
      "did not match C++ signature:\n",
      "    CanonicalRankAtoms(RDKit::ROMol mol, bool breakTies=True, bool includeChirality=True, bool includeIsotopes=True)\n"
     ]
    },
    {
     "name": "stdout",
     "output_type": "stream",
     "text": [
      "9879\r"
     ]
    },
    {
     "name": "stderr",
     "output_type": "stream",
     "text": [
      "RDKit ERROR: [22:22:39] Explicit valence for atom # 0 N, 4, is greater than permitted\n",
      "Failed to featurize datapoint 0, None. Appending empty array\n",
      "[22:22:39] Explicit valence for atom # 0 N, 4, is greater than permitted\n",
      "Exception message: Python argument types in\n",
      "    rdkit.Chem.rdmolfiles.CanonicalRankAtoms(NoneType)\n",
      "did not match C++ signature:\n",
      "    CanonicalRankAtoms(RDKit::ROMol mol, bool breakTies=True, bool includeChirality=True, bool includeIsotopes=True)\n"
     ]
    },
    {
     "name": "stdout",
     "output_type": "stream",
     "text": [
      "9994\r"
     ]
    },
    {
     "name": "stderr",
     "output_type": "stream",
     "text": [
      "RDKit ERROR: [22:22:43] Explicit valence for atom # 0 N, 4, is greater than permitted\n",
      "[22:22:43] Explicit valence for atom # 0 N, 4, is greater than permitted\n",
      "Failed to featurize datapoint 0, None. Appending empty array\n",
      "Exception message: Python argument types in\n",
      "    rdkit.Chem.rdmolfiles.CanonicalRankAtoms(NoneType)\n",
      "did not match C++ signature:\n",
      "    CanonicalRankAtoms(RDKit::ROMol mol, bool breakTies=True, bool includeChirality=True, bool includeIsotopes=True)\n"
     ]
    },
    {
     "name": "stdout",
     "output_type": "stream",
     "text": [
      "pack_unload & freeing memory\n",
      "10277\r"
     ]
    },
    {
     "name": "stderr",
     "output_type": "stream",
     "text": [
      "RDKit ERROR: [22:22:45] Explicit valence for atom # 0 N, 4, is greater than permitted\n",
      "Failed to featurize datapoint 0, None. Appending empty array\n",
      "[22:22:45] Explicit valence for atom # 0 N, 4, is greater than permitted\n",
      "Exception message: Python argument types in\n",
      "    rdkit.Chem.rdmolfiles.CanonicalRankAtoms(NoneType)\n",
      "did not match C++ signature:\n",
      "    CanonicalRankAtoms(RDKit::ROMol mol, bool breakTies=True, bool includeChirality=True, bool includeIsotopes=True)\n"
     ]
    },
    {
     "name": "stdout",
     "output_type": "stream",
     "text": [
      "10349\r"
     ]
    },
    {
     "name": "stderr",
     "output_type": "stream",
     "text": [
      "RDKit ERROR: [22:22:45] Explicit valence for atom # 0 N, 4, is greater than permitted\n",
      "Failed to featurize datapoint 0, None. Appending empty array\n",
      "[22:22:45] Explicit valence for atom # 0 N, 4, is greater than permitted\n",
      "Exception message: Python argument types in\n",
      "    rdkit.Chem.rdmolfiles.CanonicalRankAtoms(NoneType)\n",
      "did not match C++ signature:\n",
      "    CanonicalRankAtoms(RDKit::ROMol mol, bool breakTies=True, bool includeChirality=True, bool includeIsotopes=True)\n"
     ]
    },
    {
     "name": "stdout",
     "output_type": "stream",
     "text": [
      "pack_unload & freeing memory\n",
      "12413\r"
     ]
    },
    {
     "name": "stderr",
     "output_type": "stream",
     "text": [
      "RDKit ERROR: [22:23:21] Explicit valence for atom # 0 N, 4, is greater than permitted\n",
      "[22:23:21] Explicit valence for atom # 0 N, 4, is greater than permitted\n",
      "Failed to featurize datapoint 0, None. Appending empty array\n",
      "Exception message: Python argument types in\n",
      "    rdkit.Chem.rdmolfiles.CanonicalRankAtoms(NoneType)\n",
      "did not match C++ signature:\n",
      "    CanonicalRankAtoms(RDKit::ROMol mol, bool breakTies=True, bool includeChirality=True, bool includeIsotopes=True)\n"
     ]
    },
    {
     "name": "stdout",
     "output_type": "stream",
     "text": [
      "12947\r"
     ]
    },
    {
     "name": "stderr",
     "output_type": "stream",
     "text": [
      "RDKit ERROR: [22:23:25] Explicit valence for atom # 0 N, 4, is greater than permitted\n",
      "Failed to featurize datapoint 0, None. Appending empty array\n",
      "[22:23:25] Explicit valence for atom # 0 N, 4, is greater than permitted\n",
      "Exception message: Python argument types in\n",
      "    rdkit.Chem.rdmolfiles.CanonicalRankAtoms(NoneType)\n",
      "did not match C++ signature:\n",
      "    CanonicalRankAtoms(RDKit::ROMol mol, bool breakTies=True, bool includeChirality=True, bool includeIsotopes=True)\n"
     ]
    },
    {
     "name": "stdout",
     "output_type": "stream",
     "text": [
      "13683\r"
     ]
    },
    {
     "name": "stderr",
     "output_type": "stream",
     "text": [
      "RDKit ERROR: [22:23:43] Explicit valence for atom # 0 N, 4, is greater than permitted\n",
      "Failed to featurize datapoint 0, None. Appending empty array\n",
      "[22:23:43] Explicit valence for atom # 0 N, 4, is greater than permitted\n",
      "Exception message: Python argument types in\n",
      "    rdkit.Chem.rdmolfiles.CanonicalRankAtoms(NoneType)\n",
      "did not match C++ signature:\n",
      "    CanonicalRankAtoms(RDKit::ROMol mol, bool breakTies=True, bool includeChirality=True, bool includeIsotopes=True)\n"
     ]
    },
    {
     "name": "stdout",
     "output_type": "stream",
     "text": [
      "pack_unload & freeing memory\n",
      "pack_unload & freeing memory\n",
      "pack_unload & freeing memory\n",
      "18227\r"
     ]
    },
    {
     "name": "stderr",
     "output_type": "stream",
     "text": [
      "RDKit ERROR: [22:25:05] Explicit valence for atom # 0 N, 4, is greater than permitted\n",
      "Failed to featurize datapoint 0, None. Appending empty array\n",
      "[22:25:05] Explicit valence for atom # 0 N, 4, is greater than permitted\n",
      "Exception message: Python argument types in\n",
      "    rdkit.Chem.rdmolfiles.CanonicalRankAtoms(NoneType)\n",
      "did not match C++ signature:\n",
      "    CanonicalRankAtoms(RDKit::ROMol mol, bool breakTies=True, bool includeChirality=True, bool includeIsotopes=True)\n"
     ]
    },
    {
     "name": "stdout",
     "output_type": "stream",
     "text": [
      "18228\r",
      "18229\r",
      "18230\r",
      "18231\r",
      "18232\r",
      "18233\r",
      "18234\r",
      "18235\r",
      "18236\r",
      "18237\r",
      "18238\r",
      "18239\r",
      "18240\r",
      "18241\r",
      "18242\r",
      "18243\r",
      "18244\r",
      "18245\r",
      "18246\r",
      "18246\r",
      "18247\r",
      "18248\r",
      "18249\r",
      "18250\r",
      "18251\r",
      "18252\r",
      "18253\r",
      "18254\r",
      "18255\r",
      "18256\r",
      "18257\r",
      "18258\r",
      "18259\r",
      "18260\r",
      "18261\r",
      "18262\r",
      "18263\r",
      "18264\r",
      "18265\r",
      "18266\r",
      "18267\r"
     ]
    },
    {
     "name": "stderr",
     "output_type": "stream",
     "text": [
      "RDKit ERROR: [22:25:05] Explicit valence for atom # 0 N, 4, is greater than permitted\n",
      "Failed to featurize datapoint 0, None. Appending empty array\n",
      "[22:25:05] Explicit valence for atom # 0 N, 4, is greater than permitted\n",
      "Exception message: Python argument types in\n",
      "    rdkit.Chem.rdmolfiles.CanonicalRankAtoms(NoneType)\n",
      "did not match C++ signature:\n",
      "    CanonicalRankAtoms(RDKit::ROMol mol, bool breakTies=True, bool includeChirality=True, bool includeIsotopes=True)\n"
     ]
    },
    {
     "name": "stdout",
     "output_type": "stream",
     "text": [
      "19091\r"
     ]
    },
    {
     "name": "stderr",
     "output_type": "stream",
     "text": [
      "RDKit ERROR: [22:25:13] Explicit valence for atom # 0 N, 4, is greater than permitted\n",
      "Failed to featurize datapoint 0, None. Appending empty array\n",
      "Exception message: Python argument types in\n",
      "    rdkit.Chem.rdmolfiles.CanonicalRankAtoms(NoneType)\n",
      "did not match C++ signature:\n",
      "    CanonicalRankAtoms(RDKit::ROMol mol, bool breakTies=True, bool includeChirality=True, bool includeIsotopes=True)\n"
     ]
    },
    {
     "name": "stdout",
     "output_type": "stream",
     "text": [
      "19092\r",
      "19093\r",
      "19094\r",
      "19095\r",
      "19096\r",
      "19096\r",
      "19097\r",
      "19098\r",
      "19099\r",
      "19100\r",
      "19101\r",
      "19102\r"
     ]
    },
    {
     "name": "stderr",
     "output_type": "stream",
     "text": [
      "[22:25:13] Explicit valence for atom # 0 N, 4, is greater than permitted\n"
     ]
    },
    {
     "name": "stdout",
     "output_type": "stream",
     "text": [
      "19152\r"
     ]
    },
    {
     "name": "stderr",
     "output_type": "stream",
     "text": [
      "RDKit ERROR: [22:25:14] Explicit valence for atom # 0 N, 4, is greater than permitted\n",
      "Failed to featurize datapoint 0, None. Appending empty array\n",
      "[22:25:14] Explicit valence for atom # 0 N, 4, is greater than permitted\n",
      "Exception message: Python argument types in\n",
      "    rdkit.Chem.rdmolfiles.CanonicalRankAtoms(NoneType)\n",
      "did not match C++ signature:\n",
      "    CanonicalRankAtoms(RDKit::ROMol mol, bool breakTies=True, bool includeChirality=True, bool includeIsotopes=True)\n"
     ]
    },
    {
     "name": "stdout",
     "output_type": "stream",
     "text": [
      "pack_unload & freeing memory\n",
      "20830\r"
     ]
    },
    {
     "name": "stderr",
     "output_type": "stream",
     "text": [
      "RDKit ERROR: [22:25:45] Explicit valence for atom # 0 N, 4, is greater than permitted\n",
      "[22:25:45] Explicit valence for atom # 0 N, 4, is greater than permitted\n",
      "Failed to featurize datapoint 0, None. Appending empty array\n",
      "Exception message: Python argument types in\n",
      "    rdkit.Chem.rdmolfiles.CanonicalRankAtoms(NoneType)\n",
      "did not match C++ signature:\n",
      "    CanonicalRankAtoms(RDKit::ROMol mol, bool breakTies=True, bool includeChirality=True, bool includeIsotopes=True)\n"
     ]
    },
    {
     "name": "stdout",
     "output_type": "stream",
     "text": [
      "pack_unload & freeing memory\n",
      "22767\r"
     ]
    },
    {
     "name": "stderr",
     "output_type": "stream",
     "text": [
      "RDKit ERROR: [22:26:19] Explicit valence for atom # 0 N, 4, is greater than permitted\n",
      "[22:26:19] Explicit valence for atom # 0 N, 4, is greater than permitted\n",
      "Failed to featurize datapoint 0, None. Appending empty array\n",
      "Exception message: Python argument types in\n",
      "    rdkit.Chem.rdmolfiles.CanonicalRankAtoms(NoneType)\n",
      "did not match C++ signature:\n",
      "    CanonicalRankAtoms(RDKit::ROMol mol, bool breakTies=True, bool includeChirality=True, bool includeIsotopes=True)\n"
     ]
    },
    {
     "name": "stdout",
     "output_type": "stream",
     "text": [
      "23065\r"
     ]
    },
    {
     "name": "stderr",
     "output_type": "stream",
     "text": [
      "RDKit ERROR: [22:26:23] Explicit valence for atom # 0 N, 4, is greater than permitted\n",
      "Failed to featurize datapoint 0, None. Appending empty array\n",
      "[22:26:23] Explicit valence for atom # 0 N, 4, is greater than permitted\n",
      "Exception message: Python argument types in\n",
      "    rdkit.Chem.rdmolfiles.CanonicalRankAtoms(NoneType)\n",
      "did not match C++ signature:\n",
      "    CanonicalRankAtoms(RDKit::ROMol mol, bool breakTies=True, bool includeChirality=True, bool includeIsotopes=True)\n"
     ]
    },
    {
     "name": "stdout",
     "output_type": "stream",
     "text": [
      "23285\r"
     ]
    },
    {
     "name": "stderr",
     "output_type": "stream",
     "text": [
      "RDKit ERROR: [22:26:28] Explicit valence for atom # 0 N, 4, is greater than permitted\n",
      "Failed to featurize datapoint 0, None. Appending empty array\n",
      "Exception message: Python argument types in\n",
      "    rdkit.Chem.rdmolfiles.CanonicalRankAtoms(NoneType)\n",
      "did not match C++ signature:\n",
      "    CanonicalRankAtoms(RDKit::ROMol mol, bool breakTies=True, bool includeChirality=True, bool includeIsotopes=True)\n"
     ]
    },
    {
     "name": "stdout",
     "output_type": "stream",
     "text": [
      "23286\r",
      "23287\r",
      "23288\r",
      "23288\r",
      "23289\r",
      "23290\r",
      "23291\r",
      "23292\r",
      "23293\r",
      "23294\r",
      "23295\r"
     ]
    },
    {
     "name": "stderr",
     "output_type": "stream",
     "text": [
      "[22:26:28] Explicit valence for atom # 0 N, 4, is greater than permitted\n"
     ]
    },
    {
     "name": "stdout",
     "output_type": "stream",
     "text": [
      "23589\r"
     ]
    },
    {
     "name": "stderr",
     "output_type": "stream",
     "text": [
      "RDKit ERROR: [22:26:36] Explicit valence for atom # 0 N, 4, is greater than permitted\n",
      "Failed to featurize datapoint 0, None. Appending empty array\n",
      "[22:26:36] Explicit valence for atom # 0 N, 4, is greater than permitted\n",
      "Exception message: Python argument types in\n",
      "    rdkit.Chem.rdmolfiles.CanonicalRankAtoms(NoneType)\n",
      "did not match C++ signature:\n",
      "    CanonicalRankAtoms(RDKit::ROMol mol, bool breakTies=True, bool includeChirality=True, bool includeIsotopes=True)\n"
     ]
    },
    {
     "name": "stdout",
     "output_type": "stream",
     "text": [
      "pack_unload & freeing memory\n",
      "24006\r"
     ]
    },
    {
     "name": "stderr",
     "output_type": "stream",
     "text": [
      "RDKit ERROR: [22:26:49] Explicit valence for atom # 0 N, 4, is greater than permitted\n",
      "Failed to featurize datapoint 0, None. Appending empty array\n",
      "[22:26:49] Explicit valence for atom # 0 N, 4, is greater than permitted\n",
      "Exception message: Python argument types in\n",
      "    rdkit.Chem.rdmolfiles.CanonicalRankAtoms(NoneType)\n",
      "did not match C++ signature:\n",
      "    CanonicalRankAtoms(RDKit::ROMol mol, bool breakTies=True, bool includeChirality=True, bool includeIsotopes=True)\n"
     ]
    },
    {
     "name": "stdout",
     "output_type": "stream",
     "text": [
      "pack_unload & freeing memory\n",
      "26226\r"
     ]
    },
    {
     "name": "stderr",
     "output_type": "stream",
     "text": [
      "RDKit ERROR: [22:27:26] Explicit valence for atom # 0 N, 4, is greater than permitted\n",
      "[22:27:26] Explicit valence for atom # 0 N, 4, is greater than permitted\n",
      "Failed to featurize datapoint 0, None. Appending empty array\n",
      "Exception message: Python argument types in\n",
      "    rdkit.Chem.rdmolfiles.CanonicalRankAtoms(NoneType)\n",
      "did not match C++ signature:\n",
      "    CanonicalRankAtoms(RDKit::ROMol mol, bool breakTies=True, bool includeChirality=True, bool includeIsotopes=True)\n"
     ]
    },
    {
     "name": "stdout",
     "output_type": "stream",
     "text": [
      "27778\r"
     ]
    },
    {
     "name": "stderr",
     "output_type": "stream",
     "text": [
      "RDKit ERROR: [22:27:52] Explicit valence for atom # 0 N, 4, is greater than permitted\n",
      "Failed to featurize datapoint 0, None. Appending empty array\n",
      "[22:27:52] Explicit valence for atom # 0 N, 4, is greater than permitted\n",
      "Exception message: Python argument types in\n",
      "    rdkit.Chem.rdmolfiles.CanonicalRankAtoms(NoneType)\n",
      "did not match C++ signature:\n",
      "    CanonicalRankAtoms(RDKit::ROMol mol, bool breakTies=True, bool includeChirality=True, bool includeIsotopes=True)\n"
     ]
    },
    {
     "name": "stdout",
     "output_type": "stream",
     "text": [
      "pack_unload & freeing memory\n",
      "28070\r"
     ]
    },
    {
     "name": "stderr",
     "output_type": "stream",
     "text": [
      "RDKit ERROR: [22:28:00] Explicit valence for atom # 0 N, 4, is greater than permitted\n",
      "Failed to featurize datapoint 0, None. Appending empty array\n",
      "[22:28:00] Explicit valence for atom # 0 N, 4, is greater than permitted\n",
      "Exception message: Python argument types in\n",
      "    rdkit.Chem.rdmolfiles.CanonicalRankAtoms(NoneType)\n",
      "did not match C++ signature:\n",
      "    CanonicalRankAtoms(RDKit::ROMol mol, bool breakTies=True, bool includeChirality=True, bool includeIsotopes=True)\n"
     ]
    },
    {
     "name": "stdout",
     "output_type": "stream",
     "text": [
      "pack_unload & freeing memory\n",
      "31889\r"
     ]
    },
    {
     "name": "stderr",
     "output_type": "stream",
     "text": [
      "RDKit ERROR: [22:29:06] Explicit valence for atom # 0 N, 4, is greater than permitted\n",
      "[22:29:06] Explicit valence for atom # 0 N, 4, is greater than permitted\n",
      "Failed to featurize datapoint 0, None. Appending empty array\n",
      "Exception message: Python argument types in\n",
      "    rdkit.Chem.rdmolfiles.CanonicalRankAtoms(NoneType)\n",
      "did not match C++ signature:\n",
      "    CanonicalRankAtoms(RDKit::ROMol mol, bool breakTies=True, bool includeChirality=True, bool includeIsotopes=True)\n"
     ]
    },
    {
     "name": "stdout",
     "output_type": "stream",
     "text": [
      "pack_unload & freeing memory\n",
      "32001\r"
     ]
    },
    {
     "name": "stderr",
     "output_type": "stream",
     "text": [
      "RDKit ERROR: [22:29:10] Explicit valence for atom # 0 N, 4, is greater than permitted\n",
      "[22:29:10] Explicit valence for atom # 0 N, 4, is greater than permitted\n",
      "Failed to featurize datapoint 0, None. Appending empty array\n",
      "Exception message: Python argument types in\n",
      "    rdkit.Chem.rdmolfiles.CanonicalRankAtoms(NoneType)\n",
      "did not match C++ signature:\n",
      "    CanonicalRankAtoms(RDKit::ROMol mol, bool breakTies=True, bool includeChirality=True, bool includeIsotopes=True)\n"
     ]
    },
    {
     "name": "stdout",
     "output_type": "stream",
     "text": [
      "32157\r"
     ]
    },
    {
     "name": "stderr",
     "output_type": "stream",
     "text": [
      "RDKit ERROR: [22:29:11] Explicit valence for atom # 0 N, 4, is greater than permitted\n",
      "Failed to featurize datapoint 0, None. Appending empty array\n",
      "Exception message: Python argument types in\n",
      "    rdkit.Chem.rdmolfiles.CanonicalRankAtoms(NoneType)\n",
      "did not match C++ signature:\n",
      "    CanonicalRankAtoms(RDKit::ROMol mol, bool breakTies=True, bool includeChirality=True, bool includeIsotopes=True)\n"
     ]
    },
    {
     "name": "stdout",
     "output_type": "stream",
     "text": [
      "32158\r",
      "32159\r",
      "32160\r",
      "32161\r",
      "32162\r",
      "32163\r",
      "32164\r",
      "32165\r",
      "32166\r",
      "32167\r",
      "32168\r",
      "32169\r",
      "32170\r",
      "32171\r",
      "32172\r",
      "32173\r",
      "32174\r",
      "32175\r",
      "32176\r",
      "32177\r",
      "32178\r",
      "32179\r",
      "32179\r",
      "32180\r",
      "32181\r",
      "32182\r",
      "32183\r",
      "32184\r",
      "32185\r",
      "32186\r",
      "32187\r",
      "32188\r",
      "32189\r",
      "32190\r",
      "32191\r",
      "32192\r",
      "32193\r",
      "32194\r",
      "32195\r",
      "32196\r",
      "32197\r",
      "32198\r",
      "32199\r",
      "32200\r",
      "32201\r",
      "32202\r"
     ]
    },
    {
     "name": "stderr",
     "output_type": "stream",
     "text": [
      "[22:29:11] Explicit valence for atom # 0 N, 4, is greater than permitted\n"
     ]
    },
    {
     "name": "stdout",
     "output_type": "stream",
     "text": [
      "33237\r"
     ]
    },
    {
     "name": "stderr",
     "output_type": "stream",
     "text": [
      "RDKit ERROR: [22:29:24] Explicit valence for atom # 0 N, 4, is greater than permitted\n",
      "Failed to featurize datapoint 0, None. Appending empty array\n",
      "[22:29:24] Explicit valence for atom # 0 N, 4, is greater than permitted\n",
      "Exception message: Python argument types in\n",
      "    rdkit.Chem.rdmolfiles.CanonicalRankAtoms(NoneType)\n",
      "did not match C++ signature:\n",
      "    CanonicalRankAtoms(RDKit::ROMol mol, bool breakTies=True, bool includeChirality=True, bool includeIsotopes=True)\n"
     ]
    },
    {
     "name": "stdout",
     "output_type": "stream",
     "text": [
      "pack_unload & freeing memory\n"
     ]
    },
    {
     "name": "stderr",
     "output_type": "stream",
     "text": [
      "RDKit ERROR: [22:29:58] Explicit valence for atom # 0 N, 4, is greater than permitted\n",
      "Failed to featurize datapoint 0, None. Appending empty array\n",
      "Exception message: Python argument types in\n",
      "    rdkit.Chem.rdmolfiles.CanonicalRankAtoms(NoneType)\n",
      "did not match C++ signature:\n",
      "    CanonicalRankAtoms(RDKit::ROMol mol, bool breakTies=True, bool includeChirality=True, bool includeIsotopes=True)\n"
     ]
    },
    {
     "name": "stdout",
     "output_type": "stream",
     "text": [
      "34001\r",
      "34002\r",
      "34003\r",
      "34004\r",
      "34005\r",
      "34006\r",
      "34007\r",
      "34008\r",
      "34009\r",
      "34010\r",
      "34011\r",
      "34012\r",
      "34013\r",
      "34014\r",
      "34015\r",
      "34016\r",
      "34017\r",
      "34018\r",
      "34019\r",
      "34020\r",
      "34021\r",
      "34022\r",
      "34023\r",
      "34024\r",
      "34025\r",
      "34026\r",
      "34027\r",
      "34028\r",
      "34029\r",
      "34030\r",
      "34031\r",
      "34032\r",
      "34033\r",
      "34034\r",
      "34035\r",
      "34035\r",
      "34036\r",
      "34037\r",
      "34038\r",
      "34039\r",
      "34040\r",
      "34041\r",
      "34042\r",
      "34043\r",
      "34044\r",
      "34045\r",
      "34046\r",
      "34047\r",
      "34048\r",
      "34049\r",
      "34050\r",
      "34051\r",
      "34052\r",
      "34053\r",
      "34054\r",
      "34055\r",
      "34056\r",
      "34057\r"
     ]
    },
    {
     "name": "stderr",
     "output_type": "stream",
     "text": [
      "[22:29:58] Explicit valence for atom # 0 N, 4, is greater than permitted\n"
     ]
    },
    {
     "name": "stdout",
     "output_type": "stream",
     "text": [
      "pack_unload & freeing memory\n",
      "36976\r"
     ]
    },
    {
     "name": "stderr",
     "output_type": "stream",
     "text": [
      "RDKit ERROR: [22:30:40] Explicit valence for atom # 0 N, 4, is greater than permitted\n",
      "Failed to featurize datapoint 0, None. Appending empty array\n",
      "[22:30:40] Explicit valence for atom # 0 N, 4, is greater than permitted\n",
      "Exception message: Python argument types in\n",
      "    rdkit.Chem.rdmolfiles.CanonicalRankAtoms(NoneType)\n",
      "did not match C++ signature:\n",
      "    CanonicalRankAtoms(RDKit::ROMol mol, bool breakTies=True, bool includeChirality=True, bool includeIsotopes=True)\n"
     ]
    },
    {
     "name": "stdout",
     "output_type": "stream",
     "text": [
      "pack_unload & freeing memory\n",
      "38361\r"
     ]
    }
   ],
   "source": [
    "import pickle as pkl\n",
    "f1=open('x_test_big.pkl', 'wb')\n",
    "f2=open('y_test_big.pkl', 'wb')\n",
    "\n",
    "drug1 = featurizer([split['test']['Drug1'][1]])\n",
    "drug2 = featurizer([split['test']['Drug2'][1]])\n",
    "item = 0\n",
    "if (len(drug1[0])> 0 and len(drug2[0])>0):\n",
    "    x_test = np.transpose(np.array([np.transpose(drug1), np.transpose(drug2)])) \n",
    "    x_test = x_test.reshape(1,64,64,1)\n",
    "#    x_test = np.transpose(np.array([np.transpose(drug1), np.transpose(drug2)]) \n",
    "    #y_test = synergy_switcher(split['test']['Y'][item], 'test')\n",
    "    y_test = split['test']['Y'][item]\n",
    "control = 1\n",
    "\n",
    "for item in range(1,38362):\n",
    "  print(item, end=\"\\r\")\n",
    "  #len(split['train']['Drug1']\n",
    "  drug1 = featurizer([split['test']['Drug1'][item]])\n",
    "  drug2 = featurizer([split['test']['Drug2'][item]])\n",
    "  if (len(drug1[0])>0 and len(drug2[0])>0 and np.isnan(split['test']['Y'][item]) == False):\n",
    "    #print(item)\n",
    "    x = np.transpose(np.array([np.transpose(drug1), np.transpose(drug2)]))\n",
    "    x = x.reshape(1,64,64,1)\n",
    "    x_test = np.append(x_test, x, axis = 0)\n",
    "    #y_test = np.append(y_test, synergy_switcher(split['test']['Y'][item], 'test'))\n",
    "    y_test = np.append(y_test, split['test']['Y'][item])\n",
    "  else:\n",
    "    print(item, end=\"\\r\")\n",
    "\n",
    "  if item == control * 2000:\n",
    "    print('pack_unload & freeing memory')\n",
    "    control = control + 1\n",
    "    pkl.dump(x_test, f1)\n",
    "    pkl.dump(y_test, f2)\n",
    "    drug1 = featurizer([split['test']['Drug1'][item]])\n",
    "    drug2 = featurizer([split['test']['Drug2'][item]])\n",
    "    if (len(drug1[0])> 0 and len(drug2[0])>0 and  np.isnan(split['test']['Y'][item]) == False):\n",
    "        x_test = np.transpose(np.array([np.transpose(drug1), np.transpose(drug2)])) \n",
    "        x_test = x_test.reshape(1,64,64,1)\n",
    "        y_test = split['test']['Y'][item]\n",
    " \n",
    "f1.close()\n",
    "f2.close()"
   ]
  },
  {
   "cell_type": "code",
   "execution_count": 20,
   "id": "7e4f659f",
   "metadata": {},
   "outputs": [
    {
     "data": {
      "text/plain": [
       "85.0"
      ]
     },
     "execution_count": 20,
     "metadata": {},
     "output_type": "execute_result"
    }
   ],
   "source": [
    "f1.close()\n",
    "f2.close()\n",
    "np.amax(y_test)"
   ]
  },
  {
   "cell_type": "code",
   "execution_count": 29,
   "id": "041feda7",
   "metadata": {},
   "outputs": [
    {
     "name": "stdout",
     "output_type": "stream",
     "text": [
      "pack_unload & freeing memory\n",
      "pack_unload & freeing memory\n",
      "pack_unload & freeing memory\n",
      "6527\r"
     ]
    },
    {
     "name": "stderr",
     "output_type": "stream",
     "text": [
      "RDKit ERROR: [22:35:02] Explicit valence for atom # 0 N, 4, is greater than permitted\n",
      "Failed to featurize datapoint 0, None. Appending empty array\n",
      "[22:35:02] Explicit valence for atom # 0 N, 4, is greater than permitted\n",
      "Exception message: Python argument types in\n",
      "    rdkit.Chem.rdmolfiles.CanonicalRankAtoms(NoneType)\n",
      "did not match C++ signature:\n",
      "    CanonicalRankAtoms(RDKit::ROMol mol, bool breakTies=True, bool includeChirality=True, bool includeIsotopes=True)\n",
      "RDKit ERROR: [22:35:02] Explicit valence for atom # 0 N, 4, is greater than permitted\n",
      "[22:35:02] Explicit valence for atom # 0 N, 4, is greater than permitted\n",
      "Failed to featurize datapoint 0, None. Appending empty array\n",
      "Exception message: Python argument types in\n",
      "    rdkit.Chem.rdmolfiles.CanonicalRankAtoms(NoneType)\n",
      "did not match C++ signature:\n",
      "    CanonicalRankAtoms(RDKit::ROMol mol, bool breakTies=True, bool includeChirality=True, bool includeIsotopes=True)\n",
      "RDKit ERROR: [22:35:02] Explicit valence for atom # 0 N, 4, is greater than permitted\n",
      "Failed to featurize datapoint 0, None. Appending empty array\n",
      "Exception message: Python argument types in\n",
      "    rdkit.Chem.rdmolfiles.CanonicalRankAtoms(NoneType)\n",
      "did not match C++ signature:\n",
      "    CanonicalRankAtoms(RDKit::ROMol mol, bool breakTies=True, bool includeChirality=True, bool includeIsotopes=True)\n",
      "[22:35:02] Explicit valence for atom # 0 N, 4, is greater than permitted\n",
      "RDKit ERROR: [22:35:02] Explicit valence for atom # 0 N, 4, is greater than permitted\n",
      "Failed to featurize datapoint 0, None. Appending empty array\n",
      "Exception message: Python argument types in\n",
      "    rdkit.Chem.rdmolfiles.CanonicalRankAtoms(NoneType)\n",
      "did not match C++ signature:\n",
      "    CanonicalRankAtoms(RDKit::ROMol mol, bool breakTies=True, bool includeChirality=True, bool includeIsotopes=True)\n",
      "[22:35:02] Explicit valence for atom # 0 N, 4, is greater than permitted\n",
      "RDKit ERROR: [22:35:02] Explicit valence for atom # 0 N, 4, is greater than permitted\n",
      "Failed to featurize datapoint 0, None. Appending empty array\n",
      "Exception message: Python argument types in\n",
      "    rdkit.Chem.rdmolfiles.CanonicalRankAtoms(NoneType)\n",
      "did not match C++ signature:\n",
      "    CanonicalRankAtoms(RDKit::ROMol mol, bool breakTies=True, bool includeChirality=True, bool includeIsotopes=True)\n",
      "[22:35:02] Explicit valence for atom # 0 N, 4, is greater than permitted\n",
      "RDKit ERROR: [22:35:02] Explicit valence for atom # 0 N, 4, is greater than permitted\n",
      "Failed to featurize datapoint 0, None. Appending empty array\n",
      "[22:35:02] Explicit valence for atom # 0 N, 4, is greater than permitted\n",
      "Exception message: Python argument types in\n",
      "    rdkit.Chem.rdmolfiles.CanonicalRankAtoms(NoneType)\n",
      "did not match C++ signature:\n",
      "    CanonicalRankAtoms(RDKit::ROMol mol, bool breakTies=True, bool includeChirality=True, bool includeIsotopes=True)\n",
      "RDKit ERROR: [22:35:02] Explicit valence for atom # 0 N, 4, is greater than permitted\n",
      "[22:35:02] Explicit valence for atom # 0 N, 4, is greater than permitted\n",
      "Failed to featurize datapoint 0, None. Appending empty array\n",
      "Exception message: Python argument types in\n",
      "    rdkit.Chem.rdmolfiles.CanonicalRankAtoms(NoneType)\n",
      "did not match C++ signature:\n",
      "    CanonicalRankAtoms(RDKit::ROMol mol, bool breakTies=True, bool includeChirality=True, bool includeIsotopes=True)\n",
      "RDKit ERROR: [22:35:02] Explicit valence for atom # 0 N, 4, is greater than permitted\n",
      "Failed to featurize datapoint 0, None. Appending empty array\n",
      "[22:35:02] Explicit valence for atom # 0 N, 4, is greater than permitted\n",
      "Exception message: Python argument types in\n",
      "    rdkit.Chem.rdmolfiles.CanonicalRankAtoms(NoneType)\n",
      "did not match C++ signature:\n",
      "    CanonicalRankAtoms(RDKit::ROMol mol, bool breakTies=True, bool includeChirality=True, bool includeIsotopes=True)\n",
      "RDKit ERROR: [22:35:02] Explicit valence for atom # 0 N, 4, is greater than permitted\n",
      "Failed to featurize datapoint 0, None. Appending empty array\n",
      "[22:35:02] Explicit valence for atom # 0 N, 4, is greater than permitted\n",
      "Exception message: Python argument types in\n",
      "    rdkit.Chem.rdmolfiles.CanonicalRankAtoms(NoneType)\n",
      "did not match C++ signature:\n",
      "    CanonicalRankAtoms(RDKit::ROMol mol, bool breakTies=True, bool includeChirality=True, bool includeIsotopes=True)\n",
      "RDKit ERROR: [22:35:02] Explicit valence for atom # 0 N, 4, is greater than permitted\n",
      "Failed to featurize datapoint 0, None. Appending empty array\n",
      "[22:35:02] Explicit valence for atom # 0 N, 4, is greater than permitted\n",
      "Exception message: Python argument types in\n",
      "    rdkit.Chem.rdmolfiles.CanonicalRankAtoms(NoneType)\n",
      "did not match C++ signature:\n",
      "    CanonicalRankAtoms(RDKit::ROMol mol, bool breakTies=True, bool includeChirality=True, bool includeIsotopes=True)\n",
      "RDKit ERROR: [22:35:02] Explicit valence for atom # 0 N, 4, is greater than permitted\n",
      "Failed to featurize datapoint 0, None. Appending empty array\n",
      "[22:35:02] Explicit valence for atom # 0 N, 4, is greater than permitted\n",
      "Exception message: Python argument types in\n",
      "    rdkit.Chem.rdmolfiles.CanonicalRankAtoms(NoneType)\n",
      "did not match C++ signature:\n",
      "    CanonicalRankAtoms(RDKit::ROMol mol, bool breakTies=True, bool includeChirality=True, bool includeIsotopes=True)\n",
      "RDKit ERROR: [22:35:02] Explicit valence for atom # 0 N, 4, is greater than permitted\n",
      "[22:35:02] Explicit valence for atom # 0 N, 4, is greater than permitted\n",
      "Failed to featurize datapoint 0, None. Appending empty array\n"
     ]
    },
    {
     "name": "stdout",
     "output_type": "stream",
     "text": [
      "6528\r",
      "6528\r",
      "6529\r",
      "6529\r",
      "6530\r",
      "6530\r",
      "6531\r",
      "6531\r",
      "6532\r",
      "6532\r",
      "6533\r",
      "6533\r",
      "6534\r",
      "6534\r",
      "6535\r",
      "6535\r",
      "6536\r",
      "6536\r",
      "6537\r",
      "6537\r",
      "6538\r",
      "6538\r",
      "6539\r",
      "6539\r",
      "6540\r",
      "6540\r",
      "6541\r",
      "6541\r",
      "6542\r",
      "6542\r",
      "6543\r",
      "6543\r",
      "6544\r",
      "6544\r",
      "6545\r",
      "6545\r",
      "6546\r",
      "6546\r",
      "6547\r",
      "6547\r",
      "6548\r",
      "6548\n",
      "6549\r",
      "6549\n",
      "6550\r",
      "6550\r",
      "6551\r",
      "6551\n",
      "6552\r",
      "6552\n",
      "6553\r",
      "6553\n",
      "6554\r",
      "6554\n",
      "6555\r",
      "6555\n",
      "6556\r",
      "6556\n",
      "6557\r",
      "6557\n",
      "6558\r",
      "6558\n",
      "6559\r",
      "6559\n",
      "6560\r"
     ]
    },
    {
     "name": "stderr",
     "output_type": "stream",
     "text": [
      "Exception message: Python argument types in\n",
      "    rdkit.Chem.rdmolfiles.CanonicalRankAtoms(NoneType)\n",
      "did not match C++ signature:\n",
      "    CanonicalRankAtoms(RDKit::ROMol mol, bool breakTies=True, bool includeChirality=True, bool includeIsotopes=True)\n",
      "RDKit ERROR: [22:35:02] Explicit valence for atom # 0 N, 4, is greater than permitted\n",
      "[22:35:02] Explicit valence for atom # 0 N, 4, is greater than permitted\n",
      "Failed to featurize datapoint 0, None. Appending empty array\n",
      "Exception message: Python argument types in\n",
      "    rdkit.Chem.rdmolfiles.CanonicalRankAtoms(NoneType)\n",
      "did not match C++ signature:\n",
      "    CanonicalRankAtoms(RDKit::ROMol mol, bool breakTies=True, bool includeChirality=True, bool includeIsotopes=True)\n"
     ]
    },
    {
     "name": "stdout",
     "output_type": "stream",
     "text": [
      "6560\n",
      "6561\n",
      "pack_unload & freeing memory\n",
      "9379\r"
     ]
    },
    {
     "name": "stderr",
     "output_type": "stream",
     "text": [
      "RDKit ERROR: [22:35:54] Explicit valence for atom # 0 N, 4, is greater than permitted\n",
      "Failed to featurize datapoint 0, None. Appending empty array\n",
      "[22:35:54] Explicit valence for atom # 0 N, 4, is greater than permitted\n",
      "Exception message: Python argument types in\n",
      "    rdkit.Chem.rdmolfiles.CanonicalRankAtoms(NoneType)\n",
      "did not match C++ signature:\n",
      "    CanonicalRankAtoms(RDKit::ROMol mol, bool breakTies=True, bool includeChirality=True, bool includeIsotopes=True)\n"
     ]
    },
    {
     "name": "stdout",
     "output_type": "stream",
     "text": [
      "9382\n",
      "9421\r"
     ]
    },
    {
     "name": "stderr",
     "output_type": "stream",
     "text": [
      "RDKit ERROR: [22:35:55] Explicit valence for atom # 0 N, 4, is greater than permitted\n",
      "Failed to featurize datapoint 0, None. Appending empty array\n",
      "[22:35:55] Explicit valence for atom # 0 N, 4, is greater than permitted\n",
      "Exception message: Python argument types in\n",
      "    rdkit.Chem.rdmolfiles.CanonicalRankAtoms(NoneType)\n",
      "did not match C++ signature:\n",
      "    CanonicalRankAtoms(RDKit::ROMol mol, bool breakTies=True, bool includeChirality=True, bool includeIsotopes=True)\n"
     ]
    },
    {
     "name": "stdout",
     "output_type": "stream",
     "text": [
      "9422\n",
      "9439\r"
     ]
    },
    {
     "name": "stderr",
     "output_type": "stream",
     "text": [
      "RDKit ERROR: [22:35:56] SMILES Parse Error: syntax error while parsing: OC1=CC=CC(=C1)C-1=C2\\CCC(=N2)\\C(=C2/N\\C(\\C=C2)=C(/C2=N/C(/C=C2)=C(\\C2=CC=C\\-1N2)C1=CC(O)=CC=C1)C1=CC(O)=CC=C1)\\C1=CC(O)=CC=C1\n",
      "RDKit ERROR: [22:35:56] SMILES Parse Error: Failed parsing SMILES 'OC1=CC=CC(=C1)C-1=C2\\CCC(=N2)\\C(=C2/N\\C(\\C=C2)=C(/C2=N/C(/C=C2)=C(\\C2=CC=C\\-1N2)C1=CC(O)=CC=C1)C1=CC(O)=CC=C1)\\C1=CC(O)=CC=C1' for input: 'OC1=CC=CC(=C1)C-1=C2\\CCC(=N2)\\C(=C2/N\\C(\\C=C2)=C(/C2=N/C(/C=C2)=C(\\C2=CC=C\\-1N2)C1=CC(O)=CC=C1)C1=CC(O)=CC=C1)\\C1=CC(O)=CC=C1'\n",
      "Failed to featurize datapoint 0, None. Appending empty array\n",
      "[22:35:56] SMILES Parse Error: syntax error while parsing: OC1=CC=CC(=C1)C-1=C2\\CCC(=N2)\\C(=C2/N\\C(\\C=C2)=C(/C2=N/C(/C=C2)=C(\\C2=CC=C\\-1N2)C1=CC(O)=CC=C1)C1=CC(O)=CC=C1)\\C1=CC(O)=CC=C1\n",
      "Exception message: Python argument types in\n",
      "    rdkit.Chem.rdmolfiles.CanonicalRankAtoms(NoneType)\n",
      "did not match C++ signature:\n",
      "    CanonicalRankAtoms(RDKit::ROMol mol, bool breakTies=True, bool includeChirality=True, bool includeIsotopes=True)\n"
     ]
    },
    {
     "name": "stdout",
     "output_type": "stream",
     "text": [
      "9440\r",
      "9440\n",
      "9441\r",
      "9441\r",
      "9442\r",
      "9442\r",
      "9443\r",
      "9443\r",
      "9444\r",
      "9444\r",
      "9445\r",
      "9445\r"
     ]
    },
    {
     "name": "stderr",
     "output_type": "stream",
     "text": [
      "[22:35:56] SMILES Parse Error: Failed parsing SMILES 'OC1=CC=CC(=C1)C-1=C2\\CCC(=N2)\\C(=C2/N\\C(\\C=C2)=C(/C2=N/C(/C=C2)=C(\\C2=CC=C\\-1N2)C1=CC(O)=CC=C1)C1=CC(O)=CC=C1)\\C1=CC(O)=CC=C1' for input: 'OC1=CC=CC(=C1)C-1=C2\\CCC(=N2)\\C(=C2/N\\C(\\C=C2)=C(/C2=N/C(/C=C2)=C(\\C2=CC=C\\-1N2)C1=CC(O)=CC=C1)C1=CC(O)=CC=C1)\\C1=CC(O)=CC=C1'\n"
     ]
    },
    {
     "name": "stdout",
     "output_type": "stream",
     "text": [
      "9506\r"
     ]
    },
    {
     "name": "stderr",
     "output_type": "stream",
     "text": [
      "RDKit ERROR: [22:35:59] Explicit valence for atom # 0 N, 4, is greater than permitted\n",
      "Failed to featurize datapoint 0, None. Appending empty array\n",
      "[22:35:59] Explicit valence for atom # 0 N, 4, is greater than permitted\n",
      "Exception message: Python argument types in\n",
      "    rdkit.Chem.rdmolfiles.CanonicalRankAtoms(NoneType)\n",
      "did not match C++ signature:\n",
      "    CanonicalRankAtoms(RDKit::ROMol mol, bool breakTies=True, bool includeChirality=True, bool includeIsotopes=True)\n"
     ]
    },
    {
     "name": "stdout",
     "output_type": "stream",
     "text": [
      "9508\n",
      "pack_unload & freeing memory\n",
      "pack_unload & freeing memory\n",
      "pack_unload & freeing memory\n",
      "pack_unload & freeing memory\n",
      "pack_unload & freeing memory\n",
      "pack_unload & freeing memory\n",
      "21079\r"
     ]
    },
    {
     "name": "stderr",
     "output_type": "stream",
     "text": [
      "RDKit ERROR: [22:39:24] Explicit valence for atom # 0 N, 4, is greater than permitted\n",
      "[22:39:24] Explicit valence for atom # 0 N, 4, is greater than permitted\n",
      "Failed to featurize datapoint 0, None. Appending empty array\n",
      "Exception message: Python argument types in\n",
      "    rdkit.Chem.rdmolfiles.CanonicalRankAtoms(NoneType)\n",
      "did not match C++ signature:\n",
      "    CanonicalRankAtoms(RDKit::ROMol mol, bool breakTies=True, bool includeChirality=True, bool includeIsotopes=True)\n"
     ]
    },
    {
     "name": "stdout",
     "output_type": "stream",
     "text": [
      "21085\n",
      "21170\r"
     ]
    },
    {
     "name": "stderr",
     "output_type": "stream",
     "text": [
      "RDKit ERROR: [22:39:26] Explicit valence for atom # 0 N, 4, is greater than permitted\n",
      "Failed to featurize datapoint 0, None. Appending empty array\n",
      "[22:39:26] Explicit valence for atom # 0 N, 4, is greater than permitted\n",
      "Exception message: Python argument types in\n",
      "    rdkit.Chem.rdmolfiles.CanonicalRankAtoms(NoneType)\n",
      "did not match C++ signature:\n",
      "    CanonicalRankAtoms(RDKit::ROMol mol, bool breakTies=True, bool includeChirality=True, bool includeIsotopes=True)\n",
      "RDKit ERROR: [22:39:26] Explicit valence for atom # 0 N, 4, is greater than permitted\n",
      "Failed to featurize datapoint 0, None. Appending empty array\n",
      "[22:39:26] Explicit valence for atom # 0 N, 4, is greater than permitted\n",
      "Exception message: Python argument types in\n",
      "    rdkit.Chem.rdmolfiles.CanonicalRankAtoms(NoneType)\n",
      "did not match C++ signature:\n",
      "    CanonicalRankAtoms(RDKit::ROMol mol, bool breakTies=True, bool includeChirality=True, bool includeIsotopes=True)\n"
     ]
    },
    {
     "name": "stdout",
     "output_type": "stream",
     "text": [
      "21171\n",
      "21176\n",
      "21201\r"
     ]
    },
    {
     "name": "stderr",
     "output_type": "stream",
     "text": [
      "RDKit ERROR: [22:39:27] Explicit valence for atom # 0 N, 4, is greater than permitted\n",
      "Failed to featurize datapoint 0, None. Appending empty array\n",
      "[22:39:27] Explicit valence for atom # 0 N, 4, is greater than permitted\n",
      "Exception message: Python argument types in\n",
      "    rdkit.Chem.rdmolfiles.CanonicalRankAtoms(NoneType)\n",
      "did not match C++ signature:\n",
      "    CanonicalRankAtoms(RDKit::ROMol mol, bool breakTies=True, bool includeChirality=True, bool includeIsotopes=True)\n"
     ]
    },
    {
     "name": "stdout",
     "output_type": "stream",
     "text": [
      "21202\r",
      "21202\r",
      "21203\r",
      "21203\n",
      "21204\r",
      "21204\r",
      "21205\r",
      "21205\r",
      "21206\r",
      "21206\r",
      "21207\r",
      "21207\r",
      "21208\r",
      "21208\r",
      "21209\r",
      "21209\r",
      "21210\r",
      "21210\r",
      "21211\r",
      "21211\r"
     ]
    },
    {
     "name": "stderr",
     "output_type": "stream",
     "text": [
      "RDKit ERROR: [22:39:27] Explicit valence for atom # 0 N, 4, is greater than permitted\n",
      "[22:39:27] Explicit valence for atom # 0 N, 4, is greater than permitted\n",
      "Failed to featurize datapoint 0, None. Appending empty array\n",
      "Exception message: Python argument types in\n",
      "    rdkit.Chem.rdmolfiles.CanonicalRankAtoms(NoneType)\n",
      "did not match C++ signature:\n",
      "    CanonicalRankAtoms(RDKit::ROMol mol, bool breakTies=True, bool includeChirality=True, bool includeIsotopes=True)\n"
     ]
    },
    {
     "name": "stdout",
     "output_type": "stream",
     "text": [
      "21214\n",
      "21277\r"
     ]
    },
    {
     "name": "stderr",
     "output_type": "stream",
     "text": [
      "RDKit ERROR: [22:39:29] Explicit valence for atom # 0 N, 4, is greater than permitted\n",
      "Failed to featurize datapoint 0, None. Appending empty array\n",
      "[22:39:29] Explicit valence for atom # 0 N, 4, is greater than permitted\n",
      "Exception message: Python argument types in\n",
      "    rdkit.Chem.rdmolfiles.CanonicalRankAtoms(NoneType)\n",
      "did not match C++ signature:\n",
      "    CanonicalRankAtoms(RDKit::ROMol mol, bool breakTies=True, bool includeChirality=True, bool includeIsotopes=True)\n"
     ]
    },
    {
     "name": "stdout",
     "output_type": "stream",
     "text": [
      "21280\n",
      "21314\r"
     ]
    },
    {
     "name": "stderr",
     "output_type": "stream",
     "text": [
      "RDKit ERROR: [22:39:30] Explicit valence for atom # 0 N, 4, is greater than permitted\n",
      "Failed to featurize datapoint 0, None. Appending empty array\n",
      "[22:39:30] Explicit valence for atom # 0 N, 4, is greater than permitted\n",
      "Exception message: Python argument types in\n",
      "    rdkit.Chem.rdmolfiles.CanonicalRankAtoms(NoneType)\n",
      "did not match C++ signature:\n",
      "    CanonicalRankAtoms(RDKit::ROMol mol, bool breakTies=True, bool includeChirality=True, bool includeIsotopes=True)\n"
     ]
    },
    {
     "name": "stdout",
     "output_type": "stream",
     "text": [
      "21315\n",
      "21351\r"
     ]
    },
    {
     "name": "stderr",
     "output_type": "stream",
     "text": [
      "RDKit ERROR: [22:39:32] Explicit valence for atom # 0 N, 4, is greater than permitted\n",
      "[22:39:32] Explicit valence for atom # 0 N, 4, is greater than permitted\n",
      "Failed to featurize datapoint 0, None. Appending empty array\n",
      "Exception message: Python argument types in\n",
      "    rdkit.Chem.rdmolfiles.CanonicalRankAtoms(NoneType)\n",
      "did not match C++ signature:\n",
      "    CanonicalRankAtoms(RDKit::ROMol mol, bool breakTies=True, bool includeChirality=True, bool includeIsotopes=True)\n"
     ]
    },
    {
     "name": "stdout",
     "output_type": "stream",
     "text": [
      "21356\n",
      "pack_unload & freeing memory\n",
      "pack_unload & freeing memory\n",
      "pack_unload & freeing memory\n",
      "27279\r"
     ]
    },
    {
     "name": "stderr",
     "output_type": "stream",
     "text": [
      "RDKit ERROR: [22:41:18] Explicit valence for atom # 0 N, 4, is greater than permitted\n",
      "[22:41:18] Explicit valence for atom # 0 N, 4, is greater than permitted\n",
      "Failed to featurize datapoint 0, None. Appending empty array\n",
      "Exception message: Python argument types in\n",
      "    rdkit.Chem.rdmolfiles.CanonicalRankAtoms(NoneType)\n",
      "did not match C++ signature:\n",
      "    CanonicalRankAtoms(RDKit::ROMol mol, bool breakTies=True, bool includeChirality=True, bool includeIsotopes=True)\n"
     ]
    },
    {
     "name": "stdout",
     "output_type": "stream",
     "text": [
      "27284\n",
      "pack_unload & freeing memory\n",
      "29199\r"
     ]
    },
    {
     "name": "stderr",
     "output_type": "stream",
     "text": [
      "RDKit ERROR: [22:41:52] Explicit valence for atom # 0 N, 4, is greater than permitted\n",
      "Failed to featurize datapoint 0, None. Appending empty array\n",
      "Exception message: Python argument types in\n",
      "    rdkit.Chem.rdmolfiles.CanonicalRankAtoms(NoneType)\n",
      "did not match C++ signature:\n",
      "    CanonicalRankAtoms(RDKit::ROMol mol, bool breakTies=True, bool includeChirality=True, bool includeIsotopes=True)\n"
     ]
    },
    {
     "name": "stdout",
     "output_type": "stream",
     "text": [
      "29200\r",
      "29200\n",
      "29201\r",
      "29201\r",
      "29202\r",
      "29202\r",
      "29203\r",
      "29203\r",
      "29204\r",
      "29204\r",
      "29205\r",
      "29205\r",
      "29206\r",
      "29206\r",
      "29207\r",
      "29207\r",
      "29208\r",
      "29208\r",
      "29209\r",
      "29209\r"
     ]
    },
    {
     "name": "stderr",
     "output_type": "stream",
     "text": [
      "[22:41:52] Explicit valence for atom # 0 N, 4, is greater than permitted\n"
     ]
    },
    {
     "name": "stdout",
     "output_type": "stream",
     "text": [
      "pack_unload & freeing memory\n",
      "pack_unload & freeing memory\n",
      "32237\r"
     ]
    },
    {
     "name": "stderr",
     "output_type": "stream",
     "text": [
      "RDKit ERROR: [22:42:52] Explicit valence for atom # 0 N, 4, is greater than permitted\n",
      "Failed to featurize datapoint 0, None. Appending empty array\n",
      "[22:42:52] Explicit valence for atom # 0 N, 4, is greater than permitted\n",
      "Exception message: Python argument types in\n",
      "    rdkit.Chem.rdmolfiles.CanonicalRankAtoms(NoneType)\n",
      "did not match C++ signature:\n",
      "    CanonicalRankAtoms(RDKit::ROMol mol, bool breakTies=True, bool includeChirality=True, bool includeIsotopes=True)\n"
     ]
    },
    {
     "name": "stdout",
     "output_type": "stream",
     "text": [
      "32272\n",
      "33474\r"
     ]
    },
    {
     "name": "stderr",
     "output_type": "stream",
     "text": [
      "RDKit ERROR: [22:43:10] Explicit valence for atom # 0 N, 4, is greater than permitted\n",
      "Failed to featurize datapoint 0, None. Appending empty array\n",
      "[22:43:10] Explicit valence for atom # 0 N, 4, is greater than permitted\n",
      "Exception message: Python argument types in\n",
      "    rdkit.Chem.rdmolfiles.CanonicalRankAtoms(NoneType)\n",
      "did not match C++ signature:\n",
      "    CanonicalRankAtoms(RDKit::ROMol mol, bool breakTies=True, bool includeChirality=True, bool includeIsotopes=True)\n"
     ]
    },
    {
     "name": "stdout",
     "output_type": "stream",
     "text": [
      "33477\n",
      "pack_unload & freeing memory\n",
      "35025\r"
     ]
    },
    {
     "name": "stderr",
     "output_type": "stream",
     "text": [
      "RDKit ERROR: [22:43:34] Explicit valence for atom # 0 N, 4, is greater than permitted\n",
      "Failed to featurize datapoint 0, None. Appending empty array\n",
      "[22:43:34] Explicit valence for atom # 0 N, 4, is greater than permitted\n",
      "Exception message: Python argument types in\n",
      "    rdkit.Chem.rdmolfiles.CanonicalRankAtoms(NoneType)\n",
      "did not match C++ signature:\n",
      "    CanonicalRankAtoms(RDKit::ROMol mol, bool breakTies=True, bool includeChirality=True, bool includeIsotopes=True)\n"
     ]
    },
    {
     "name": "stdout",
     "output_type": "stream",
     "text": [
      "35029\n",
      "pack_unload & freeing memory\n",
      "pack_unload & freeing memory\n",
      "38362\r"
     ]
    },
    {
     "ename": "KeyError",
     "evalue": "38362",
     "output_type": "error",
     "traceback": [
      "\u001b[0;31m---------------------------------------------------------------------------\u001b[0m",
      "\u001b[0;31mValueError\u001b[0m                                Traceback (most recent call last)",
      "\u001b[0;32m~/anaconda3/envs/transformer/lib/python3.9/site-packages/pandas/core/indexes/range.py\u001b[0m in \u001b[0;36mget_loc\u001b[0;34m(self, key, method, tolerance)\u001b[0m\n\u001b[1;32m    384\u001b[0m                 \u001b[0;32mtry\u001b[0m\u001b[0;34m:\u001b[0m\u001b[0;34m\u001b[0m\u001b[0;34m\u001b[0m\u001b[0m\n\u001b[0;32m--> 385\u001b[0;31m                     \u001b[0;32mreturn\u001b[0m \u001b[0mself\u001b[0m\u001b[0;34m.\u001b[0m\u001b[0m_range\u001b[0m\u001b[0;34m.\u001b[0m\u001b[0mindex\u001b[0m\u001b[0;34m(\u001b[0m\u001b[0mnew_key\u001b[0m\u001b[0;34m)\u001b[0m\u001b[0;34m\u001b[0m\u001b[0;34m\u001b[0m\u001b[0m\n\u001b[0m\u001b[1;32m    386\u001b[0m                 \u001b[0;32mexcept\u001b[0m \u001b[0mValueError\u001b[0m \u001b[0;32mas\u001b[0m \u001b[0merr\u001b[0m\u001b[0;34m:\u001b[0m\u001b[0;34m\u001b[0m\u001b[0;34m\u001b[0m\u001b[0m\n",
      "\u001b[0;31mValueError\u001b[0m: 38362 is not in range",
      "\nThe above exception was the direct cause of the following exception:\n",
      "\u001b[0;31mKeyError\u001b[0m                                  Traceback (most recent call last)",
      "\u001b[0;32m/tmp/ipykernel_23673/3801677629.py\u001b[0m in \u001b[0;36m<module>\u001b[0;34m\u001b[0m\n\u001b[1;32m     18\u001b[0m   \u001b[0mdrug1\u001b[0m \u001b[0;34m=\u001b[0m \u001b[0mfeaturizer\u001b[0m\u001b[0;34m(\u001b[0m\u001b[0;34m[\u001b[0m\u001b[0msplit\u001b[0m\u001b[0;34m[\u001b[0m\u001b[0;34m'train'\u001b[0m\u001b[0;34m]\u001b[0m\u001b[0;34m[\u001b[0m\u001b[0;34m'Drug1'\u001b[0m\u001b[0;34m]\u001b[0m\u001b[0;34m[\u001b[0m\u001b[0mitem\u001b[0m\u001b[0;34m]\u001b[0m\u001b[0;34m]\u001b[0m\u001b[0;34m)\u001b[0m\u001b[0;34m\u001b[0m\u001b[0;34m\u001b[0m\u001b[0m\n\u001b[1;32m     19\u001b[0m   \u001b[0mdrug2\u001b[0m \u001b[0;34m=\u001b[0m \u001b[0mfeaturizer\u001b[0m\u001b[0;34m(\u001b[0m\u001b[0;34m[\u001b[0m\u001b[0msplit\u001b[0m\u001b[0;34m[\u001b[0m\u001b[0;34m'train'\u001b[0m\u001b[0;34m]\u001b[0m\u001b[0;34m[\u001b[0m\u001b[0;34m'Drug2'\u001b[0m\u001b[0;34m]\u001b[0m\u001b[0;34m[\u001b[0m\u001b[0mitem\u001b[0m\u001b[0;34m]\u001b[0m\u001b[0;34m]\u001b[0m\u001b[0;34m)\u001b[0m\u001b[0;34m\u001b[0m\u001b[0;34m\u001b[0m\u001b[0m\n\u001b[0;32m---> 20\u001b[0;31m   \u001b[0;32mif\u001b[0m \u001b[0;34m(\u001b[0m\u001b[0mlen\u001b[0m\u001b[0;34m(\u001b[0m\u001b[0mdrug1\u001b[0m\u001b[0;34m[\u001b[0m\u001b[0;36m0\u001b[0m\u001b[0;34m]\u001b[0m\u001b[0;34m)\u001b[0m\u001b[0;34m>\u001b[0m\u001b[0;36m0\u001b[0m \u001b[0;32mand\u001b[0m \u001b[0mlen\u001b[0m\u001b[0;34m(\u001b[0m\u001b[0mdrug2\u001b[0m\u001b[0;34m[\u001b[0m\u001b[0;36m0\u001b[0m\u001b[0;34m]\u001b[0m\u001b[0;34m)\u001b[0m\u001b[0;34m>\u001b[0m\u001b[0;36m0\u001b[0m \u001b[0;32mand\u001b[0m \u001b[0mnp\u001b[0m\u001b[0;34m.\u001b[0m\u001b[0misnan\u001b[0m\u001b[0;34m(\u001b[0m\u001b[0msplit\u001b[0m\u001b[0;34m[\u001b[0m\u001b[0;34m'test'\u001b[0m\u001b[0;34m]\u001b[0m\u001b[0;34m[\u001b[0m\u001b[0;34m'Y'\u001b[0m\u001b[0;34m]\u001b[0m\u001b[0;34m[\u001b[0m\u001b[0mitem\u001b[0m\u001b[0;34m]\u001b[0m\u001b[0;34m)\u001b[0m \u001b[0;34m==\u001b[0m \u001b[0;32mFalse\u001b[0m\u001b[0;34m)\u001b[0m\u001b[0;34m:\u001b[0m\u001b[0;34m\u001b[0m\u001b[0;34m\u001b[0m\u001b[0m\n\u001b[0m\u001b[1;32m     21\u001b[0m     \u001b[0mprint\u001b[0m\u001b[0;34m(\u001b[0m\u001b[0mitem\u001b[0m\u001b[0;34m,\u001b[0m \u001b[0mend\u001b[0m\u001b[0;34m=\u001b[0m\u001b[0;34m\"\\r\"\u001b[0m\u001b[0;34m)\u001b[0m\u001b[0;34m\u001b[0m\u001b[0;34m\u001b[0m\u001b[0m\n\u001b[1;32m     22\u001b[0m     \u001b[0mx\u001b[0m \u001b[0;34m=\u001b[0m \u001b[0mnp\u001b[0m\u001b[0;34m.\u001b[0m\u001b[0mtranspose\u001b[0m\u001b[0;34m(\u001b[0m\u001b[0mnp\u001b[0m\u001b[0;34m.\u001b[0m\u001b[0marray\u001b[0m\u001b[0;34m(\u001b[0m\u001b[0;34m[\u001b[0m\u001b[0mnp\u001b[0m\u001b[0;34m.\u001b[0m\u001b[0mtranspose\u001b[0m\u001b[0;34m(\u001b[0m\u001b[0mdrug1\u001b[0m\u001b[0;34m)\u001b[0m\u001b[0;34m,\u001b[0m \u001b[0mnp\u001b[0m\u001b[0;34m.\u001b[0m\u001b[0mtranspose\u001b[0m\u001b[0;34m(\u001b[0m\u001b[0mdrug2\u001b[0m\u001b[0;34m)\u001b[0m\u001b[0;34m]\u001b[0m\u001b[0;34m)\u001b[0m\u001b[0;34m)\u001b[0m\u001b[0;34m\u001b[0m\u001b[0;34m\u001b[0m\u001b[0m\n",
      "\u001b[0;32m~/anaconda3/envs/transformer/lib/python3.9/site-packages/pandas/core/series.py\u001b[0m in \u001b[0;36m__getitem__\u001b[0;34m(self, key)\u001b[0m\n\u001b[1;32m    957\u001b[0m \u001b[0;34m\u001b[0m\u001b[0m\n\u001b[1;32m    958\u001b[0m         \u001b[0;32melif\u001b[0m \u001b[0mkey_is_scalar\u001b[0m\u001b[0;34m:\u001b[0m\u001b[0;34m\u001b[0m\u001b[0;34m\u001b[0m\u001b[0m\n\u001b[0;32m--> 959\u001b[0;31m             \u001b[0;32mreturn\u001b[0m \u001b[0mself\u001b[0m\u001b[0;34m.\u001b[0m\u001b[0m_get_value\u001b[0m\u001b[0;34m(\u001b[0m\u001b[0mkey\u001b[0m\u001b[0;34m)\u001b[0m\u001b[0;34m\u001b[0m\u001b[0;34m\u001b[0m\u001b[0m\n\u001b[0m\u001b[1;32m    960\u001b[0m \u001b[0;34m\u001b[0m\u001b[0m\n\u001b[1;32m    961\u001b[0m         \u001b[0;32mif\u001b[0m \u001b[0mis_hashable\u001b[0m\u001b[0;34m(\u001b[0m\u001b[0mkey\u001b[0m\u001b[0;34m)\u001b[0m\u001b[0;34m:\u001b[0m\u001b[0;34m\u001b[0m\u001b[0;34m\u001b[0m\u001b[0m\n",
      "\u001b[0;32m~/anaconda3/envs/transformer/lib/python3.9/site-packages/pandas/core/series.py\u001b[0m in \u001b[0;36m_get_value\u001b[0;34m(self, label, takeable)\u001b[0m\n\u001b[1;32m   1068\u001b[0m \u001b[0;34m\u001b[0m\u001b[0m\n\u001b[1;32m   1069\u001b[0m         \u001b[0;31m# Similar to Index.get_value, but we do not fall back to positional\u001b[0m\u001b[0;34m\u001b[0m\u001b[0;34m\u001b[0m\u001b[0m\n\u001b[0;32m-> 1070\u001b[0;31m         \u001b[0mloc\u001b[0m \u001b[0;34m=\u001b[0m \u001b[0mself\u001b[0m\u001b[0;34m.\u001b[0m\u001b[0mindex\u001b[0m\u001b[0;34m.\u001b[0m\u001b[0mget_loc\u001b[0m\u001b[0;34m(\u001b[0m\u001b[0mlabel\u001b[0m\u001b[0;34m)\u001b[0m\u001b[0;34m\u001b[0m\u001b[0;34m\u001b[0m\u001b[0m\n\u001b[0m\u001b[1;32m   1071\u001b[0m         \u001b[0;32mreturn\u001b[0m \u001b[0mself\u001b[0m\u001b[0;34m.\u001b[0m\u001b[0mindex\u001b[0m\u001b[0;34m.\u001b[0m\u001b[0m_get_values_for_loc\u001b[0m\u001b[0;34m(\u001b[0m\u001b[0mself\u001b[0m\u001b[0;34m,\u001b[0m \u001b[0mloc\u001b[0m\u001b[0;34m,\u001b[0m \u001b[0mlabel\u001b[0m\u001b[0;34m)\u001b[0m\u001b[0;34m\u001b[0m\u001b[0;34m\u001b[0m\u001b[0m\n\u001b[1;32m   1072\u001b[0m \u001b[0;34m\u001b[0m\u001b[0m\n",
      "\u001b[0;32m~/anaconda3/envs/transformer/lib/python3.9/site-packages/pandas/core/indexes/range.py\u001b[0m in \u001b[0;36mget_loc\u001b[0;34m(self, key, method, tolerance)\u001b[0m\n\u001b[1;32m    385\u001b[0m                     \u001b[0;32mreturn\u001b[0m \u001b[0mself\u001b[0m\u001b[0;34m.\u001b[0m\u001b[0m_range\u001b[0m\u001b[0;34m.\u001b[0m\u001b[0mindex\u001b[0m\u001b[0;34m(\u001b[0m\u001b[0mnew_key\u001b[0m\u001b[0;34m)\u001b[0m\u001b[0;34m\u001b[0m\u001b[0;34m\u001b[0m\u001b[0m\n\u001b[1;32m    386\u001b[0m                 \u001b[0;32mexcept\u001b[0m \u001b[0mValueError\u001b[0m \u001b[0;32mas\u001b[0m \u001b[0merr\u001b[0m\u001b[0;34m:\u001b[0m\u001b[0;34m\u001b[0m\u001b[0;34m\u001b[0m\u001b[0m\n\u001b[0;32m--> 387\u001b[0;31m                     \u001b[0;32mraise\u001b[0m \u001b[0mKeyError\u001b[0m\u001b[0;34m(\u001b[0m\u001b[0mkey\u001b[0m\u001b[0;34m)\u001b[0m \u001b[0;32mfrom\u001b[0m \u001b[0merr\u001b[0m\u001b[0;34m\u001b[0m\u001b[0;34m\u001b[0m\u001b[0m\n\u001b[0m\u001b[1;32m    388\u001b[0m             \u001b[0mself\u001b[0m\u001b[0;34m.\u001b[0m\u001b[0m_check_indexing_error\u001b[0m\u001b[0;34m(\u001b[0m\u001b[0mkey\u001b[0m\u001b[0;34m)\u001b[0m\u001b[0;34m\u001b[0m\u001b[0;34m\u001b[0m\u001b[0m\n\u001b[1;32m    389\u001b[0m             \u001b[0;32mraise\u001b[0m \u001b[0mKeyError\u001b[0m\u001b[0;34m(\u001b[0m\u001b[0mkey\u001b[0m\u001b[0;34m)\u001b[0m\u001b[0;34m\u001b[0m\u001b[0;34m\u001b[0m\u001b[0m\n",
      "\u001b[0;31mKeyError\u001b[0m: 38362"
     ]
    }
   ],
   "source": [
    "f1=open('x_train_big.pkl', 'wb')\n",
    "f2=open('y_train_big.pkl', 'wb')\n",
    "\n",
    "drug1 = featurizer([split['train']['Drug1'][5]])\n",
    "drug2 = featurizer([split['train']['Drug2'][5]])\n",
    "item = 5\n",
    "if (len(drug1[0])>0 and len(drug2[0])>0 and np.isnan(split['test']['Y'][item]) == False):\n",
    "    x_train = np.transpose(np.array([np.transpose(drug1), np.transpose(drug2)])) \n",
    "    x_train = x_train.reshape(1,64,64,1)\n",
    "#    x_test = np.transpose(np.array([np.transpose(drug1), np.transpose(drug2)]) \n",
    "    y_train = split['train']['Y'][item]\n",
    "\n",
    "control = 1\n",
    "\n",
    "for item in range(6,134265): \n",
    "  #len(split['train']['Drug1']\n",
    "  print(item, end=\"\\r\")\n",
    "  drug1 = featurizer([split['train']['Drug1'][item]])\n",
    "  drug2 = featurizer([split['train']['Drug2'][item]])\n",
    "  if (len(drug1[0])>0 and len(drug2[0])>0 and np.isnan(split['test']['Y'][item]) == False):\n",
    "    print(item, end=\"\\r\")\n",
    "    x = np.transpose(np.array([np.transpose(drug1), np.transpose(drug2)]))\n",
    "    x = x.reshape(1,64,64,1)\n",
    "    x_train = np.append(x_train, x, axis = 0)\n",
    "    y_train = np.append(y_train, split['train']['Y'][item])\n",
    "  else:\n",
    "    print(item)\n",
    "    \n",
    "  if item == control * 2000:\n",
    "    print('pack_unload & freeing memory')\n",
    "    control = control + 1\n",
    "    pkl.dump(x_train, f1)\n",
    "    pkl.dump(y_train, f2)\n",
    "    drug1 = featurizer([split['train']['Drug1'][item]])\n",
    "    drug2 = featurizer([split['train']['Drug2'][item]])\n",
    "    if (len(drug1[0])>0 and len(drug2[0])>0 and np.isnan(split['test']['Y'][item]) == False):\n",
    "        x_train = np.transpose(np.array([np.transpose(drug1), np.transpose(drug2)])) \n",
    "        x_train = x_train.reshape(1,64,64,1)\n",
    "        y_train = split['train']['Y'][item]\n",
    " \n",
    "f1.close()\n",
    "f2.close()"
   ]
  },
  {
   "cell_type": "code",
   "execution_count": null,
   "id": "7b64c0f6",
   "metadata": {},
   "outputs": [],
   "source": [
    "import pickle as pkl\n",
    "# save\n",
    "with open(\"train_small.pkl\", \"wb\") as f:\n",
    "    pkl.dump([x_train, y_train], f)\n",
    "    \n",
    "#with open(\"test_small.pkl\", \"wb\") as f:\n",
    "#    pkl.dump([x_test, y_test], f)"
   ]
  },
  {
   "cell_type": "code",
   "execution_count": null,
   "id": "ff2cea32",
   "metadata": {},
   "outputs": [],
   "source": [
    "with open(\"test_small.pkl\", \"wb\") as f:\n",
    "    pkl.dump([x_test, y_test], f)"
   ]
  },
  {
   "cell_type": "code",
   "execution_count": null,
   "id": "1dfccd34",
   "metadata": {},
   "outputs": [],
   "source": [
    "x_train.shape"
   ]
  },
  {
   "cell_type": "code",
   "execution_count": null,
   "id": "902e870b",
   "metadata": {},
   "outputs": [],
   "source": [
    "drug1[0]"
   ]
  },
  {
   "cell_type": "code",
   "execution_count": null,
   "id": "a5adc542",
   "metadata": {},
   "outputs": [],
   "source": [
    "split['train']['Drug1'][0]"
   ]
  },
  {
   "cell_type": "code",
   "execution_count": null,
   "id": "285b39d7",
   "metadata": {},
   "outputs": [],
   "source": [
    "favi = 'C1=C(N=C(C(=O)N1)C(=O)N)F'\n",
    "oseltamivir = 'CCC(CC)OC1C=C(CC(C1NC(=O)C)N)C(=O)OCC'\n",
    "remdesivir = 'CCC(CC)COC(=O)C(C)NP(=O)(OCC1C(C(C(O1)(C#N)C2=CC=C3N2N=CN=C3N)O)O)OC4=CC=CC=C4'\n",
    "zanamivir = 'CC(=O)NC1C(C=C(OC1C(C(CO)O)O)C(=O)O)N=C(N)N'\n",
    "peramivir = 'CCC(CC)C(C1C(CC(C1O)C(=O)O)N=C(N)N)NC(=O)C'\n",
    "SixMMpr = 'CSC1=NC=NC2=C1N=CN2C3C(C(C(O3)CO)O)O'"
   ]
  },
  {
   "cell_type": "code",
   "execution_count": null,
   "id": "02ea1305",
   "metadata": {},
   "outputs": [],
   "source": [
    "drug1 = featurizer(favi)\n",
    "drug2 = featurizer(oseltamivir)\n",
    "x_test2 = np.transpose(np.array([np.transpose(drug1), np.transpose(drug2)])) \n",
    "x_test2 = x_test2.reshape(1,64,64,1)\n"
   ]
  },
  {
   "cell_type": "code",
   "execution_count": null,
   "id": "cd01f3a1",
   "metadata": {},
   "outputs": [],
   "source": [
    "drug2 = featurizer(remdesivir)\n",
    "x = np.transpose(np.array([np.transpose(drug1), np.transpose(drug2)]))\n",
    "x = x.reshape(1,64,64,1)\n",
    "x_test2 = np.append(x_test2, x, axis = 0)"
   ]
  },
  {
   "cell_type": "code",
   "execution_count": null,
   "id": "7187b257",
   "metadata": {},
   "outputs": [],
   "source": [
    "drug2 = featurizer(zanamivir)\n",
    "x = np.transpose(np.array([np.transpose(drug1), np.transpose(drug2)]))\n",
    "x = x.reshape(1,64,64,1)\n",
    "x_test2 = np.append(x_test2, x, axis = 0)"
   ]
  },
  {
   "cell_type": "code",
   "execution_count": null,
   "id": "86d8772a",
   "metadata": {},
   "outputs": [],
   "source": [
    "drug2 = featurizer(peramivir)\n",
    "x = np.transpose(np.array([np.transpose(drug1), np.transpose(drug2)]))\n",
    "x = x.reshape(1,64,64,1)\n",
    "x_test2 = np.append(x_test2, x, axis = 0)"
   ]
  },
  {
   "cell_type": "code",
   "execution_count": null,
   "id": "80f99871",
   "metadata": {},
   "outputs": [],
   "source": [
    "drug2 = featurizer(SixMMpr)\n",
    "x = np.transpose(np.array([np.transpose(drug1), np.transpose(drug2)]))\n",
    "x = x.reshape(1,64,64,1)\n",
    "x_test2 = np.append(x_test2, x, axis = 0)"
   ]
  },
  {
   "cell_type": "code",
   "execution_count": null,
   "id": "d936402e",
   "metadata": {},
   "outputs": [],
   "source": [
    "with open(\"test_favi.pkl\", \"wb\") as f:\n",
    "    pkl.dump([x_test2], f)"
   ]
  },
  {
   "cell_type": "code",
   "execution_count": 6,
   "id": "4fc82b56",
   "metadata": {},
   "outputs": [],
   "source": [
    "import pickle as pkl\n",
    "#import numpy as np\n",
    "f1=open('x_test_big.pkl', 'rb')\n",
    "f2=open('y_test_big.pkl', 'rb')\n",
    "x_test = np.empty((1,64,64,1))\n",
    "y_test = np.empty((1))\n",
    "while 1:\n",
    "    try:\n",
    "        x_test = np.append(x_test, pkl.load(f1), axis = 0)\n",
    "        y_test = np.append(y_test, pkl.load(f2), axis = 0)\n",
    "    except EOFError:\n",
    "        break\n",
    "f1.close()\n",
    "f2.close()"
   ]
  },
  {
   "cell_type": "code",
   "execution_count": 8,
   "id": "9bee5811",
   "metadata": {},
   "outputs": [
    {
     "data": {
      "text/plain": [
       "86.0"
      ]
     },
     "execution_count": 8,
     "metadata": {},
     "output_type": "execute_result"
    }
   ],
   "source": [
    "np.amax(y_test)"
   ]
  },
  {
   "cell_type": "code",
   "execution_count": 16,
   "id": "8e5f3a99",
   "metadata": {},
   "outputs": [],
   "source": [
    "import numpy as np\n",
    "import pickle as pkl\n",
    "#import numpy as np\n",
    "f1=open('x_train_big.pkl', 'rb')\n",
    "f2=open('y_train_big.pkl', 'rb')\n",
    "x_train = np.empty((1,64,64,1))\n",
    "y_train = np.empty((1))\n",
    "while 1:\n",
    "    try:\n",
    "        x_train = np.append(x_train, pkl.load(f1), axis = 0)\n",
    "        y_train = np.append(y_train, pkl.load(f2), axis = 0)\n",
    "    except EOFError:\n",
    "        break\n",
    "f1.close()\n",
    "f2.close()"
   ]
  },
  {
   "cell_type": "code",
   "execution_count": 6,
   "id": "abd110ab",
   "metadata": {},
   "outputs": [
    {
     "data": {
      "text/plain": [
       "(18256, 64, 64, 1)"
      ]
     },
     "execution_count": 6,
     "metadata": {},
     "output_type": "execute_result"
    }
   ],
   "source": [
    "x_valid.shape"
   ]
  },
  {
   "cell_type": "code",
   "execution_count": 4,
   "id": "05d0ef27",
   "metadata": {},
   "outputs": [
    {
     "data": {
      "text/plain": [
       "numpy.ndarray"
      ]
     },
     "execution_count": 4,
     "metadata": {},
     "output_type": "execute_result"
    }
   ],
   "source": [
    "type(x_train[1:134214, :, : , :])"
   ]
  },
  {
   "cell_type": "code",
   "execution_count": 26,
   "id": "dbef9c04",
   "metadata": {},
   "outputs": [],
   "source": [
    "x_train = np.append(x_train[1:134214, :, :, :], x_valid[1:18256, :, :, :], axis = 0)"
   ]
  },
  {
   "cell_type": "code",
   "execution_count": 11,
   "id": "10818607",
   "metadata": {},
   "outputs": [
    {
     "data": {
      "text/plain": [
       "(152469, 64, 64, 1)"
      ]
     },
     "execution_count": 11,
     "metadata": {},
     "output_type": "execute_result"
    }
   ],
   "source": [
    "x_train.shape"
   ]
  },
  {
   "cell_type": "code",
   "execution_count": 20,
   "id": "4bcca514",
   "metadata": {},
   "outputs": [
    {
     "data": {
      "text/plain": [
       "array([[0]])"
      ]
     },
     "execution_count": 20,
     "metadata": {},
     "output_type": "execute_result"
    }
   ],
   "source": [
    "np.argwhere(np.isnan(y_valid))"
   ]
  },
  {
   "cell_type": "code",
   "execution_count": 28,
   "id": "eaa98807",
   "metadata": {},
   "outputs": [
    {
     "data": {
      "text/plain": [
       "(152468, 64, 64, 1)"
      ]
     },
     "execution_count": 28,
     "metadata": {},
     "output_type": "execute_result"
    }
   ],
   "source": [
    "x_train.shape"
   ]
  },
  {
   "cell_type": "code",
   "execution_count": 46,
   "id": "2763d1d6",
   "metadata": {},
   "outputs": [
    {
     "name": "stdout",
     "output_type": "stream",
     "text": [
      "0\n"
     ]
    }
   ],
   "source": [
    "for item in range(134214):\n",
    "    ss = np.sum(x_train[item])\n",
    "    if np.isnan(ss) == True:\n",
    "        print(item)"
   ]
  },
  {
   "cell_type": "code",
   "execution_count": 29,
   "id": "17013162",
   "metadata": {},
   "outputs": [],
   "source": [
    "index = np.random.permutation(152468)"
   ]
  },
  {
   "cell_type": "code",
   "execution_count": 33,
   "id": "1e6a7f46",
   "metadata": {},
   "outputs": [],
   "source": [
    "with open(\"TRAIN_big.pkl\", \"wb\") as f:\n",
    "    pkl.dump([x_train[index, :, :, :], y_train[index]], f)\n",
    "    \n",
    "f.close()"
   ]
  },
  {
   "cell_type": "code",
   "execution_count": 30,
   "id": "95d5a2c6",
   "metadata": {},
   "outputs": [
    {
     "data": {
      "text/plain": [
       "(152468, 64, 64, 1)"
      ]
     },
     "execution_count": 30,
     "metadata": {},
     "output_type": "execute_result"
    }
   ],
   "source": [
    "X = x_train[index, :, :, :]\n",
    "X.shape"
   ]
  },
  {
   "cell_type": "code",
   "execution_count": 35,
   "id": "3689ec76",
   "metadata": {},
   "outputs": [
    {
     "data": {
      "text/plain": [
       "86.0"
      ]
     },
     "execution_count": 35,
     "metadata": {},
     "output_type": "execute_result"
    }
   ],
   "source": [
    "np.amax(y_train[index])"
   ]
  },
  {
   "cell_type": "code",
   "execution_count": null,
   "id": "032a06ba",
   "metadata": {},
   "outputs": [],
   "source": []
  }
 ],
 "metadata": {
  "kernelspec": {
   "display_name": "Python 3 (ipykernel)",
   "language": "python",
   "name": "python3"
  },
  "language_info": {
   "codemirror_mode": {
    "name": "ipython",
    "version": 3
   },
   "file_extension": ".py",
   "mimetype": "text/x-python",
   "name": "python",
   "nbconvert_exporter": "python",
   "pygments_lexer": "ipython3",
   "version": "3.9.12"
  }
 },
 "nbformat": 4,
 "nbformat_minor": 5
}
